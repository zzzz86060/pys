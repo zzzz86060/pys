{
 "cells": [
  {
   "metadata": {},
   "cell_type": "markdown",
   "source": "# 决策树鸢尾花分类\n",
   "id": "4461519a3c66fd52"
  },
  {
   "metadata": {
    "ExecuteTime": {
     "end_time": "2024-05-09T03:24:17.354975Z",
     "start_time": "2024-05-09T03:24:12.827434Z"
    }
   },
   "cell_type": "code",
   "source": [
    "from sklearn.datasets import load_iris\n",
    "import numpy as np\n",
    "from sklearn.model_selection import train_test_split\n",
    "from sklearn.tree import DecisionTreeClassifier\n",
    "from sklearn.metrics import accuracy_score\n",
    "import matplotlib.pyplot as plt\n"
   ],
   "id": "87e4e73983db2455",
   "execution_count": 1,
   "outputs": []
  },
  {
   "metadata": {
    "ExecuteTime": {
     "end_time": "2024-05-09T03:24:17.386963Z",
     "start_time": "2024-05-09T03:24:17.356955Z"
    }
   },
   "cell_type": "code",
   "source": [
    "x,y = load_iris().data[:,2:4],load_iris().target\n",
    "x_train,x_test,y_train,y_test = train_test_split(x,y,test_size=50,random_state=0)\n"
   ],
   "id": "94c21232aca4e72a",
   "execution_count": 2,
   "outputs": []
  },
  {
   "metadata": {
    "ExecuteTime": {
     "end_time": "2024-05-09T03:24:17.562220Z",
     "start_time": "2024-05-09T03:24:17.388941Z"
    }
   },
   "cell_type": "code",
   "source": [
    "\n",
    "depth = np.arange(1,15)\n",
    "err_list = []\n",
    "for i in depth:\n",
    "    model = DecisionTreeClassifier(criterion='entropy',max_depth=i)\n",
    "    model.fit(x_train,y_train)\n",
    "    pred = model.predict(x_test)\n",
    "    ac = accuracy_score(y_test,pred)\n",
    "    err = 1-ac\n",
    "    err_list.append(err)\n",
    "    \n",
    "plt.plot(depth,err_list,'ro-')\n",
    "plt.xlabel('depth of the tree')\n",
    "plt.ylabel('predicted error rate')\n",
    "plt.show()"
   ],
   "id": "b34b516dbe8fb2bc",
   "execution_count": 3,
   "outputs": []
  },
  {
   "metadata": {
    "ExecuteTime": {
     "end_time": "2024-05-09T03:24:17.578222Z",
     "start_time": "2024-05-09T03:24:17.563221Z"
    }
   },
   "cell_type": "code",
   "source": [
    "model = DecisionTreeClassifier(criterion='entropy',max_depth=3)\n",
    "model.fit(x_train,y_train)\n",
    "pred = model.predict(x_test)\n",
    "ac = accuracy_score(y_test,pred)\n",
    "print('模型预测准确率',ac)"
   ],
   "id": "a75535599b9d0799",
   "execution_count": 4,
   "outputs": []
  },
  {
   "metadata": {
    "ExecuteTime": {
     "end_time": "2024-05-09T03:24:17.831891Z",
     "start_time": "2024-05-09T03:24:17.580221Z"
    }
   },
   "cell_type": "code",
   "source": [
    "from matplotlib.colors import ListedColormap\n",
    "N,M = 500,500\n",
    "t1 = np.linspace(0,8,N)\n",
    "t2 = np.linspace(0,3,M)\n",
    "x1,x2 = np.meshgrid(t1,t2)\n",
    "x_new = np.stack((x1.flatten(),x2.flatten()),axis=1)\n",
    "y_predict = model.predict(x_new)\n",
    "y_hat = y_predict.reshape(x1.shape)\n",
    "iris_cmap = ListedColormap(['#ACC6c0','#FF8080','#A0A0FF'])\n",
    "plt.pcolormesh(x1,x2,y_hat,cmap=iris_cmap)\n",
    "plt.scatter(x[y ==0,0],x[y ==0,1],c='g',s=60,marker='o')\n",
    "plt.scatter(x[y ==1,0],x[y ==1,1],c='r',s=60,marker='v')\n",
    "plt.scatter(x[y ==2,0],x[y ==2,1],c='b',s=60,marker='*')\n",
    "plt.show()"
   ],
   "id": "369872eda17ac154",
   "execution_count": 5,
   "outputs": []
  },
  {
   "metadata": {
    "ExecuteTime": {
     "end_time": "2024-05-09T03:24:17.939891Z",
     "start_time": "2024-05-09T03:24:17.832884Z"
    }
   },
   "cell_type": "code",
   "source": [
    "from sklearn.tree import DecisionTreeRegressor\n",
    "x = np.array([[1],[2],[3],[5],[7]])\n",
    "y = np.array([[4],[8],[9],[10],[19]])\n",
    "\n",
    "depth = np.arange(1,10)\n",
    "err_list = []\n",
    "for i in depth:\n",
    "    model = DecisionTreeClassifier(criterion='entropy',max_depth=i)\n",
    "    model.fit(x_train,y_train)\n",
    "    pred = model.predict(x_test)\n",
    "    ac = accuracy_score(y_test,pred)\n",
    "    err = 1-ac\n",
    "    err_list.append(err)\n",
    "\n",
    "plt.plot(depth,err_list,'bo--')\n",
    "plt.xlabel('depth')\n",
    "plt.ylabel('error rate')\n",
    "plt.show()"
   ],
   "id": "4b9b8803f4a8fc02",
   "execution_count": 6,
   "outputs": []
  },
  {
   "metadata": {},
   "cell_type": "markdown",
   "source": "# 决策树解决分类\n",
   "id": "b5c4eed2137c57c7"
  },
  {
   "metadata": {
    "ExecuteTime": {
     "end_time": "2024-05-09T03:24:18.493639Z",
     "start_time": "2024-05-09T03:24:17.941894Z"
    }
   },
   "cell_type": "code",
   "source": [
    "import pandas as pd\n",
    "names = ['age','height','weight','gender']\n",
    "dataset = pd.read_csv(\"gender-data-y.txt\",delimiter=',',names= names)\n",
    "print('客户信息数据集为:',dataset)"
   ],
   "id": "9d0623dc9a736bd2",
   "execution_count": 7,
   "outputs": []
  },
  {
   "metadata": {
    "ExecuteTime": {
     "end_time": "2024-05-09T03:24:18.508642Z",
     "start_time": "2024-05-09T03:24:18.494633Z"
    }
   },
   "cell_type": "code",
   "source": [
    "from sklearn import preprocessing\n",
    "\n",
    "dataset['height'] = dataset['height'].astype(float)\n",
    "dataset['weight'] = dataset['weight'].astype(float)\n",
    "\n",
    "label = preprocessing.LabelEncoder()\n",
    "dataset['label'] = label.fit_transform(dataset['gender'])\n",
    "print('经过处理后数据集为：\\n',dataset)"
   ],
   "id": "4899900872ad8e81",
   "execution_count": 8,
   "outputs": []
  },
  {
   "metadata": {
    "ExecuteTime": {
     "end_time": "2024-05-09T03:24:18.620655Z",
     "start_time": "2024-05-09T03:24:18.509634Z"
    }
   },
   "cell_type": "code",
   "source": [
    "import matplotlib.pyplot as plt\n",
    "data = dataset.iloc[:,range(1,3)].values\n",
    "target = dataset.iloc[:,range(4,5)].values.reshape(1,100)[0]\n",
    "\n",
    "plt.scatter(data[target == 0,0],data[target == 0,1],c='r',s=60,marker='o')\n",
    "plt.scatter(data[target == 1,0],data[target == 1,1],c='b',s=60,marker='*')\n",
    "\n",
    "plt.xlabel('Height/cm')\n",
    "plt.ylabel('weight/kg')\n",
    "plt.show()"
   ],
   "id": "7d783364e2a78873",
   "execution_count": 9,
   "outputs": []
  },
  {
   "metadata": {
    "ExecuteTime": {
     "end_time": "2024-05-09T03:24:18.636656Z",
     "start_time": "2024-05-09T03:24:18.622639Z"
    }
   },
   "cell_type": "code",
   "source": [
    "from sklearn.model_selection import train_test_split\n",
    "from sklearn.tree import DecisionTreeClassifier\n",
    "from sklearn.metrics import accuracy_score\n",
    "import numpy as py\n",
    "\n",
    "x,y = data,target\n",
    "x_train,x_test,y_train,y_test = train_test_split(x,y,test_size=0.3,random_state=0)"
   ],
   "id": "cf295789a64a55c6",
   "execution_count": 10,
   "outputs": []
  },
  {
   "metadata": {
    "ExecuteTime": {
     "end_time": "2024-05-09T03:24:18.652641Z",
     "start_time": "2024-05-09T03:24:18.637665Z"
    }
   },
   "cell_type": "code",
   "source": [
    "from sklearn.metrics import classification_report\n",
    "model = DecisionTreeClassifier(criterion='entropy',max_depth=5)\n",
    "model.fit(x_train,y_train)\n",
    "pred = model.predict(x_test)\n",
    "re = classification_report(y_test,pred)\n",
    "print('模型预测的评估报告为：\\n',re)"
   ],
   "id": "6785dfc39f543828",
   "execution_count": 11,
   "outputs": []
  },
  {
   "metadata": {
    "ExecuteTime": {
     "end_time": "2024-05-09T03:24:18.888304Z",
     "start_time": "2024-05-09T03:24:18.654634Z"
    }
   },
   "cell_type": "code",
   "source": [
    "from matplotlib.colors import ListedColormap\n",
    "N,M = 500,500\n",
    "t1 = np.linspace(140,195,N)\n",
    "t2 = np.linspace(30,90,M)\n",
    "x1,x2 = np.meshgrid(t1,t2)\n",
    "x_new = np.stack((x1.flatten(),x2.flatten()),axis=1)\n",
    "y_predict = model.predict(x_new)\n",
    "y_hat = y_predict.reshape(x1.shape)\n",
    "iris_cmap = ListedColormap(['#ACC6c0','#FF8080'])\n",
    "plt.pcolormesh(x1,x2,y_hat,cmap=iris_cmap)\n",
    "plt.scatter(x[y ==0,0],x[y ==0,1],c='r',s=60,marker='o')\n",
    "plt.scatter(x[y ==1,0],x[y ==1,1],c='b',s=60,marker='s')\n",
    "plt.xlabel('Height/cm')\n",
    "plt.ylabel('weight/kg')\n",
    "plt.show()"
   ],
   "id": "3efaf67826bd5057",
   "execution_count": 12,
   "outputs": []
  }
 ],
 "metadata": {
  "kernelspec": {
   "display_name": "Python 3",
   "language": "python",
   "name": "python3"
  },
  "language_info": {
   "codemirror_mode": {
    "name": "ipython",
    "version": 2
   },
   "file_extension": ".py",
   "mimetype": "text/x-python",
   "name": "python",
   "nbconvert_exporter": "python",
   "pygments_lexer": "ipython2",
   "version": "2.7.6"
  }
 },
 "nbformat": 4,
 "nbformat_minor": 5
}
