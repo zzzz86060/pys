{
 "cells": [
  {
   "cell_type": "code",
   "id": "initial_id",
   "metadata": {
    "collapsed": true,
    "ExecuteTime": {
     "end_time": "2024-06-06T02:25:37.701452Z",
     "start_time": "2024-06-06T02:25:26.514614Z"
    }
   },
   "source": [
    "import paddle\n",
    "from paddle.nn import Linear\n",
    "import paddle.nn.functional as F\n",
    "import numpy as np\n",
    "import matplotlib.pyplot as plt\n",
    "\n",
    "train_dataset = paddle.vision.datasets.MNIST(mode='train')\n",
    "\n",
    "train_data_0 = np.array(train_dataset[0][0])\n",
    "train_label_0 = np.array(train_dataset[0][1])\n",
    "\n",
    "plt.figure(\"Image\")\n",
    "plt.figure(figsize=(3, 3))\n",
    "plt.imshow(train_data_0, cmap=plt.cm.binary)\n",
    "plt.title('image')\n",
    "plt.show()\n",
    "\n",
    "print('图像数据的形状大小为', train_data_0.shape)\n",
    "print('图像数据的标签为', train_label_0)\n",
    "\n",
    "\n",
    "class MNIST(paddle.nn.Layer):\n",
    "    def __init__(self):\n",
    "        super(MNIST, self).__init__()\n",
    "        self.fc = paddle.nn.Linear(in_features=784, out_features=1)\n",
    "\n",
    "    def forward(self, inputs):\n",
    "        outputs = self.fc(inputs)\n",
    "        return outputs\n",
    "\n",
    "\n",
    "def norm_img(img):\n",
    "    assert len(img.shape) == 3\n",
    "    batch_size, img_h, img_w = img.shape[0], img.shape[1], img.shape[2]\n",
    "\n",
    "    img = img / 255\n",
    "\n",
    "    img = paddle.reshape(img, [batch_size, img_w * img_h])\n",
    "    return img\n",
    "\n",
    "\n",
    "paddle.vision.set_image_backend('cv2')\n",
    "model = MNIST()\n",
    "\n",
    "\n",
    "def train(model):\n",
    "    model.train()\n",
    "    train_loader = paddle.io.DataLoader(paddle.vision.datasets.MNIST(mode='train'), batch_size=16, shuffle=True)\n",
    "    opt = paddle.optimizer.SGD(learning_rate=0.001, parameters=model.parameters())\n",
    "\n",
    "    EPOCH_NUM = 10\n",
    "    loss_list = []\n",
    "    for epoch in range(EPOCH_NUM):\n",
    "        for batch_id, data in enumerate(train_loader()):\n",
    "            images = norm_img(data[0]).astype('float32')\n",
    "            labels = data[1].astype('float32')\n",
    "\n",
    "            predicts = model(images)\n",
    "\n",
    "            loss = F.square_error_cost(predicts, labels)\n",
    "            avg_loss = paddle.mean(loss)\n",
    "\n",
    "            if batch_id % 600 == 0:\n",
    "                loss_val = avg_loss.numpy()[0]\n",
    "                print('epoch_id:{}, batch_id:{}, loss is :{}'.format(epoch, batch_id, loss_val))\n",
    "\n",
    "            avg_loss.backward()\n",
    "            opt.step()\n",
    "            opt.clear_grad()\n",
    "\n",
    "    return loss_list\n",
    "\n",
    "lost_list = train(model)\n",
    "\n",
    "\n",
    "def plot(loss_list):\n",
    "    plt.figure(figsize=(8, 4))\n",
    "    freqs = range(len(loss_list))\n",
    "\n",
    "    plt.plot(freqs, loss_list, color='r', label=\"Train loss\")\n",
    "    plt.xlabel('freq')\n",
    "    plt.ylabel('loss')\n",
    "    plt.legend()\n",
    "    plt.show()\n",
    "\n",
    "plot(lost_list)\n",
    "\n"
   ],
   "outputs": [
    {
     "data": {
      "text/plain": [
       "<Figure size 640x480 with 0 Axes>"
      ]
     },
     "metadata": {},
     "output_type": "display_data"
    },
    {
     "data": {
      "text/plain": [
       "<Figure size 300x300 with 1 Axes>"
      ],
      "image/png": "[encoded data removed]"
     },
     "metadata": {},
     "output_type": "display_data"
    },
    {
     "name": "stdout",
     "output_type": "stream",
     "text": [
      "图像数据的形状大小为 (28, 28)\n",
      "图像数据的标签为 [5]\n"
     ]
    },
    {
     "ename": "IndexError",
     "evalue": "too many indices for array: array is 0-dimensional, but 1 were indexed",
     "output_type": "error",
     "traceback": [
      "\u001B[1;31m---------------------------------------------------------------------------\u001B[0m",
      "\u001B[1;31mIndexError\u001B[0m                                Traceback (most recent call last)",
      "Cell \u001B[1;32mIn[1], line 73\u001B[0m\n\u001B[0;32m     69\u001B[0m             opt\u001B[38;5;241m.\u001B[39mclear_grad()\n\u001B[0;32m     71\u001B[0m     \u001B[38;5;28;01mreturn\u001B[39;00m loss_list\n\u001B[1;32m---> 73\u001B[0m lost_list \u001B[38;5;241m=\u001B[39m \u001B[43mtrain\u001B[49m\u001B[43m(\u001B[49m\u001B[43mmodel\u001B[49m\u001B[43m)\u001B[49m\n\u001B[0;32m     76\u001B[0m \u001B[38;5;28;01mdef\u001B[39;00m \u001B[38;5;21mplot\u001B[39m(loss_list):\n\u001B[0;32m     77\u001B[0m     plt\u001B[38;5;241m.\u001B[39mfigure(figsize\u001B[38;5;241m=\u001B[39m(\u001B[38;5;241m8\u001B[39m, \u001B[38;5;241m4\u001B[39m))\n",
      "Cell \u001B[1;32mIn[1], line 64\u001B[0m, in \u001B[0;36mtrain\u001B[1;34m(model)\u001B[0m\n\u001B[0;32m     61\u001B[0m avg_loss \u001B[38;5;241m=\u001B[39m paddle\u001B[38;5;241m.\u001B[39mmean(loss)\n\u001B[0;32m     63\u001B[0m \u001B[38;5;28;01mif\u001B[39;00m batch_id \u001B[38;5;241m%\u001B[39m \u001B[38;5;241m600\u001B[39m \u001B[38;5;241m==\u001B[39m \u001B[38;5;241m0\u001B[39m:\n\u001B[1;32m---> 64\u001B[0m     loss_val \u001B[38;5;241m=\u001B[39m \u001B[43mavg_loss\u001B[49m\u001B[38;5;241;43m.\u001B[39;49m\u001B[43mnumpy\u001B[49m\u001B[43m(\u001B[49m\u001B[43m)\u001B[49m\u001B[43m[\u001B[49m\u001B[38;5;241;43m0\u001B[39;49m\u001B[43m]\u001B[49m\n\u001B[0;32m     65\u001B[0m     \u001B[38;5;28mprint\u001B[39m(\u001B[38;5;124m'\u001B[39m\u001B[38;5;124mepoch_id:\u001B[39m\u001B[38;5;132;01m{}\u001B[39;00m\u001B[38;5;124m, batch_id:\u001B[39m\u001B[38;5;132;01m{}\u001B[39;00m\u001B[38;5;124m, loss is :\u001B[39m\u001B[38;5;132;01m{}\u001B[39;00m\u001B[38;5;124m'\u001B[39m\u001B[38;5;241m.\u001B[39mformat(epoch, batch_id, loss_val))\n\u001B[0;32m     67\u001B[0m avg_loss\u001B[38;5;241m.\u001B[39mbackward()\n",
      "\u001B[1;31mIndexError\u001B[0m: too many indices for array: array is 0-dimensional, but 1 were indexed"
     ]
    }
   ],
   "execution_count": 1
  },
  {
   "cell_type": "code",
   "source": [],
   "metadata": {
    "collapsed": false
   },
   "id": "84a918957317d196",
   "execution_count": null,
   "outputs": []
  }
 ],
 "metadata": {
  "kernelspec": {
   "display_name": "Python 3",
   "language": "python",
   "name": "python3"
  },
  "language_info": {
   "codemirror_mode": {
    "name": "ipython",
    "version": 2
   },
   "file_extension": ".py",
   "mimetype": "text/x-python",
   "name": "python",
   "nbconvert_exporter": "python",
   "pygments_lexer": "ipython2",
   "version": "2.7.6"
  }
 },
 "nbformat": 4,
 "nbformat_minor": 5
}
