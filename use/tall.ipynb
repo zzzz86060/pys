{
 "cells": [
  {
   "cell_type": "markdown",
   "source": [
    "# knn用于回归"
   ],
   "metadata": {
    "collapsed": false
   },
   "id": "77a6db8190f683b1"
  },
  {
   "cell_type": "code",
   "source": [
    "import numpy as np\n",
    "from sklearn.neighbors import KNeighborsRegressor\n",
    "from sklearn.model_selection import train_test_split\n",
    "from sklearn.model_selection import cross_val_score\n",
    "import matplotlib.pyplot as plt"
   ],
   "metadata": {
    "collapsed": false,
    "ExecuteTime": {
     "end_time": "2024-04-02T04:01:15.084814Z",
     "start_time": "2024-04-02T04:01:15.065811Z"
    }
   },
   "id": "14d8e7e1d15e2e33",
   "execution_count": 34,
   "outputs": []
  },
  {
   "cell_type": "code",
   "source": [
    "x = np.array([[182],[178],[170],[168],[165],[162],[158],[154],[149],[144]])\n",
    "y = np.array([[113],[105],[86],[83],[86],[74],[72],[45],[49],[43]])\n",
    "\n",
    "x_train, x_test, y_train, y_test = train_test_split(x, y, test_size=0.3, random_state=0)\n",
    "x_train.shape"
   ],
   "metadata": {
    "collapsed": false,
    "ExecuteTime": {
     "end_time": "2024-04-02T04:01:15.100851Z",
     "start_time": "2024-04-02T04:01:15.086797Z"
    }
   },
   "id": "8362ed760dfaa2a5",
   "execution_count": 35,
   "outputs": []
  },
  {
   "cell_type": "code",
   "source": [
    "k_range = range(2,8)\n",
    "k_error = []\n",
    "for k in k_range:\n",
    "    model = KNeighborsRegressor(n_neighbors=k)\n",
    "    model.fit(x_train, y_train)\n",
    "    scores = model.score(x_test, y_test)\n",
    "    k_error.append(1-scores)\n"
   ],
   "metadata": {
    "collapsed": false,
    "ExecuteTime": {
     "end_time": "2024-04-02T04:01:15.131565Z",
     "start_time": "2024-04-02T04:01:15.115348Z"
    }
   },
   "id": "5d002eef3df0699f",
   "execution_count": 36,
   "outputs": []
  },
  {
   "cell_type": "code",
   "source": [
    "plt.plot(k_range,k_error,'r-')\n",
    "plt.xlabel('The value of k')\n",
    "plt.ylabel('Predicted Error Rate')\n",
    "plt.title('The selection of k')\n",
    "plt.savefig('imp4-1.png',dpi=300)\n",
    "plt.show()\n",
    "\n",
    "\n"
   ],
   "metadata": {
    "collapsed": false,
    "ExecuteTime": {
     "end_time": "2024-04-02T04:01:15.379807Z",
     "start_time": "2024-04-02T04:01:15.133510Z"
    }
   },
   "id": "41a76a9cb39b9fd3",
   "execution_count": 37,
   "outputs": []
  },
  {
   "cell_type": "code",
   "source": [
    "model = KNeighborsRegressor(n_neighbors=3)\n",
    "model.fit(x_train, y_train)\n",
    "\n",
    "plt.xlabel('Height(cm)')\n",
    "plt.ylabel('Weight(kg)')\n",
    "\n",
    "plt.plot(x,model.predict(x),'g-')\n",
    "plt.scatter(x_train, y_train, c='r', marker='*')\n",
    "plt.show()"
   ],
   "metadata": {
    "collapsed": false,
    "ExecuteTime": {
     "end_time": "2024-04-02T04:01:15.488500Z",
     "start_time": "2024-04-02T04:01:15.381790Z"
    }
   },
   "id": "46967c602322d9a9",
   "execution_count": 38,
   "outputs": []
  },
  {
   "cell_type": "code",
   "source": [
    "pred = model.predict([[173]])\n",
    "print('身高173的学生体重预测为:',pred)"
   ],
   "metadata": {
    "collapsed": false,
    "ExecuteTime": {
     "end_time": "2024-04-02T04:01:15.504572Z",
     "start_time": "2024-04-02T04:01:15.491485Z"
    }
   },
   "id": "d9d30fed22da4856",
   "execution_count": 39,
   "outputs": []
  },
  {
   "metadata": {},
   "cell_type": "code",
   "outputs": [],
   "execution_count": null,
   "source": [
    "# k近邻算法\n",
    "\n",
    "#数据标准化\n",
    "data = dataset.iloc[:, range(0,7)]\n",
    "target = dataset.iloc[:, -1].values.reshape(1,210)[0]\n",
    "print(type(target),target)\n",
    "x, y = data, target\n",
    "x_train, x_test, y_train, y_test = train_test_split(x, y, random_state=42, test_size=0.3)\n",
    "\n",
    "#模型创建与训练\n",
    "k_range = range(1,20)\n",
    "k_error = []\n",
    "for k in k_range:\n",
    "    model2 = KNeighborsClassifier(n_neighbors=k)\n",
    "    scores = cross_val_score(model, x, y, cv=5, scoring='accuracy')\n",
    "    k_error.append(1-scores.mean())\n",
    "plt.plot(k_range, k_error, 'r--')\n",
    "plt.xlabel('the value of k')\n",
    "plt.ylabel('the predicted error rate')\n",
    "plt.show()\n",
    "model2 = KNeighborsClassifier(n_neighbors=10) #选取最优k值\n",
    "model2.fit(x_train, y_train)\n",
    "\n",
    "#预测\n",
    "pred = model2.predict(x_test)\n",
    "ac = accuracy_score(y_test, pred)\n",
    "print('k=9时预测模型的准确率:', ac)\n",
    "print('测试集的预测标签值为:', pred)\n",
    "print('测试集的真实标签值为:', y_test)\n",
    "\n",
    "#仅选择两个特征用于可视化\n",
    "data = dataset.iloc[:, range(0,2)] #选择特征area与perimeter\n",
    "target = dataset.iloc[:, -1].values.reshape(1,210)[0]\n",
    "x, y = data, target\n",
    "x_train, x_test, y_train, y_test = train_test_split(x, y, random_state=42, test_size=0.3)\n",
    "model2 = KNeighborsClassifier(n_neighbors=10) #选取最优k值\n",
    "model2.fit(x_train, y_train)\n",
    "\n",
    "plt.scatter(x_test['area'], x_test['perimeter'], c=y_test)\n",
    "h = .02\n",
    "x_min, x_max = x['area'].min() - 1, x['area'].max() + 1\n",
    "y_min, y_max = x['perimeter'].min() - 1, x['perimeter'].max() + 1\n",
    "xx, yy = np.meshgrid(np.arange(x_min, x_max, h), np.arange(y_min, y_max, h))\n",
    "Z = model2.predict(np.c_[xx.ravel(), yy.ravel()])\n",
    "Z = Z.reshape(xx.shape)\n",
    "plt.contourf(xx, yy, Z, alpha=0.2, cmap=plt.cm.Paired)\n",
    "plt.xlabel('Area')\n",
    "plt.ylabel('Perimeter')\n",
    "plt.title('Scatter plot of Area vs Perimeter')\n",
    "plt.show()\n",
    "\n"
   ],
   "id": "4ba50ad0e4e2c090"
  }
 ],
 "metadata": {
  "kernelspec": {
   "display_name": "Python 3",
   "language": "python",
   "name": "python3"
  },
  "language_info": {
   "codemirror_mode": {
    "name": "ipython",
    "version": 2
   },
   "file_extension": ".py",
   "mimetype": "text/x-python",
   "name": "python",
   "nbconvert_exporter": "python",
   "pygments_lexer": "ipython2",
   "version": "2.7.6"
  }
 },
 "nbformat": 4,
 "nbformat_minor": 5
}
