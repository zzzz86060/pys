{
 "cells": [
  {
   "metadata": {},
   "cell_type": "markdown",
   "source": "### 朴素贝叶斯 鸢尾花\n",
   "id": "97fcbcb7d529aea"
  },
  {
   "metadata": {
    "jupyter": {
     "is_executing": true
    }
   },
   "cell_type": "code",
   "source": [
    "from sklearn.datasets import load_iris\n",
    "from sklearn.model_selection import train_test_split\n",
    "from sklearn.naive_bayes import GaussianNB\n",
    "from sklearn.metrics import accuracy_score\n",
    "\n",
    "x,y = load_iris().data,load_iris().target\n",
    "x_train,x_test,y_train,y_test = train_test_split(x,y,random_state=1,test_size=50)\n",
    "len(x_test)\n",
    "\n",
    "\n",
    "#训练模型\n",
    "model = GaussianNB()\n",
    "model.fit(x_train,y_train)\n",
    "\n",
    "#评估\n",
    "pred = model.predict(x_test)\n",
    "print('预测集数据的预测标签是：',pred)\n",
    "print('测试机数据的真实标签是:',y_test)\n",
    "acc = accuracy_score(y_test,pred)\n",
    "print('预测的准确率是：',acc)\n",
    "sum(pred!=y_test)"
   ],
   "id": "e51866bf1485c641",
   "execution_count": null,
   "outputs": []
  },
  {
   "metadata": {},
   "cell_type": "markdown",
   "source": "# 垃圾邮件",
   "id": "fdff3082d250a0a0"
  },
  {
   "metadata": {
    "ExecuteTime": {
     "end_time": "2024-04-23T02:57:07.440306Z",
     "start_time": "2024-04-23T02:57:07.425323Z"
    }
   },
   "cell_type": "code",
   "source": [
    "import os \n",
    "normalFileList = os.listdir('../bayes/normal')\n",
    "spamFileList = os.listdir('../bayes/spam')\n",
    "print('正常邮件列表为：',normalFileList)\n",
    "print('垃圾邮件列表为：',spamFileList)"
   ],
   "id": "ed319db6be7ee7b0",
   "execution_count": 1,
   "outputs": []
  },
  {
   "metadata": {
    "ExecuteTime": {
     "end_time": "2024-04-23T02:57:25.319666Z",
     "start_time": "2024-04-23T02:57:25.304535Z"
    }
   },
   "cell_type": "code",
   "source": [
    "stopList = []\n",
    "for line in open('../bayes/stopwords.txt','r',encoding='utf-8'):\n",
    "    stopList.append(line[:len(line) - 1])\n",
    "print(stopList)"
   ],
   "id": "344f0c1b2584c3d1",
   "execution_count": 4,
   "outputs": []
  },
  {
   "metadata": {
    "ExecuteTime": {
     "end_time": "2024-04-23T02:57:27.039149Z",
     "start_time": "2024-04-23T02:57:27.010557Z"
    }
   },
   "cell_type": "code",
   "source": [
    "from jieba import cut\n",
    "from re import sub\n",
    "\n",
    "def getWord(file,stopList):\n",
    "    wordslist = []\n",
    "    for line in open(file,encoding='utf-8'):\n",
    "        line = line.strip()\n",
    "        line = sub(r'[.【】0-9、——，。！\\~*]','',line)\n",
    "        line = cut(line)\n",
    "        line = filter(lambda word:len(word) > 1,line)\n",
    "        wordslist.extend(line)\n",
    "        words = []\n",
    "        for i in wordslist:\n",
    "            if i not in stopList and i.strip() != '' and i != None:\n",
    "                words.append(i)\n",
    "                \n",
    "    return words\n",
    "        "
   ],
   "id": "cb70acbc06129f6a",
   "execution_count": 5,
   "outputs": []
  },
  {
   "metadata": {
    "ExecuteTime": {
     "end_time": "2024-04-23T02:57:47.680384Z",
     "start_time": "2024-04-23T02:57:46.844383Z"
    }
   },
   "cell_type": "code",
   "source": [
    "from collections import Counter\n",
    "from itertools import chain\n",
    "\n",
    "allwords = []\n",
    "for normalfile in normalFileList:\n",
    "    words = getWord('../bayes/normal/'+normalfile,stopList)\n",
    "    allwords.append(words)\n",
    "for spamfile in spamFileList:\n",
    "    words = getWord('../bayes/spam/'+spamfile,stopList)\n",
    "    allwords.append(words)\n",
    "print('训练集中所有的有效词语列表：',allwords)"
   ],
   "id": "419d7e7b49c8f8f8",
   "execution_count": 7,
   "outputs": []
  },
  {
   "metadata": {
    "ExecuteTime": {
     "end_time": "2024-04-23T03:00:23.875167Z",
     "start_time": "2024-04-23T03:00:23.863155Z"
    }
   },
   "cell_type": "code",
   "source": [
    "frep = Counter(chain(*allwords))\n",
    "topTen = frep.most_common(10)\n",
    "topTen\n",
    "topWords = [i[0] for i in topTen]\n",
    "print('训练集中出现频率最高的10个词语是：',topWords)\n"
   ],
   "id": "263a849d6f6341a7",
   "execution_count": 12,
   "outputs": []
  },
  {
   "metadata": {
    "ExecuteTime": {
     "end_time": "2024-04-23T03:20:28.209177Z",
     "start_time": "2024-04-23T03:20:28.191181Z"
    }
   },
   "cell_type": "code",
   "source": [
    "import numpy as np\n",
    "vector = []\n",
    "for words in allwords:\n",
    "    temp = list(map(lambda x:words.count(x),topWords))\n",
    "    vector.append(temp)\n",
    "vector = np.array(vector)\n",
    "print('10个高频词语在每封邮件中出现的次数：\\n',vector)"
   ],
   "id": "46e8add417e441c5",
   "execution_count": 13,
   "outputs": []
  },
  {
   "metadata": {
    "ExecuteTime": {
     "end_time": "2024-04-23T03:25:03.475273Z",
     "start_time": "2024-04-23T03:25:03.461194Z"
    }
   },
   "cell_type": "code",
   "source": [
    "from sklearn.naive_bayes import MultinomialNB\n",
    "\n",
    "target = np.array([0,0,0,0,0,0,0,0,0,1,1,1,1,1,1,1,1,1])\n",
    "\n",
    "x,y = vector,target\n",
    "model = MultinomialNB()\n",
    "model.fit(x,y)\n"
   ],
   "id": "3ead09ce018d584e",
   "execution_count": 14,
   "outputs": []
  },
  {
   "metadata": {
    "ExecuteTime": {
     "end_time": "2024-04-23T03:29:50.934281Z",
     "start_time": "2024-04-23T03:29:50.916263Z"
    }
   },
   "cell_type": "code",
   "source": [
    "test = os.listdir('../bayes/test')\n",
    "for testFile in test:\n",
    "    words = getWord('../bayes/test/'+testFile,stopList)\n",
    "    test_x = np.array(tuple(map(lambda word:words.count(word),topWords)))\n",
    "    result = model.predict(test_x.reshape(1,-1))\n",
    "    if result == 1:\n",
    "        print(testFile,'为垃圾邮件')\n",
    "    else:\n",
    "        print(testFile,'为正常邮件')"
   ],
   "id": "bd28e408c64dea2c",
   "execution_count": 15,
   "outputs": []
  }
 ],
 "metadata": {
  "kernelspec": {
   "display_name": "Python 3",
   "language": "python",
   "name": "python3"
  },
  "language_info": {
   "codemirror_mode": {
    "name": "ipython",
    "version": 2
   },
   "file_extension": ".py",
   "mimetype": "text/x-python",
   "name": "python",
   "nbconvert_exporter": "python",
   "pygments_lexer": "ipython2",
   "version": "2.7.6"
  }
 },
 "nbformat": 4,
 "nbformat_minor": 5
}
