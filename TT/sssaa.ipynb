{
 "cells": [
  {
   "cell_type": "code",
   "execution_count": 393,
   "id": "initial_id",
   "metadata": {
    "collapsed": true,
    "ExecuteTime": {
     "end_time": "2024-03-26T05:06:55.634589Z",
     "start_time": "2024-03-26T05:06:55.626517Z"
    }
   },
   "source": [
    "import numpy as np\n",
    "from sklearn.linear_model import LogisticRegression\n"
   ],
   "outputs": []
  },
  {
   "cell_type": "code",
   "source": [
    "x = np.array([[2,3],[3,4],[6,5],[4,4],[3,2],[4,7],[5,4],[4,3],[7,5],[3,3],[4,4],[5,2]])\n",
    "y = np.array([[1],[1],[1],[1],[1],[1],[0],[0],[0],[0],[0],[0]])"
   ],
   "metadata": {
    "collapsed": false,
    "ExecuteTime": {
     "end_time": "2024-03-26T05:06:55.650357Z",
     "start_time": "2024-03-26T05:06:55.642685Z"
    }
   },
   "id": "b086190f907fc614",
   "execution_count": 394,
   "outputs": []
  },
  {
   "cell_type": "code",
   "source": [
    "model = LogisticRegression()\n",
    "model.fit(x,y.ravel())\n",
    "print('w=',model.coef_,'b=',model.intercept_)"
   ],
   "metadata": {
    "collapsed": false,
    "ExecuteTime": {
     "end_time": "2024-03-26T05:06:55.665859Z",
     "start_time": "2024-03-26T05:06:55.652320Z"
    }
   },
   "id": "1f886d6fbf8a9712",
   "execution_count": 395,
   "outputs": []
  },
  {
   "cell_type": "code",
   "source": [
    "x_test = np.array([[3,5],[2,4],[5,6],[3,6],[3,3],[4,5],[4,2],[5,5],[6,7],[5,3],[6,4],[6,6]])\n",
    "y_test = np.array([[1],[1],[1],[1],[1],[1],[0],[0],[0],[0],[0],[0]])\n",
    "r2 = model.score(x_test,y_test)\n",
    "print('模型预测准确率',r2)\n",
    "\n",
    "label = model.predict([[3,7]])\n",
    "print('辣度为3,保质期为7年的新样本预测类别为',label[0])"
   ],
   "metadata": {
    "collapsed": false,
    "ExecuteTime": {
     "end_time": "2024-03-26T05:06:55.681906Z",
     "start_time": "2024-03-26T05:06:55.668372Z"
    }
   },
   "id": "1956dd8d15ac7daf",
   "execution_count": 396,
   "outputs": []
  },
  {
   "cell_type": "code",
   "source": [
    "from sklearn.datasets import load_iris\n",
    "from sklearn.model_selection import train_test_split\n",
    "x,y = load_iris().data[:,0:2], load_iris().target\n",
    "x_train,x_test,y_train,y_test = train_test_split(x,y,random_state=1,test_size=0.3)\n"
   ],
   "metadata": {
    "collapsed": false,
    "ExecuteTime": {
     "end_time": "2024-03-26T05:06:55.697448Z",
     "start_time": "2024-03-26T05:06:55.688437Z"
    }
   },
   "id": "7343fd3fb1890078",
   "execution_count": 397,
   "outputs": []
  },
  {
   "cell_type": "code",
   "source": [
    "from sklearn.linear_model import LogisticRegression\n",
    "from sklearn.metrics import accuracy_score\n",
    "\n",
    "model = LogisticRegression()\n",
    "model.fit(x_train,y_train)\n",
    "\n",
    "acc = accuracy_score(y_test,model.predict(x_test))\n",
    "print('模型预测准确率',acc)"
   ],
   "metadata": {
    "collapsed": false,
    "ExecuteTime": {
     "end_time": "2024-03-26T05:06:55.712460Z",
     "start_time": "2024-03-26T05:06:55.698625Z"
    }
   },
   "id": "a167c8f22a941c72",
   "execution_count": 398,
   "outputs": []
  },
  {
   "cell_type": "code",
   "source": [
    "from matplotlib.font_manager import FontProperties\n",
    "import matplotlib.pyplot as plt\n",
    "from matplotlib.colors import ListedColormap\n",
    "import numpy as np\n",
    "\n",
    "x_min, x_max = x[:, 0].min() - 1, x[:, 0].max() + 1\n",
    "y_min, y_max = x[:, 1].min() - 1, x[:, 1].max() + 1\n",
    "t1 = np.linspace(x_min, x_max, 500)\n",
    "t2 = np.linspace(y_min, y_max, 500)\n",
    "x1, x2 = np.meshgrid(t1, t2)\n",
    "x_new = np.stack((x1.flat, x2.flat), axis=1)\n",
    "\n",
    "\n",
    "predict = model.predict(x_new)\n",
    "y_hat = predict.reshape(x1.shape)\n",
    "\n",
    "\n",
    "iris_colormap = ListedColormap(['#ACC6c0', '#FF8080', '#A0A0FF'])\n",
    "\n",
    "plt.figure(figsize=(8, 6))\n",
    "\n",
    "\n",
    "plt.pcolormesh(x1, x2, y_hat, cmap=iris_colormap, shading='auto')\n",
    "\n",
    "\n",
    "plt.scatter(x[:, 0], x[:, 1], c=y, cmap=ListedColormap(['g', 'b', 'r']), edgecolor='k', s=40)\n",
    "\n",
    "\n",
    "font_path = 'D:\\s\\simhei.ttf'\n",
    "font = FontProperties(fname=font_path, size=14)\n",
    "plt.xlabel('花萼长度', fontproperties=font)\n",
    "plt.ylabel('花萼宽度', fontproperties=font)\n",
    "\n",
    "\n",
    "plt.title('鸢尾花Logistic回归分类结果', fontproperties=font)\n",
    "\n",
    "plt.show()\n"
   ],
   "metadata": {
    "collapsed": false,
    "ExecuteTime": {
     "end_time": "2024-03-26T05:06:55.947359Z",
     "start_time": "2024-03-26T05:06:55.733078Z"
    }
   },
   "id": "1ee5f17c07366c94",
   "execution_count": 399,
   "outputs": []
  },
  {
   "cell_type": "code",
   "source": "",
   "metadata": {
    "collapsed": false,
    "ExecuteTime": {
     "end_time": "2024-03-26T05:06:55.962406Z",
     "start_time": "2024-03-26T05:06:55.950228Z"
    }
   },
   "id": "d61a7cbd0ccdfc",
   "execution_count": 399,
   "outputs": []
  }
 ],
 "metadata": {
  "kernelspec": {
   "display_name": "Python 3",
   "language": "python",
   "name": "python3"
  },
  "language_info": {
   "codemirror_mode": {
    "name": "ipython",
    "version": 2
   },
   "file_extension": ".py",
   "mimetype": "text/x-python",
   "name": "python",
   "nbconvert_exporter": "python",
   "pygments_lexer": "ipython2",
   "version": "2.7.6"
  }
 },
 "nbformat": 4,
 "nbformat_minor": 5
}
