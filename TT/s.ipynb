{
 "cells": [
  {
   "cell_type": "code",
   "execution_count": 1,
   "id": "initial_id",
   "metadata": {
    "collapsed": true,
    "ExecuteTime": {
     "end_time": "2024-03-29T03:00:56.428554Z",
     "start_time": "2024-03-29T03:00:50.308752Z"
    }
   },
   "outputs": [
    {
     "name": "stdout",
     "output_type": "stream",
     "text": [
      "load mnist dataset from/home/aistudio/data/mnist.json.gz\n"
     ]
    },
    {
     "ename": "FileNotFoundError",
     "evalue": "[Errno 2] No such file or directory: '/home/aistudio/data/mnist.json.gz'",
     "output_type": "error",
     "traceback": [
      "\u001B[1;31m---------------------------------------------------------------------------\u001B[0m",
      "\u001B[1;31mFileNotFoundError\u001B[0m                         Traceback (most recent call last)",
      "\u001B[1;32m<ipython-input-1-91cd13dacd4c>\u001B[0m in \u001B[0;36m<module>\u001B[1;34m\u001B[0m\n\u001B[0;32m     11\u001B[0m \u001B[0mdatafile\u001B[0m \u001B[1;33m=\u001B[0m \u001B[1;34m'/home/aistudio/data/mnist.json.gz'\u001B[0m\u001B[1;33m\u001B[0m\u001B[1;33m\u001B[0m\u001B[0m\n\u001B[0;32m     12\u001B[0m \u001B[0mprint\u001B[0m\u001B[1;33m(\u001B[0m\u001B[1;34m'load mnist dataset from{}'\u001B[0m\u001B[1;33m.\u001B[0m\u001B[0mformat\u001B[0m\u001B[1;33m(\u001B[0m\u001B[0mdatafile\u001B[0m\u001B[1;33m)\u001B[0m\u001B[1;33m)\u001B[0m\u001B[1;33m\u001B[0m\u001B[1;33m\u001B[0m\u001B[0m\n\u001B[1;32m---> 13\u001B[1;33m \u001B[0mdata\u001B[0m \u001B[1;33m=\u001B[0m \u001B[0mjson\u001B[0m\u001B[1;33m.\u001B[0m\u001B[0mload\u001B[0m\u001B[1;33m(\u001B[0m\u001B[0mgzip\u001B[0m\u001B[1;33m.\u001B[0m\u001B[0mopen\u001B[0m\u001B[1;33m(\u001B[0m\u001B[0mdatafile\u001B[0m\u001B[1;33m)\u001B[0m\u001B[1;33m)\u001B[0m\u001B[1;33m\u001B[0m\u001B[1;33m\u001B[0m\u001B[0m\n\u001B[0m\u001B[0;32m     14\u001B[0m \u001B[0mprint\u001B[0m\u001B[1;33m(\u001B[0m\u001B[1;34m'mnist dataset load done.'\u001B[0m\u001B[1;33m)\u001B[0m\u001B[1;33m\u001B[0m\u001B[1;33m\u001B[0m\u001B[0m\n\u001B[0;32m     15\u001B[0m \u001B[1;33m\u001B[0m\u001B[0m\n",
      "\u001B[1;32m~\\AppData\\Local\\Programs\\Python\\Python36\\lib\\gzip.py\u001B[0m in \u001B[0;36mopen\u001B[1;34m(filename, mode, compresslevel, encoding, errors, newline)\u001B[0m\n\u001B[0;32m     51\u001B[0m     \u001B[0mgz_mode\u001B[0m \u001B[1;33m=\u001B[0m \u001B[0mmode\u001B[0m\u001B[1;33m.\u001B[0m\u001B[0mreplace\u001B[0m\u001B[1;33m(\u001B[0m\u001B[1;34m\"t\"\u001B[0m\u001B[1;33m,\u001B[0m \u001B[1;34m\"\"\u001B[0m\u001B[1;33m)\u001B[0m\u001B[1;33m\u001B[0m\u001B[1;33m\u001B[0m\u001B[0m\n\u001B[0;32m     52\u001B[0m     \u001B[1;32mif\u001B[0m \u001B[0misinstance\u001B[0m\u001B[1;33m(\u001B[0m\u001B[0mfilename\u001B[0m\u001B[1;33m,\u001B[0m \u001B[1;33m(\u001B[0m\u001B[0mstr\u001B[0m\u001B[1;33m,\u001B[0m \u001B[0mbytes\u001B[0m\u001B[1;33m,\u001B[0m \u001B[0mos\u001B[0m\u001B[1;33m.\u001B[0m\u001B[0mPathLike\u001B[0m\u001B[1;33m)\u001B[0m\u001B[1;33m)\u001B[0m\u001B[1;33m:\u001B[0m\u001B[1;33m\u001B[0m\u001B[1;33m\u001B[0m\u001B[0m\n\u001B[1;32m---> 53\u001B[1;33m         \u001B[0mbinary_file\u001B[0m \u001B[1;33m=\u001B[0m \u001B[0mGzipFile\u001B[0m\u001B[1;33m(\u001B[0m\u001B[0mfilename\u001B[0m\u001B[1;33m,\u001B[0m \u001B[0mgz_mode\u001B[0m\u001B[1;33m,\u001B[0m \u001B[0mcompresslevel\u001B[0m\u001B[1;33m)\u001B[0m\u001B[1;33m\u001B[0m\u001B[1;33m\u001B[0m\u001B[0m\n\u001B[0m\u001B[0;32m     54\u001B[0m     \u001B[1;32melif\u001B[0m \u001B[0mhasattr\u001B[0m\u001B[1;33m(\u001B[0m\u001B[0mfilename\u001B[0m\u001B[1;33m,\u001B[0m \u001B[1;34m\"read\"\u001B[0m\u001B[1;33m)\u001B[0m \u001B[1;32mor\u001B[0m \u001B[0mhasattr\u001B[0m\u001B[1;33m(\u001B[0m\u001B[0mfilename\u001B[0m\u001B[1;33m,\u001B[0m \u001B[1;34m\"write\"\u001B[0m\u001B[1;33m)\u001B[0m\u001B[1;33m:\u001B[0m\u001B[1;33m\u001B[0m\u001B[1;33m\u001B[0m\u001B[0m\n\u001B[0;32m     55\u001B[0m         \u001B[0mbinary_file\u001B[0m \u001B[1;33m=\u001B[0m \u001B[0mGzipFile\u001B[0m\u001B[1;33m(\u001B[0m\u001B[1;32mNone\u001B[0m\u001B[1;33m,\u001B[0m \u001B[0mgz_mode\u001B[0m\u001B[1;33m,\u001B[0m \u001B[0mcompresslevel\u001B[0m\u001B[1;33m,\u001B[0m \u001B[0mfilename\u001B[0m\u001B[1;33m)\u001B[0m\u001B[1;33m\u001B[0m\u001B[1;33m\u001B[0m\u001B[0m\n",
      "\u001B[1;32m~\\AppData\\Local\\Programs\\Python\\Python36\\lib\\gzip.py\u001B[0m in \u001B[0;36m__init__\u001B[1;34m(self, filename, mode, compresslevel, fileobj, mtime)\u001B[0m\n\u001B[0;32m    161\u001B[0m             \u001B[0mmode\u001B[0m \u001B[1;33m+=\u001B[0m \u001B[1;34m'b'\u001B[0m\u001B[1;33m\u001B[0m\u001B[1;33m\u001B[0m\u001B[0m\n\u001B[0;32m    162\u001B[0m         \u001B[1;32mif\u001B[0m \u001B[0mfileobj\u001B[0m \u001B[1;32mis\u001B[0m \u001B[1;32mNone\u001B[0m\u001B[1;33m:\u001B[0m\u001B[1;33m\u001B[0m\u001B[1;33m\u001B[0m\u001B[0m\n\u001B[1;32m--> 163\u001B[1;33m             \u001B[0mfileobj\u001B[0m \u001B[1;33m=\u001B[0m \u001B[0mself\u001B[0m\u001B[1;33m.\u001B[0m\u001B[0mmyfileobj\u001B[0m \u001B[1;33m=\u001B[0m \u001B[0mbuiltins\u001B[0m\u001B[1;33m.\u001B[0m\u001B[0mopen\u001B[0m\u001B[1;33m(\u001B[0m\u001B[0mfilename\u001B[0m\u001B[1;33m,\u001B[0m \u001B[0mmode\u001B[0m \u001B[1;32mor\u001B[0m \u001B[1;34m'rb'\u001B[0m\u001B[1;33m)\u001B[0m\u001B[1;33m\u001B[0m\u001B[1;33m\u001B[0m\u001B[0m\n\u001B[0m\u001B[0;32m    164\u001B[0m         \u001B[1;32mif\u001B[0m \u001B[0mfilename\u001B[0m \u001B[1;32mis\u001B[0m \u001B[1;32mNone\u001B[0m\u001B[1;33m:\u001B[0m\u001B[1;33m\u001B[0m\u001B[1;33m\u001B[0m\u001B[0m\n\u001B[0;32m    165\u001B[0m             \u001B[0mfilename\u001B[0m \u001B[1;33m=\u001B[0m \u001B[0mgetattr\u001B[0m\u001B[1;33m(\u001B[0m\u001B[0mfileobj\u001B[0m\u001B[1;33m,\u001B[0m \u001B[1;34m'name'\u001B[0m\u001B[1;33m,\u001B[0m \u001B[1;34m''\u001B[0m\u001B[1;33m)\u001B[0m\u001B[1;33m\u001B[0m\u001B[1;33m\u001B[0m\u001B[0m\n",
      "\u001B[1;31mFileNotFoundError\u001B[0m: [Errno 2] No such file or directory: '/home/aistudio/data/mnist.json.gz'"
     ]
    }
   ],
   "source": [
    "import json\n",
    "\n",
    "import paddle\n",
    "from paddle.nn import Linear\n",
    "import paddle.nn.functional as F\n",
    "import os\n",
    "import gzip\n",
    "import random\n",
    "import numpy as np\n",
    "\n",
    "datafile = '/home/aistudio/data/mnist.json.gz'\n",
    "print('load mnist dataset from{}'.format(datafile))\n",
    "data = json.load(gzip.open(datafile))\n",
    "print('mnist dataset load done.')\n",
    "\n",
    "train_set,val_set,test_set = data\n",
    "\n",
    "imgs,labels = train_set[0],train_set[1]\n",
    "imgs_lengh = len(imgs)\n",
    "\n",
    "index_list = list(range(imgs_lengh))\n",
    "BATCHSIZE = 100\n",
    "\n",
    "random.shuffle(index_list)\n",
    "\n",
    "def data_generator():\n",
    "    imgs_list = []\n",
    "    labels_list = []\n",
    "    for i in index_list:\n",
    "        img = np.array(imgs[i], astype='float32')\n",
    "        label = np.array(labels[i], dtype='float32')\n",
    "        imgs_list.append(img)\n",
    "        labels_list.append(label)\n",
    "        if len(imgs_list) == BATCHSIZE:\n",
    "            yield np.array(imgs_list),np.array(labels_list)\n",
    "            imgs_list = []\n",
    "            labels_list = []\n",
    "            \n",
    "    if len(imgs_list) > 0:\n",
    "        yield np.array(imgs_list),np.array(labels_list)\n",
    "        \n",
    "    return data_generator\n",
    "    \n",
    "train_loader = data_generator\n",
    "for batch_id,data in enumerate(train_loader()):\n",
    "    image_data,label_data = data\n",
    "    if batch_id == 0:\n",
    "        print('打印褚第一个batch数据的维度')\n",
    "        print('图像维度:{},标签维度:{}'.format(image_data.shape,label_data.shape))\n",
    "    break\n",
    "    \n",
    "    \n",
    "for batch_id, data in enumerate(train_loader):  \n",
    "    image_data, label_data = data  \n",
    "    if batch_id == 0:  \n",
    "        print('打印出第一个batch数据的维度:')  \n",
    "        print('图像维度{}, 标签维度{},图像数据类型{},标签数据类型{}'.format(image_data.shape, label_data.shape,type(image_data),type(label_data)))\n",
    "        \n",
    "        \n",
    "def load_data(mode='train'):\n",
    "    datafile = '/home/aistudio/data/data93735/mnist.json.gz'\n",
    "    print('load mnist dataset from{}'.format(datafile))\n",
    "    data = json.load(gzip.open(datafile))\n",
    "    print('mnist dataset load done.')\n",
    "    train_set,val_set,test_set = data\n",
    "    if mode == 'train':\n",
    "        imgs,labels = train_set[0],train_set[1]\n",
    "    elif mode =='valid':\n",
    "        imgs,labels = val_set[0],val_set[1]\n",
    "    elif mode == 'test':\n",
    "        imgs,labels = test_set[0],test_set[1]\n",
    "    else:\n",
    "        raise Exception('model can only be one of [\"train\",\"valid\",\"test\"]')\n",
    "    print('数据集数量为:',len(img))\n",
    "    \n",
    "    assert len(imgs) == len(labels), 'lengh of trainimgs({}) should be the same as train labels({})'.format(len(imgs),len(labels))"
   ]
  },
  {
   "cell_type": "markdown",
   "source": [
    "\n"
   ],
   "metadata": {
    "collapsed": false
   },
   "id": "a01167e740c5ad14"
  },
  {
   "cell_type": "code",
   "outputs": [],
   "source": [
    "train_set,val_set,test_set = data\n",
    "\n",
    "imgs,labels = train_set[0],train_set[1]\n",
    "\n",
    "print('训练集数据量为',len(imgs))\n",
    "\n",
    "imgs,labels = val_set[0],val_set[1]\n",
    "\n",
    "\n",
    "print('验证集数据量为',len(imgs))\n",
    "\n",
    "imgs,labels = test_set[0],test_set[1]\n",
    "\n",
    "print('测试集数据量为',len(imgs))\n"
   ],
   "metadata": {
    "collapsed": false
   },
   "id": "2ca41e9cdc88880f",
   "execution_count": null
  },
  {
   "cell_type": "markdown",
   "source": [],
   "metadata": {
    "collapsed": false
   },
   "id": "79f48b06babfce40"
  },
  {
   "cell_type": "code",
   "outputs": [],
   "source": [
    "# 定义超参数\n",
    "B"
   ],
   "metadata": {
    "collapsed": false
   },
   "id": "b3fe56f7169b270b",
   "execution_count": null
  }
 ],
 "metadata": {
  "kernelspec": {
   "display_name": "Python 3",
   "language": "python",
   "name": "python3"
  },
  "language_info": {
   "codemirror_mode": {
    "name": "ipython",
    "version": 2
   },
   "file_extension": ".py",
   "mimetype": "text/x-python",
   "name": "python",
   "nbconvert_exporter": "python",
   "pygments_lexer": "ipython2",
   "version": "2.7.6"
  }
 },
 "nbformat": 4,
 "nbformat_minor": 5
}
