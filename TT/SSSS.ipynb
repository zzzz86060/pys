{
 "cells": [
  {
   "cell_type": "code",
   "execution_count": 13,
   "id": "initial_id",
   "metadata": {
    "collapsed": true,
    "ExecuteTime": {
     "end_time": "2024-03-19T02:29:26.458210Z",
     "start_time": "2024-03-19T02:29:26.443210Z"
    }
   },
   "source": [
    "from sklearn.datasets import load_diabetes\n",
    "from sklearn.linear_model import LinearRegression\n",
    "from sklearn.model_selection import train_test_split"
   ],
   "outputs": []
  },
  {
   "cell_type": "code",
   "source": [
    "x,y = load_diabetes().data , load_diabetes().target\n",
    "x_train, x_test, y_train, y_test = train_test_split(x, y, test_size=0.2, random_state=8)\n",
    "x_train.shape"
   ],
   "metadata": {
    "collapsed": false,
    "ExecuteTime": {
     "end_time": "2024-03-19T02:29:29.123958Z",
     "start_time": "2024-03-19T02:29:29.091858Z"
    }
   },
   "id": "ccae4e237cf4593",
   "execution_count": 14,
   "outputs": []
  },
  {
   "cell_type": "code",
   "source": [
    "model = LinearRegression()\n",
    "model.fit(x_train,y_train)\n",
    "print('w=',model.coef_,'b=',model.intercept_)"
   ],
   "metadata": {
    "collapsed": false,
    "ExecuteTime": {
     "end_time": "2024-03-19T02:29:29.979479Z",
     "start_time": "2024-03-19T02:29:29.971480Z"
    }
   },
   "id": "a317ccbe4a75c24b",
   "execution_count": 15,
   "outputs": []
  },
  {
   "cell_type": "code",
   "source": [
    "print('训练集上的准确率',model.score(x_train,y_train))\n",
    "print('测试集上的准确率',model.score(x_test,y_test))"
   ],
   "metadata": {
    "collapsed": false,
    "ExecuteTime": {
     "end_time": "2024-03-19T02:29:33.152570Z",
     "start_time": "2024-03-19T02:29:33.136572Z"
    }
   },
   "id": "28b3ed0180ada58",
   "execution_count": 16,
   "outputs": []
  },
  {
   "cell_type": "code",
   "source": [
    "from sklearn.datasets import load_diabetes\n",
    "from sklearn.linear_model import Ridge\n",
    "from sklearn.model_selection import train_test_split\n",
    "x,y = load_diabetes().data , load_diabetes().target\n",
    "x_train, x_test, y_train, y_test = train_test_split(x, y, test_size=0.2, random_state=8)\n",
    "x_train.shape\n",
    "model = Ridge()\n",
    "model.fit(x_train,y_train)\n",
    "print('w=',model.coef_,'b=',model.intercept_)\n",
    "print('训练集上的准确率',model.score(x_train,y_train))\n",
    "print('测试集上的准确率',model.score(x_test,y_test))"
   ],
   "metadata": {
    "collapsed": false,
    "ExecuteTime": {
     "end_time": "2024-03-19T02:42:16.928191Z",
     "start_time": "2024-03-19T02:42:16.890194Z"
    }
   },
   "id": "bd15663b59ba29b4",
   "execution_count": 17,
   "outputs": []
  },
  {
   "cell_type": "code",
   "source": [
    "from sklearn.datasets import load_diabetes\n",
    "from sklearn.linear_model import Lasso\n",
    "from sklearn.model_selection import train_test_split\n",
    "x,y = load_diabetes().data , load_diabetes().target\n",
    "x_train, x_test, y_train, y_test = train_test_split(x, y, test_size=0.2, random_state=8)\n",
    "x_train.shape\n",
    "model = Lasso(alpha = 0.001)\n",
    "model.fit(x_train,y_train)\n",
    "print('w=',model.coef_,'b=',model.intercept_)\n",
    "print('训练集上的准确率',model.score(x_train,y_train))\n",
    "print('测试集上的准确率',model.score(x_test,y_test))"
   ],
   "metadata": {
    "collapsed": false,
    "ExecuteTime": {
     "end_time": "2024-03-19T02:49:41.844623Z",
     "start_time": "2024-03-19T02:49:41.804620Z"
    }
   },
   "id": "37f444bea9427639",
   "execution_count": 24,
   "outputs": []
  },
  {
   "cell_type": "code",
   "source": [],
   "metadata": {
    "collapsed": false,
    "ExecuteTime": {
     "end_time": "2024-03-19T02:49:11.832816Z",
     "start_time": "2024-03-19T02:49:11.816814Z"
    }
   },
   "id": "f5c72afbe6f3470d",
   "execution_count": 20,
   "outputs": []
  },
  {
   "cell_type": "code",
   "source": [],
   "metadata": {
    "collapsed": false,
    "ExecuteTime": {
     "end_time": "2024-03-19T02:49:15.665567Z",
     "start_time": "2024-03-19T02:49:15.648570Z"
    }
   },
   "id": "7e85dd0ee92476e9",
   "execution_count": 20,
   "outputs": []
  },
  {
   "cell_type": "code",
   "source": [],
   "metadata": {
    "collapsed": false
   },
   "id": "4bc46a73adc86312",
   "execution_count": null,
   "outputs": []
  }
 ],
 "metadata": {
  "kernelspec": {
   "display_name": "Python 3",
   "language": "python",
   "name": "python3"
  },
  "language_info": {
   "codemirror_mode": {
    "name": "ipython",
    "version": 2
   },
   "file_extension": ".py",
   "mimetype": "text/x-python",
   "name": "python",
   "nbconvert_exporter": "python",
   "pygments_lexer": "ipython2",
   "version": "2.7.6"
  }
 },
 "nbformat": 4,
 "nbformat_minor": 5
}
