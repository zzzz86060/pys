{
 "cells": [
  {
   "cell_type": "code",
   "metadata": {
    "execution": {
     "iopub.execute_input": "2024-05-14T03:51:54.495318Z",
     "iopub.status.busy": "2024-05-14T03:51:54.494671Z",
     "iopub.status.idle": "2024-05-14T03:51:54.500146Z",
     "shell.execute_reply": "2024-05-14T03:51:54.499280Z",
     "shell.execute_reply.started": "2024-05-14T03:51:54.495287Z"
    },
    "scrolled": true,
    "ExecuteTime": {
     "end_time": "2024-05-14T04:44:31.237374Z",
     "start_time": "2024-05-14T04:44:28.302365Z"
    }
   },
   "source": [
    "from sklearn.datasets import load_breast_cancer\n",
    "from sklearn .svm import SVC\n",
    "from sklearn.model_selection import train_test_split\n",
    "import pandas as pd\n",
    "import numpy as np"
   ],
   "execution_count": 1,
   "outputs": []
  },
  {
   "cell_type": "code",
   "metadata": {
    "execution": {
     "iopub.execute_input": "2024-05-14T03:51:54.502124Z",
     "iopub.status.busy": "2024-05-14T03:51:54.501742Z",
     "iopub.status.idle": "2024-05-14T03:51:54.522183Z",
     "shell.execute_reply": "2024-05-14T03:51:54.521194Z",
     "shell.execute_reply.started": "2024-05-14T03:51:54.502097Z"
    },
    "scrolled": true,
    "ExecuteTime": {
     "end_time": "2024-05-14T04:44:31.283376Z",
     "start_time": "2024-05-14T04:44:31.240288Z"
    }
   },
   "source": [
    "x,y = load_breast_cancer().data, load_breast_cancer().target\n",
    "print(x.shape)\n",
    "#标准化\n",
    "from sklearn.preprocessing import StandardScaler\n",
    "x = StandardScaler().fit_transform(x)\n",
    "print(x)"
   ],
   "execution_count": 2,
   "outputs": []
  },
  {
   "cell_type": "code",
   "metadata": {
    "execution": {
     "iopub.execute_input": "2024-05-14T03:51:54.524141Z",
     "iopub.status.busy": "2024-05-14T03:51:54.523434Z",
     "iopub.status.idle": "2024-05-14T03:51:54.553224Z",
     "shell.execute_reply": "2024-05-14T03:51:54.552112Z",
     "shell.execute_reply.started": "2024-05-14T03:51:54.524110Z"
    },
    "scrolled": true,
    "ExecuteTime": {
     "end_time": "2024-05-14T04:44:31.361118Z",
     "start_time": "2024-05-14T04:44:31.285378Z"
    }
   },
   "source": [
    "from sklearn.metrics import accuracy_score\n",
    "x_train,x_test,y_train,y_test = train_test_split(x,y,test_size=0.3,random_state=420)\n",
    "\n",
    "Kernel = ['linear','poly','rbf','sigmoid']\n",
    "for kernel in Kernel:\n",
    "    model = SVC(kernel = kernel,gamma='auto',degree=1)\n",
    "    model.fit(x_train,y_train)\n",
    "    pred = model.predict(x_test)\n",
    "    ac = accuracy_score(y_test,pred)\n",
    "    print('选择{}和函数时模型的准确率为{}'.format(kernel,ac))"
   ],
   "execution_count": 3,
   "outputs": []
  },
  {
   "cell_type": "code",
   "metadata": {
    "execution": {
     "iopub.execute_input": "2024-05-14T03:51:54.556190Z",
     "iopub.status.busy": "2024-05-14T03:51:54.555438Z",
     "iopub.status.idle": "2024-05-14T03:52:04.202830Z",
     "shell.execute_reply": "2024-05-14T03:52:04.201525Z",
     "shell.execute_reply.started": "2024-05-14T03:51:54.556158Z"
    },
    "scrolled": true,
    "ExecuteTime": {
     "end_time": "2024-05-14T04:44:38.226251Z",
     "start_time": "2024-05-14T04:44:31.363118Z"
    }
   },
   "source": [
    "#网格\n",
    "from sklearn.model_selection import GridSearchCV\n",
    "#分层抽样\n",
    "from sklearn.model_selection import StratifiedShuffleSplit\n",
    "gamma_range = np.logspace(-10,0,20) # 10的-10次方到0次方，共20个\n",
    "coef0_range = np.linspace(0,5,10)\n",
    "param_grid = dict(gamma=gamma_range,coef0=coef0_range)\n",
    "\n",
    "cv = StratifiedShuffleSplit(n_splits=5,test_size=0.3,random_state=420)\n",
    "grid = GridSearchCV(SVC(kernel='poly',degree=1),param_grid=param_grid,cv=cv)\n",
    "grid.fit(x,y)\n",
    "print('最优参数值为:',grid.best_params_)\n",
    "print('选取该参数时,模型的预测准确率为:',grid.best_score_)"
   ],
   "execution_count": 4,
   "outputs": []
  },
  {
   "cell_type": "code",
   "metadata": {
    "execution": {
     "iopub.execute_input": "2024-05-14T03:52:04.235477Z",
     "iopub.status.busy": "2024-05-14T03:52:04.234270Z",
     "iopub.status.idle": "2024-05-14T03:52:05.085094Z",
     "shell.execute_reply": "2024-05-14T03:52:05.083675Z",
     "shell.execute_reply.started": "2024-05-14T03:52:04.235425Z"
    },
    "scrolled": true,
    "ExecuteTime": {
     "end_time": "2024-05-14T04:44:39.550285Z",
     "start_time": "2024-05-14T04:44:38.229532Z"
    }
   },
   "source": [
    "import matplotlib.pyplot as plt\n",
    "score = []\n",
    "gamma_range = np.logspace(-10,0,50) # 10的-10次方到0次方，共20个\n",
    "for gamma in gamma_range:\n",
    "    model = SVC(kernel='rbf',gamma=gamma)\n",
    "    model.fit(x_train,y_train)\n",
    "    pred = model.predict(x_test)\n",
    "    ac = accuracy_score(y_test,pred)\n",
    "    score.append(ac)\n",
    "    \n",
    "plt.plot(figsize=(4,2))\n",
    "plt.plot(gamma_range,score)\n",
    "plt.xlabel('gamma')\n",
    "plt.ylabel('accuracy')\n",
    "plt.show()"
   ],
   "execution_count": 5,
   "outputs": []
  },
  {
   "cell_type": "code",
   "metadata": {
    "execution": {
     "iopub.execute_input": "2024-05-14T03:52:05.086954Z",
     "iopub.status.busy": "2024-05-14T03:52:05.086573Z",
     "iopub.status.idle": "2024-05-14T03:52:05.093225Z",
     "shell.execute_reply": "2024-05-14T03:52:05.092156Z",
     "shell.execute_reply.started": "2024-05-14T03:52:05.086918Z"
    },
    "scrolled": true,
    "ExecuteTime": {
     "end_time": "2024-05-14T04:44:39.565800Z",
     "start_time": "2024-05-14T04:44:39.552293Z"
    }
   },
   "source": [
    "print('最优参数值:',gamma_range[score.index(max(score))])\n",
    "print('参数取最优值时,模型预测准确率为:',max(score))"
   ],
   "execution_count": 6,
   "outputs": []
  },
  {
   "cell_type": "code",
   "metadata": {
    "execution": {
     "iopub.execute_input": "2024-05-14T03:52:05.095217Z",
     "iopub.status.busy": "2024-05-14T03:52:05.094883Z",
     "iopub.status.idle": "2024-05-14T03:52:05.746135Z",
     "shell.execute_reply": "2024-05-14T03:52:05.745361Z",
     "shell.execute_reply.started": "2024-05-14T03:52:05.095184Z"
    },
    "scrolled": true,
    "ExecuteTime": {
     "end_time": "2024-05-14T04:44:39.955635Z",
     "start_time": "2024-05-14T04:44:39.567304Z"
    }
   },
   "source": [
    "score=[]\n",
    "C_range = np.linspace(0.01,30,50)\n",
    "for c in C_range:\n",
    "    model = SVC(kernel='linear',C=c)\n",
    "    model.fit(x_train,y_train)\n",
    "    pred = model.predict(x_test)\n",
    "    ac = accuracy_score(y_test,pred)\n",
    "    score.append(ac)\n",
    "\n",
    "plt.plot(figsize=(4,2))\n",
    "plt.plot(C_range,score)\n",
    "plt.xlabel('C')\n",
    "plt.ylabel('accuracy')\n",
    "plt.show()\n",
    "print('最优参数值:',C_range[score.index(max(score))])\n",
    "print('参数取最优值时,模型预测准确率为:',max(score))"
   ],
   "execution_count": 7,
   "outputs": []
  },
  {
   "cell_type": "code",
   "metadata": {
    "execution": {
     "iopub.execute_input": "2024-05-14T03:52:05.747784Z",
     "iopub.status.busy": "2024-05-14T03:52:05.747254Z",
     "iopub.status.idle": "2024-05-14T03:52:06.407477Z",
     "shell.execute_reply": "2024-05-14T03:52:06.406422Z",
     "shell.execute_reply.started": "2024-05-14T03:52:05.747757Z"
    },
    "scrolled": true,
    "tags": [],
    "ExecuteTime": {
     "end_time": "2024-05-14T04:44:40.377843Z",
     "start_time": "2024-05-14T04:44:39.959160Z"
    }
   },
   "source": [
    "score=[]\n",
    "C_range = np.linspace(0.01,30,50)\n",
    "for c in C_range:\n",
    "    model = SVC(kernel='rbf',C=c,gamma=0.01267)\n",
    "    model.fit(x_train,y_train)\n",
    "    pred = model.predict(x_test)\n",
    "    ac = accuracy_score(y_test,pred)\n",
    "    score.append(ac)\n",
    "\n",
    "plt.plot(figsize=(4,2))\n",
    "plt.plot(C_range,score)\n",
    "plt.xlabel('C')\n",
    "plt.ylabel('accuracy')\n",
    "plt.show()\n",
    "print('最优参数值:',C_range[score.index(max(score))])\n",
    "print('参数取最优值时,模型预测准确率为:',max(score))"
   ],
   "execution_count": 8,
   "outputs": []
  },
  {
   "cell_type": "markdown",
   "metadata": {},
   "source": [
    "# 未进行标准化"
   ]
  },
  {
   "cell_type": "code",
   "metadata": {
    "execution": {
     "iopub.execute_input": "2024-05-14T03:52:06.411044Z",
     "iopub.status.busy": "2024-05-14T03:52:06.410474Z",
     "iopub.status.idle": "2024-05-14T03:52:06.449597Z",
     "shell.execute_reply": "2024-05-14T03:52:06.448225Z",
     "shell.execute_reply.started": "2024-05-14T03:52:06.411013Z"
    },
    "scrolled": true,
    "ExecuteTime": {
     "end_time": "2024-05-14T04:44:40.424448Z",
     "start_time": "2024-05-14T04:44:40.381851Z"
    }
   },
   "source": [
    "x,y = load_breast_cancer().data, load_breast_cancer().target\n",
    "print(x.shape)\n",
    "print(x)"
   ],
   "execution_count": 9,
   "outputs": []
  },
  {
   "cell_type": "code",
   "metadata": {
    "execution": {
     "iopub.execute_input": "2024-05-14T03:52:06.452141Z",
     "iopub.status.busy": "2024-05-14T03:52:06.451192Z",
     "iopub.status.idle": "2024-05-14T03:52:06.958590Z",
     "shell.execute_reply": "2024-05-14T03:52:06.957238Z",
     "shell.execute_reply.started": "2024-05-14T03:52:06.452099Z"
    },
    "scrolled": true,
    "ExecuteTime": {
     "end_time": "2024-05-14T04:44:40.939272Z",
     "start_time": "2024-05-14T04:44:40.427449Z"
    }
   },
   "source": [
    "from sklearn.metrics import accuracy_score\n",
    "x_train,x_test,y_train,y_test = train_test_split(x,y,test_size=0.3,random_state=420)\n",
    "\n",
    "Kernel = ['linear','poly','rbf','sigmoid']\n",
    "for kernel in Kernel:\n",
    "    model = SVC(kernel = kernel,gamma='auto',degree=1)\n",
    "    model.fit(x_train,y_train)\n",
    "    pred = model.predict(x_test)\n",
    "    ac = accuracy_score(y_test,pred)\n",
    "    print('选择{}和函数时模型的准确率为{}'.format(kernel,ac))"
   ],
   "execution_count": 10,
   "outputs": []
  },
  {
   "cell_type": "code",
   "metadata": {
    "execution": {
     "iopub.execute_input": "2024-05-14T03:52:06.960211Z",
     "iopub.status.busy": "2024-05-14T03:52:06.959895Z"
    },
    "scrolled": true,
    "ExecuteTime": {
     "end_time": "2024-05-14T04:45:47.614781Z",
     "start_time": "2024-05-14T04:44:40.942279Z"
    }
   },
   "source": [
    "#网格\n",
    "from sklearn.model_selection import GridSearchCV\n",
    "#分层抽样\n",
    "from sklearn.model_selection import StratifiedShuffleSplit\n",
    "gamma_range = np.logspace(-10,0,20) # 10的-10次方到0次方，共20个\n",
    "coef0_range = np.linspace(0,5,10)\n",
    "param_grid = dict(gamma=gamma_range,coef0=coef0_range)\n",
    "\n",
    "cv = StratifiedShuffleSplit(n_splits=5,test_size=0.3,random_state=420)\n",
    "grid = GridSearchCV(SVC(kernel='poly',degree=1),param_grid=param_grid,cv=cv)\n",
    "grid.fit(x,y)\n",
    "print('最优参数值为:',grid.best_params_)\n",
    "print('选取该参数时,模型的预测准确率为:',grid.best_score_)"
   ],
   "execution_count": 11,
   "outputs": []
  },
  {
   "cell_type": "code",
   "metadata": {
    "scrolled": true,
    "ExecuteTime": {
     "end_time": "2024-05-14T04:45:48.318041Z",
     "start_time": "2024-05-14T04:45:47.617323Z"
    }
   },
   "source": [
    "import matplotlib.pyplot as plt\n",
    "score = []\n",
    "gamma_range = np.logspace(-10,0,50) # 10的-10次方到0次方，共20个\n",
    "for gamma in gamma_range:\n",
    "    model = SVC(kernel='rbf',gamma=gamma)\n",
    "    model.fit(x_train,y_train)\n",
    "    pred = model.predict(x_test)\n",
    "    ac = accuracy_score(y_test,pred)\n",
    "    score.append(ac)\n",
    "    \n",
    "plt.plot(figsize=(4,2))\n",
    "plt.plot(gamma_range,score)\n",
    "plt.xlabel('gamma')\n",
    "plt.ylabel('accuracy')\n",
    "plt.show()"
   ],
   "execution_count": 12,
   "outputs": []
  },
  {
   "cell_type": "code",
   "metadata": {
    "scrolled": true,
    "ExecuteTime": {
     "end_time": "2024-05-14T04:45:48.333644Z",
     "start_time": "2024-05-14T04:45:48.320045Z"
    }
   },
   "source": [
    "print('最优参数值:',gamma_range[score.index(max(score))])\n",
    "print('参数取最优值时,模型预测准确率为:',max(score))"
   ],
   "execution_count": 13,
   "outputs": []
  },
  {
   "cell_type": "code",
   "metadata": {
    "scrolled": true,
    "ExecuteTime": {
     "end_time": "2024-05-14T04:52:29.602453Z",
     "start_time": "2024-05-14T04:47:47.195388Z"
    }
   },
   "source": [
    "score=[]\n",
    "C_range = np.linspace(0.01,30,50)\n",
    "for c in C_range:\n",
    "    model = SVC(kernel='linear',C=c)\n",
    "    model.fit(x_train,y_train)\n",
    "    pred = model.predict(x_test)\n",
    "    ac = accuracy_score(y_test,pred)\n",
    "    score.append(ac)\n",
    "\n",
    "plt.plot(figsize=(4,2))\n",
    "plt.plot(C_range,score)\n",
    "plt.xlabel('C')\n",
    "plt.ylabel('accuracy')\n",
    "plt.show()\n",
    "print('最优参数值:',C_range[score.index(max(score))])\n",
    "print('参数取最优值时,模型预测准确率为:',max(score))"
   ],
   "execution_count": 16,
   "outputs": []
  },
  {
   "cell_type": "code",
   "metadata": {
    "scrolled": true,
    "ExecuteTime": {
     "end_time": "2024-05-14T04:52:30.569333Z",
     "start_time": "2024-05-14T04:52:29.604430Z"
    }
   },
   "source": [
    "score=[]\n",
    "C_range = np.linspace(0.01,30,50)\n",
    "for c in C_range:\n",
    "    model = SVC(kernel='rbf',C=c,gamma=0.01267)\n",
    "    model.fit(x_train,y_train)\n",
    "    pred = model.predict(x_test)\n",
    "    ac = accuracy_score(y_test,pred)\n",
    "    score.append(ac)\n",
    "\n",
    "plt.plot(figsize=(4,2))\n",
    "plt.plot(C_range,score)\n",
    "plt.xlabel('C')\n",
    "plt.ylabel('accuracy')\n",
    "plt.show()\n",
    "print('最优参数值:',C_range[score.index(max(score))])\n",
    "print('参数取最优值时,模型预测准确率为:',max(score))"
   ],
   "execution_count": 17,
   "outputs": []
  }
 ],
 "metadata": {
  "kernelspec": {
   "display_name": "Python 3 (ipykernel)",
   "language": "python",
   "name": "python3"
  },
  "language_info": {
   "codemirror_mode": {
    "name": "ipython",
    "version": 3
   },
   "file_extension": ".py",
   "mimetype": "text/x-python",
   "name": "python",
   "nbconvert_exporter": "python",
   "pygments_lexer": "ipython3",
   "version": "3.10.10"
  }
 },
 "nbformat": 4,
 "nbformat_minor": 4
}
