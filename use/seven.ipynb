{
 "cells": [
  {
   "cell_type": "code",
   "id": "initial_id",
   "metadata": {
    "collapsed": true,
    "ExecuteTime": {
     "end_time": "2024-04-19T03:44:09.304830Z",
     "start_time": "2024-04-19T03:44:09.214332Z"
    }
   },
   "source": [
    "import matplotlib.pyplot as plt\n",
    "import numpy as np\n",
    "x = np.arange(0.01,1,0.01)\n",
    "y = np.log(x)\n",
    "plt.title('y=log(x)')\n",
    "plt.xlabel('x')\n",
    "plt.ylabel('y')\n",
    "plt.plot(x,y)\n",
    "plt.show()"
   ],
   "execution_count": 24,
   "outputs": []
  },
  {
   "metadata": {
    "ExecuteTime": {
     "end_time": "2024-04-19T03:44:11.795499Z",
     "start_time": "2024-04-19T03:44:09.306747Z"
    }
   },
   "cell_type": "code",
   "source": [
    "from data_process import get_MNIST_dataloader\n",
    "train_loader,test_loader = get_MNIST_dataloader()\n",
    "import paddle \n",
    "from paddle.nn import Conv2D,MaxPool2D,Linear\n",
    "from paddle.nn import Linear\n",
    "import paddle.nn.functional as F\n",
    "class MNIST(paddle.nn.Layer):\n",
    "    def __init__(self):\n",
    "        super(MNIST, self).__init__()\n",
    "        self.conv1 = Conv2D(in_channels=1,out_channels=20,kernel_size=5,stride=1,padding=2)\n",
    "        self.max_pool1 = MaxPool2D(kernel_size=2,stride=2)\n",
    "        self.conv2 = Conv2D(in_channels=20,out_channels=20,kernel_size=5,stride=1,padding=2)\n",
    "        self.max_pool2 = MaxPool2D(kernel_size=2,stride=2)\n",
    "        self.fc = Linear(in_features=980,out_features=10)\n",
    "    def forward(self,inputs):\n",
    "        x = self.conv1(inputs)\n",
    "        x = F.relu(x)\n",
    "        x = self.max_pool1(x)\n",
    "        x = self.conv2(x)\n",
    "        x = F.relu(x)\n",
    "        x = self.max_pool2(x)\n",
    "        x = paddle.reshape(x,[x.shape[0],-1])\n",
    "        x = self.fc(x)\n",
    "        return x"
   ],
   "id": "d49565d33e9c0a9f",
   "execution_count": 25,
   "outputs": []
  },
  {
   "metadata": {
    "ExecuteTime": {
     "end_time": "2024-04-19T03:44:11.811471Z",
     "start_time": "2024-04-19T03:44:11.796463Z"
    }
   },
   "cell_type": "code",
   "source": [
    "def evaluationmodel(model,datasets):\n",
    "    model.eval()\n",
    "    acc_set = list()\n",
    "    for batch_id,data in enumerate(datasets()):\n",
    "        images,labels = data\n",
    "        images = paddle.to_tensor(images)\n",
    "        labels = paddle.to_tensor(labels)\n",
    "        pred = model(images)\n",
    "        acc = paddle.metric.accuracy(input=pred,label = labels)\n",
    "        acc_set.append(acc.numpy())\n",
    "    acc_val_mean = np.array(acc_set).mean()\n",
    "    return acc_val_mean"
   ],
   "id": "9f1c9cd96fb868b5",
   "execution_count": 26,
   "outputs": []
  },
  {
   "metadata": {
    "ExecuteTime": {
     "end_time": "2024-04-19T03:46:35.030137Z",
     "start_time": "2024-04-19T03:45:51.390393Z"
    }
   },
   "cell_type": "code",
   "source": [
    "def train(model):\n",
    "    model.train()\n",
    "    \n",
    "    opt = paddle.optimizer.SGD(learning_rate=0.001,parameters=model.parameters())\n",
    "    EPOCH_NUM = 10\n",
    "    for epoch_id in range(EPOCH_NUM):\n",
    "        for batch_id,data in enumerate(train_loader()):\n",
    "            images, labels = data\n",
    "            images = paddle.to_tensor(images)\n",
    "            labels = paddle.to_tensor(labels)\n",
    "        \n",
    "            predicts = model(images)\n",
    "        \n",
    "            loss = F.cross_entropy(predicts,labels)\n",
    "            avg_loss = paddle.mean(loss)\n",
    "        \n",
    "            if batch_id % 200 == 0:\n",
    "                print('epoch:{},batch{},loss is:{}'.format(epoch_id,batch_id,avg_loss.numpy()))\n",
    "        \n",
    "            avg_loss.backward()\n",
    "            opt.step()\n",
    "            opt.clear_grad\n",
    "    paddle.save(model.state_dict(),'mnist.pdparams')\n",
    "    \n",
    "model = MNIST()\n",
    "train(model)"
   ],
   "id": "f4582d608faf31cc",
   "execution_count": 29,
   "outputs": []
  },
  {
   "metadata": {
    "ExecuteTime": {
     "end_time": "2024-04-19T03:58:18.511213Z",
     "start_time": "2024-04-19T03:58:18.434219Z"
    }
   },
   "cell_type": "code",
   "source": [
    "import numpy as np  \n",
    "import paddle  \n",
    "from PIL import Image  \n",
    "from PIL.Image import Resampling  \n",
    "  \n",
    "def load_image(img_path):  \n",
    " \n",
    "    im = Image.open(img_path).convert('L')  \n",
    "  \n",
    "    im = im.resize((28, 28), Resampling.LANCZOS)  \n",
    "    im = np.array(im).reshape(1, -1).astype(np.float32)  \n",
    "  \n",
    "\n",
    "    im = 1 - im / 255  \n",
    "  \n",
    "    return im  \n",
    "  \n",
    "\n",
    "model = MNIST()  \n",
    "params_file_path = 'mnist.pdparams'  \n",
    "img_path = '../work/example_0.jpg'  \n",
    "  \n",
    "\n",
    "param_dict = paddle.load(params_file_path)  \n",
    "model.load_dict(param_dict)  \n",
    "  \n",
    "\n",
    "model.eval()  \n",
    "  \n",
    "\n",
    "tensor_img = load_image(img_path)  \n",
    "result = model(paddle.to_tensor(tensor_img))  \n",
    "  \n",
    "print('Predicted result:', result.numpy())  \n",
    " \n",
    "predicted_digit = np.argmax(result.numpy(), axis=1)  \n",
    "print(\"本次预测的数字是\", predicted_digit)"
   ],
   "id": "6a8a8710ab687ba5",
   "execution_count": 39,
   "outputs": []
  }
 ],
 "metadata": {
  "kernelspec": {
   "display_name": "Python 3",
   "language": "python",
   "name": "python3"
  },
  "language_info": {
   "codemirror_mode": {
    "name": "ipython",
    "version": 2
   },
   "file_extension": ".py",
   "mimetype": "text/x-python",
   "name": "python",
   "nbconvert_exporter": "python",
   "pygments_lexer": "ipython2",
   "version": "2.7.6"
  }
 },
 "nbformat": 4,
 "nbformat_minor": 5
}
