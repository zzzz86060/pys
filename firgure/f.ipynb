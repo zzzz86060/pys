{
 "cells": [
  {
   "cell_type": "code",
   "id": "initial_id",
   "metadata": {
    "collapsed": true,
    "ExecuteTime": {
     "end_time": "2024-06-07T03:45:41.374696Z",
     "start_time": "2024-06-07T03:45:37.611309Z"
    }
   },
   "source": [
    "from data_process import get_MNIST_dataloader\n",
    "train_loader,test_loader =get_MNIST_dataloader()"
   ],
   "outputs": [
    {
     "name": "stderr",
     "output_type": "stream",
     "text": [
      "D:\\conda\\envs\\pytorch\\lib\\site-packages\\paddle\\io\\reader.py:429: UserWarning: DataLoader with multi-process mode is not supported on MacOs and Windows currently. Please use signle-process mode with num_workers = 0 instead\n",
      "  warnings.warn(\n"
     ]
    }
   ],
   "execution_count": 1
  },
  {
   "metadata": {
    "ExecuteTime": {
     "end_time": "2024-06-07T03:45:41.655473Z",
     "start_time": "2024-06-07T03:45:41.377694Z"
    }
   },
   "cell_type": "code",
   "source": [
    "import numpy as np\n",
    "import matplotlib.pyplot as plt\n",
    "\n",
    "def sigmoid(x):\n",
    "    return 1./(1+np.exp(-x))\n",
    "\n",
    "x = np.arange(-6,6,0.2)\n",
    "y = sigmoid(x)\n",
    "plt.plot(x,y)"
   ],
   "id": "a4d3f1b74876320b",
   "outputs": [
    {
     "data": {
      "text/plain": [
       "[<matplotlib.lines.Line2D at 0x26986073280>]"
      ]
     },
     "execution_count": 2,
     "metadata": {},
     "output_type": "execute_result"
    },
    {
     "data": {
      "text/plain": [
       "<Figure size 640x480 with 1 Axes>"
      ],
      "image/png": "[encoded data removed]"
     },
     "metadata": {},
     "output_type": "display_data"
    }
   ],
   "execution_count": 2
  },
  {
   "metadata": {
    "ExecuteTime": {
     "end_time": "2024-06-07T03:45:41.671334Z",
     "start_time": "2024-06-07T03:45:41.658334Z"
    }
   },
   "cell_type": "code",
   "source": [
    "import paddle\n",
    "import paddle.nn.functional as F\n",
    "from paddle.nn import Linear\n",
    "\n",
    "class MNIST(paddle.nn.Layer):\n",
    "    def __init__(self):\n",
    "        super(MNIST, self).__init__()\n",
    "        self.fc1 = Linear(in_features=784, out_features=10)\n",
    "        self.fc2 = Linear(in_features=10, out_features=10)  \n",
    "        self.fc3 = Linear(in_features=10, out_features=1)\n",
    "        \n",
    "    def forward(self,inputs):\n",
    "        inputs = paddle.reshape(inputs,[inputs.shape[0],784])\n",
    "        output1 = self.fc1(inputs)\n",
    "        output1 = F.sigmoid(output1)\n",
    "        outputs2 = self.fc2(output1)\n",
    "        outputs2 = F.sigmoid(outputs2)\n",
    "        outputs_final = self.fc3(outputs2)\n",
    "        return outputs_final\n",
    "        "
   ],
   "id": "a29990c8aea7a9ef",
   "outputs": [],
   "execution_count": 3
  },
  {
   "metadata": {
    "ExecuteTime": {
     "end_time": "2024-06-07T03:45:42.013920Z",
     "start_time": "2024-06-07T03:45:41.673333Z"
    }
   },
   "cell_type": "code",
   "source": [
    "model = MNIST()\n",
    "parmams_info = paddle.summary(model,(1,1,28,28))\n",
    "print(parmams_info)"
   ],
   "id": "3aa80e519fc96be8",
   "outputs": [
    {
     "name": "stdout",
     "output_type": "stream",
     "text": [
      "---------------------------------------------------------------------------\n",
      " Layer (type)       Input Shape          Output Shape         Param #    \n",
      "===========================================================================\n",
      "   Linear-1          [[1, 784]]            [1, 10]             7,850     \n",
      "   Linear-2          [[1, 10]]             [1, 10]              110      \n",
      "   Linear-3          [[1, 10]]              [1, 1]              11       \n",
      "===========================================================================\n",
      "Total params: 7,971\n",
      "Trainable params: 7,971\n",
      "Non-trainable params: 0\n",
      "---------------------------------------------------------------------------\n",
      "Input size (MB): 0.00\n",
      "Forward/backward pass size (MB): 0.00\n",
      "Params size (MB): 0.03\n",
      "Estimated Total Size (MB): 0.03\n",
      "---------------------------------------------------------------------------\n",
      "\n",
      "{'total_params': 7971, 'trainable_params': 7971}\n"
     ]
    }
   ],
   "execution_count": 4
  },
  {
   "metadata": {
    "ExecuteTime": {
     "end_time": "2024-06-07T03:45:59.233193Z",
     "start_time": "2024-06-07T03:45:42.015920Z"
    }
   },
   "cell_type": "code",
   "source": [
    "def train(model):  \n",
    "    model.train()  \n",
    "  \n",
    "    opt = paddle.optimizer.SGD(learning_rate=0.01, parameters=model.parameters())  \n",
    "  \n",
    "    EPOCH_NUM = 10\n",
    "    loss_list = []  \n",
    "      \n",
    "    for epoch_id in range(EPOCH_NUM):  \n",
    "        for batch_id, data in enumerate(train_loader()):  \n",
    "            images, labels = data  \n",
    "            images = paddle.to_tensor(images)  \n",
    "            labels = paddle.to_tensor(labels, dtype='float32')  \n",
    "              \n",
    "            predicts = model(images)  \n",
    "              \n",
    "            loss = F.square_error_cost(predicts, labels)  \n",
    "            avg_loss = paddle.mean(loss)  \n",
    "              \n",
    "            if batch_id % 100 == 0:  \n",
    "                loss_value = avg_loss.numpy()  \n",
    "                loss_list.append(loss_value)  \n",
    "                print(\"epoch: {}, batch_id: {}, loss is: {}\".format(epoch_id, batch_id, loss_value))  \n",
    "              \n",
    "            avg_loss.backward()  \n",
    "            opt.step()  \n",
    "            opt.clear_grad()  \n",
    "                  \n",
    "    paddle.save(model.state_dict(), 'mnist.pdparams')  \n",
    "    return loss_list\n",
    "model = MNIST()\n",
    "loss_list = train(model)\n"
   ],
   "id": "536aa8bef4067737",
   "outputs": [
    {
     "name": "stdout",
     "output_type": "stream",
     "text": [
      "epoch: 0, batch_id: 0, loss is: 24.40903091430664\n",
      "epoch: 0, batch_id: 100, loss is: 8.572649955749512\n",
      "epoch: 0, batch_id: 200, loss is: 5.8950653076171875\n",
      "epoch: 0, batch_id: 300, loss is: 4.426689624786377\n",
      "epoch: 0, batch_id: 400, loss is: 3.4664525985717773\n",
      "epoch: 0, batch_id: 500, loss is: 2.7026185989379883\n",
      "epoch: 0, batch_id: 600, loss is: 3.1639223098754883\n",
      "epoch: 0, batch_id: 700, loss is: 2.6974523067474365\n",
      "epoch: 0, batch_id: 800, loss is: 2.795473098754883\n",
      "epoch: 0, batch_id: 900, loss is: 4.887727737426758\n",
      "epoch: 1, batch_id: 0, loss is: 2.1950488090515137\n",
      "epoch: 1, batch_id: 100, loss is: 1.8896503448486328\n",
      "epoch: 1, batch_id: 200, loss is: 2.058258295059204\n",
      "epoch: 1, batch_id: 300, loss is: 3.285013198852539\n",
      "epoch: 1, batch_id: 400, loss is: 1.6889433860778809\n",
      "epoch: 1, batch_id: 500, loss is: 2.0513179302215576\n",
      "epoch: 1, batch_id: 600, loss is: 1.6108757257461548\n",
      "epoch: 1, batch_id: 700, loss is: 0.9829690456390381\n",
      "epoch: 1, batch_id: 800, loss is: 1.6273080110549927\n",
      "epoch: 1, batch_id: 900, loss is: 2.2695322036743164\n",
      "epoch: 2, batch_id: 0, loss is: 2.152855396270752\n",
      "epoch: 2, batch_id: 100, loss is: 1.4205766916275024\n",
      "epoch: 2, batch_id: 200, loss is: 1.7599767446517944\n",
      "epoch: 2, batch_id: 300, loss is: 1.7348670959472656\n",
      "epoch: 2, batch_id: 400, loss is: 1.5937409400939941\n",
      "epoch: 2, batch_id: 500, loss is: 1.25228750705719\n",
      "epoch: 2, batch_id: 600, loss is: 1.8406325578689575\n",
      "epoch: 2, batch_id: 700, loss is: 1.4760136604309082\n",
      "epoch: 2, batch_id: 800, loss is: 1.1839317083358765\n"
     ]
    },
    {
     "ename": "KeyboardInterrupt",
     "evalue": "",
     "output_type": "error",
     "traceback": [
      "\u001B[1;31m---------------------------------------------------------------------------\u001B[0m",
      "\u001B[1;31mKeyboardInterrupt\u001B[0m                         Traceback (most recent call last)",
      "Cell \u001B[1;32mIn[5], line 32\u001B[0m\n\u001B[0;32m     30\u001B[0m     \u001B[38;5;28;01mreturn\u001B[39;00m loss_list\n\u001B[0;32m     31\u001B[0m model \u001B[38;5;241m=\u001B[39m MNIST()\n\u001B[1;32m---> 32\u001B[0m loss_list \u001B[38;5;241m=\u001B[39m \u001B[43mtrain\u001B[49m\u001B[43m(\u001B[49m\u001B[43mmodel\u001B[49m\u001B[43m)\u001B[49m\n",
      "Cell \u001B[1;32mIn[5], line 25\u001B[0m, in \u001B[0;36mtrain\u001B[1;34m(model)\u001B[0m\n\u001B[0;32m     22\u001B[0m     loss_list\u001B[38;5;241m.\u001B[39mappend(loss_value)  \n\u001B[0;32m     23\u001B[0m     \u001B[38;5;28mprint\u001B[39m(\u001B[38;5;124m\"\u001B[39m\u001B[38;5;124mepoch: \u001B[39m\u001B[38;5;132;01m{}\u001B[39;00m\u001B[38;5;124m, batch_id: \u001B[39m\u001B[38;5;132;01m{}\u001B[39;00m\u001B[38;5;124m, loss is: \u001B[39m\u001B[38;5;132;01m{}\u001B[39;00m\u001B[38;5;124m\"\u001B[39m\u001B[38;5;241m.\u001B[39mformat(epoch_id, batch_id, loss_value))  \n\u001B[1;32m---> 25\u001B[0m \u001B[43mavg_loss\u001B[49m\u001B[38;5;241;43m.\u001B[39;49m\u001B[43mbackward\u001B[49m\u001B[43m(\u001B[49m\u001B[43m)\u001B[49m  \n\u001B[0;32m     26\u001B[0m opt\u001B[38;5;241m.\u001B[39mstep()  \n\u001B[0;32m     27\u001B[0m opt\u001B[38;5;241m.\u001B[39mclear_grad()  \n",
      "File \u001B[1;32mD:\\conda\\envs\\pytorch\\lib\\site-packages\\decorator.py:232\u001B[0m, in \u001B[0;36mdecorate.<locals>.fun\u001B[1;34m(*args, **kw)\u001B[0m\n\u001B[0;32m    230\u001B[0m \u001B[38;5;28;01mif\u001B[39;00m \u001B[38;5;129;01mnot\u001B[39;00m kwsyntax:\n\u001B[0;32m    231\u001B[0m     args, kw \u001B[38;5;241m=\u001B[39m fix(args, kw, sig)\n\u001B[1;32m--> 232\u001B[0m \u001B[38;5;28;01mreturn\u001B[39;00m caller(func, \u001B[38;5;241m*\u001B[39m(extras \u001B[38;5;241m+\u001B[39m args), \u001B[38;5;241m*\u001B[39m\u001B[38;5;241m*\u001B[39mkw)\n",
      "File \u001B[1;32mD:\\conda\\envs\\pytorch\\lib\\site-packages\\paddle\\base\\wrapped_decorator.py:26\u001B[0m, in \u001B[0;36mwrap_decorator.<locals>.__impl__\u001B[1;34m(func, *args, **kwargs)\u001B[0m\n\u001B[0;32m     23\u001B[0m \u001B[38;5;129m@decorator\u001B[39m\u001B[38;5;241m.\u001B[39mdecorator\n\u001B[0;32m     24\u001B[0m \u001B[38;5;28;01mdef\u001B[39;00m \u001B[38;5;21m__impl__\u001B[39m(func, \u001B[38;5;241m*\u001B[39margs, \u001B[38;5;241m*\u001B[39m\u001B[38;5;241m*\u001B[39mkwargs):\n\u001B[0;32m     25\u001B[0m     wrapped_func \u001B[38;5;241m=\u001B[39m decorator_func(func)\n\u001B[1;32m---> 26\u001B[0m     \u001B[38;5;28;01mreturn\u001B[39;00m wrapped_func(\u001B[38;5;241m*\u001B[39margs, \u001B[38;5;241m*\u001B[39m\u001B[38;5;241m*\u001B[39mkwargs)\n",
      "File \u001B[1;32mD:\\conda\\envs\\pytorch\\lib\\site-packages\\paddle\\base\\framework.py:593\u001B[0m, in \u001B[0;36m_dygraph_only_.<locals>.__impl__\u001B[1;34m(*args, **kwargs)\u001B[0m\n\u001B[0;32m    588\u001B[0m \u001B[38;5;28;01mdef\u001B[39;00m \u001B[38;5;21m__impl__\u001B[39m(\u001B[38;5;241m*\u001B[39margs, \u001B[38;5;241m*\u001B[39m\u001B[38;5;241m*\u001B[39mkwargs):\n\u001B[0;32m    589\u001B[0m     \u001B[38;5;28;01massert\u001B[39;00m in_dygraph_mode(), (\n\u001B[0;32m    590\u001B[0m         \u001B[38;5;124m\"\u001B[39m\u001B[38;5;124mWe only support \u001B[39m\u001B[38;5;124m'\u001B[39m\u001B[38;5;132;01m%s\u001B[39;00m\u001B[38;5;124m()\u001B[39m\u001B[38;5;124m'\u001B[39m\u001B[38;5;124m in dynamic graph mode, please call \u001B[39m\u001B[38;5;124m'\u001B[39m\u001B[38;5;124mpaddle.disable_static()\u001B[39m\u001B[38;5;124m'\u001B[39m\u001B[38;5;124m to enter dynamic graph mode.\u001B[39m\u001B[38;5;124m\"\u001B[39m\n\u001B[0;32m    591\u001B[0m         \u001B[38;5;241m%\u001B[39m func\u001B[38;5;241m.\u001B[39m\u001B[38;5;18m__name__\u001B[39m\n\u001B[0;32m    592\u001B[0m     )\n\u001B[1;32m--> 593\u001B[0m     \u001B[38;5;28;01mreturn\u001B[39;00m func(\u001B[38;5;241m*\u001B[39margs, \u001B[38;5;241m*\u001B[39m\u001B[38;5;241m*\u001B[39mkwargs)\n",
      "File \u001B[1;32mD:\\conda\\envs\\pytorch\\lib\\site-packages\\paddle\\base\\dygraph\\tensor_patch_methods.py:342\u001B[0m, in \u001B[0;36mmonkey_patch_tensor.<locals>.backward\u001B[1;34m(self, grad_tensor, retain_graph)\u001B[0m\n\u001B[0;32m    338\u001B[0m \u001B[38;5;28;01mif\u001B[39;00m _grad_scalar:\n\u001B[0;32m    339\u001B[0m     \u001B[38;5;66;03m# When using amp with Fleet DistributedStrategy, we do loss scaling implicitly.\u001B[39;00m\n\u001B[0;32m    340\u001B[0m     \u001B[38;5;28mself\u001B[39m \u001B[38;5;241m=\u001B[39m _grad_scalar\u001B[38;5;241m.\u001B[39mscale(\u001B[38;5;28mself\u001B[39m)\n\u001B[1;32m--> 342\u001B[0m \u001B[43mcore\u001B[49m\u001B[38;5;241;43m.\u001B[39;49m\u001B[43meager\u001B[49m\u001B[38;5;241;43m.\u001B[39;49m\u001B[43mrun_backward\u001B[49m\u001B[43m(\u001B[49m\u001B[43m[\u001B[49m\u001B[38;5;28;43mself\u001B[39;49m\u001B[43m]\u001B[49m\u001B[43m,\u001B[49m\u001B[43m \u001B[49m\u001B[43mgrad_tensor\u001B[49m\u001B[43m,\u001B[49m\u001B[43m \u001B[49m\u001B[43mretain_graph\u001B[49m\u001B[43m)\u001B[49m\n\u001B[0;32m    344\u001B[0m \u001B[38;5;28;01mif\u001B[39;00m in_profiler_mode():\n\u001B[0;32m    345\u001B[0m     record_event\u001B[38;5;241m.\u001B[39mend()\n",
      "\u001B[1;31mKeyboardInterrupt\u001B[0m: "
     ]
    }
   ],
   "execution_count": 5
  },
  {
   "metadata": {},
   "cell_type": "code",
   "source": "plt.plot(loss_list)",
   "id": "7edec21074caceba",
   "outputs": [],
   "execution_count": null
  },
  {
   "metadata": {},
   "cell_type": "markdown",
   "source": "# 卷积",
   "id": "ea885d75580149f4"
  },
  {
   "metadata": {},
   "cell_type": "code",
   "source": [
    "import paddle \n",
    "from paddle.nn import Conv2D,MaxPool2D,Linear\n",
    "from paddle.nn import Linear\n",
    "import paddle.nn.functional as F\n",
    "class MNIST(paddle.nn.Layer):\n",
    "    def __init__(self):\n",
    "        super(MNIST, self).__init__()\n",
    "        self.conv1 = Conv2D(in_channels=1,out_channels=20,kernel_size=5,stride=1,padding=2)\n",
    "        self.max_pool1 = MaxPool2D(kernel_size=2,stride=2)\n",
    "        self.conv2 = Conv2D(in_channels=20,out_channels=20,kernel_size=5,stride=1,padding=2)\n",
    "        self.max_pool2 = MaxPool2D(kernel_size=2,stride=2)\n",
    "        self.fc = Linear(in_features=980,out_features=1)\n",
    "    def forward(self,inputs):\n",
    "        x = self.conv1(inputs)\n",
    "        x = F.relu(x)\n",
    "        x = self.max_pool1(x)\n",
    "        x = self.conv2(x)\n",
    "        x = F.relu(x)\n",
    "        x = self.max_pool2(x)\n",
    "        x = paddle.reshape(x,[x.shape[0],-1])\n",
    "        x = self.fc(x)\n",
    "        return x"
   ],
   "id": "dd031f2d03791396",
   "outputs": [],
   "execution_count": null
  },
  {
   "metadata": {},
   "cell_type": "code",
   "source": [
    "import  torch \n",
    "print(torch.cuda.get_device_name(0))\n",
    "\n"
   ],
   "id": "ef5fb04f7a806a2a",
   "outputs": [],
   "execution_count": null
  },
  {
   "metadata": {},
   "cell_type": "code",
   "source": [
    "import torch\n",
    "torch.cuda.is_available()\n"
   ],
   "id": "5aeb95face56b616",
   "outputs": [],
   "execution_count": null
  },
  {
   "metadata": {},
   "cell_type": "code",
   "source": "\n",
   "id": "e8ff96e3a3e02f57",
   "outputs": [],
   "execution_count": null
  }
 ],
 "metadata": {
  "kernelspec": {
   "display_name": "Python 3",
   "language": "python",
   "name": "python3"
  },
  "language_info": {
   "codemirror_mode": {
    "name": "ipython",
    "version": 2
   },
   "file_extension": ".py",
   "mimetype": "text/x-python",
   "name": "python",
   "nbconvert_exporter": "python",
   "pygments_lexer": "ipython2",
   "version": "2.7.6"
  }
 },
 "nbformat": 4,
 "nbformat_minor": 5
}
