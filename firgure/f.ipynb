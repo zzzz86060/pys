{
 "cells": [
  {
   "cell_type": "code",
   "id": "initial_id",
   "metadata": {
    "collapsed": true,
    "ExecuteTime": {
     "end_time": "2024-04-16T03:36:36.783450Z",
     "start_time": "2024-04-16T03:36:33.609589Z"
    }
   },
   "source": [
    "from data_process import get_MNIST_dataloader\n",
    "train_loader,_ =get_MNIST_dataloader()"
   ],
   "outputs": [],
   "execution_count": 8
  },
  {
   "metadata": {
    "ExecuteTime": {
     "end_time": "2024-04-16T03:36:38.961841Z",
     "start_time": "2024-04-16T03:36:38.617080Z"
    }
   },
   "cell_type": "code",
   "source": [
    "import numpy as np\n",
    "import matplotlib.pyplot as plt\n",
    "\n",
    "def sigmoid(x):\n",
    "    return 1./(1+np.exp(-x))\n",
    "\n",
    "x = np.arange(-6,6,0.2)\n",
    "y = sigmoid(x)\n",
    "plt.plot(x,y)"
   ],
   "id": "a4d3f1b74876320b",
   "outputs": [
    {
     "data": {
      "text/plain": [
       "[<matplotlib.lines.Line2D at 0x246b4aff820>]"
      ]
     },
     "execution_count": 9,
     "metadata": {},
     "output_type": "execute_result"
    },
    {
     "data": {
      "text/plain": [
       "<Figure size 640x480 with 1 Axes>"
      ],
      "image/png": "[encoded data removed]"
     },
     "metadata": {},
     "output_type": "display_data"
    }
   ],
   "execution_count": 9
  },
  {
   "metadata": {
    "ExecuteTime": {
     "end_time": "2024-04-16T03:36:41.037925Z",
     "start_time": "2024-04-16T03:36:41.017891Z"
    }
   },
   "cell_type": "code",
   "source": [
    "import paddle\n",
    "import paddle.nn.functional as F\n",
    "from paddle.nn import Linear\n",
    "\n",
    "class MNIST(paddle.nn.Layer):\n",
    "    def __init__(self):\n",
    "        super(MNIST, self).__init__()\n",
    "        self.fc1 = Linear(in_features=784, out_features=10)\n",
    "        self.fc2 = Linear(in_features=10, out_features=10)  \n",
    "        self.fc3 = Linear(in_features=10, out_features=1)\n",
    "        \n",
    "    def forward(self,inputs):\n",
    "        inputs = paddle.reshape(inputs,[inputs.shape[0],784])\n",
    "        output1 = self.fc1(inputs)\n",
    "        output1 = F.sigmoid(output1)\n",
    "        outputs2 = self.fc2(output1)\n",
    "        outputs2 = F.sigmoid(outputs2)\n",
    "        outputs_final = self.fc3(outputs2)\n",
    "        return outputs_final\n",
    "        "
   ],
   "id": "a29990c8aea7a9ef",
   "outputs": [],
   "execution_count": 10
  },
  {
   "metadata": {
    "ExecuteTime": {
     "end_time": "2024-04-16T03:36:15.658443Z",
     "start_time": "2024-04-16T03:36:08.567490Z"
    }
   },
   "cell_type": "code",
   "source": [
    "model = MNIST()\n",
    "parmams_info = paddle.summary(model,(1,1,28,28))\n",
    "print(parmams_info)"
   ],
   "id": "3aa80e519fc96be8",
   "outputs": [
    {
     "name": "stdout",
     "output_type": "stream",
     "text": [
      "---------------------------------------------------------------------------\n",
      " Layer (type)       Input Shape          Output Shape         Param #    \n",
      "===========================================================================\n",
      "   Linear-1          [[1, 784]]            [1, 10]             7,850     \n",
      "   Linear-2          [[1, 10]]             [1, 10]              110      \n",
      "   Linear-3          [[1, 10]]              [1, 1]              11       \n",
      "===========================================================================\n",
      "Total params: 7,971\n",
      "Trainable params: 7,971\n",
      "Non-trainable params: 0\n",
      "---------------------------------------------------------------------------\n",
      "Input size (MB): 0.00\n",
      "Forward/backward pass size (MB): 0.00\n",
      "Params size (MB): 0.03\n",
      "Estimated Total Size (MB): 0.03\n",
      "---------------------------------------------------------------------------\n",
      "\n",
      "{'total_params': 7971, 'trainable_params': 7971}\n"
     ]
    }
   ],
   "execution_count": 4
  },
  {
   "metadata": {
    "ExecuteTime": {
     "end_time": "2024-04-16T03:37:41.620583Z",
     "start_time": "2024-04-16T03:36:44.954267Z"
    }
   },
   "cell_type": "code",
   "source": [
    "def train(model):  \n",
    "    model.train()  \n",
    "  \n",
    "    opt = paddle.optimizer.SGD(learning_rate=0.01, parameters=model.parameters())  \n",
    "  \n",
    "    EPOCH_NUM = 10  \n",
    "    loss_list = []  \n",
    "      \n",
    "    for epoch_id in range(EPOCH_NUM):  \n",
    "        for batch_id, data in enumerate(train_loader()):  \n",
    "            images, labels = data  \n",
    "            images = paddle.to_tensor(images)  \n",
    "            labels = paddle.to_tensor(labels, dtype='float32')  \n",
    "              \n",
    "            predicts = model(images)  \n",
    "              \n",
    "            loss = F.square_error_cost(predicts, labels)  \n",
    "            avg_loss = paddle.mean(loss)  \n",
    "              \n",
    "            if batch_id % 100 == 0:  \n",
    "                loss_value = avg_loss.numpy()  \n",
    "                loss_list.append(loss_value)  \n",
    "                print(\"epoch: {}, batch_id: {}, loss is: {}\".format(epoch_id, batch_id, loss_value))  \n",
    "              \n",
    "            avg_loss.backward()  \n",
    "            opt.step()  \n",
    "            opt.clear_grad()  \n",
    "                  \n",
    "    paddle.save(model.state_dict(), 'mnist.pdparams')  \n",
    "    return loss_list\n",
    "model = MNIST()\n",
    "loss_list = train(model)\n"
   ],
   "id": "536aa8bef4067737",
   "outputs": [
    {
     "name": "stdout",
     "output_type": "stream",
     "text": [
      "epoch: 0, batch_id: 0, loss is: 34.954833984375\n",
      "epoch: 0, batch_id: 100, loss is: 6.40114688873291\n",
      "epoch: 0, batch_id: 200, loss is: 4.68400764465332\n",
      "epoch: 0, batch_id: 300, loss is: 3.5723588466644287\n",
      "epoch: 0, batch_id: 400, loss is: 3.6836743354797363\n",
      "epoch: 0, batch_id: 500, loss is: 2.6925981044769287\n",
      "epoch: 0, batch_id: 600, loss is: 2.893784284591675\n",
      "epoch: 0, batch_id: 700, loss is: 2.154475212097168\n",
      "epoch: 0, batch_id: 800, loss is: 2.2024924755096436\n",
      "epoch: 0, batch_id: 900, loss is: 2.828141689300537\n",
      "epoch: 1, batch_id: 0, loss is: 2.3409783840179443\n",
      "epoch: 1, batch_id: 100, loss is: 2.8784754276275635\n",
      "epoch: 1, batch_id: 200, loss is: 2.9948577880859375\n",
      "epoch: 1, batch_id: 300, loss is: 3.1053104400634766\n",
      "epoch: 1, batch_id: 400, loss is: 1.6923235654830933\n",
      "epoch: 1, batch_id: 500, loss is: 1.7690355777740479\n",
      "epoch: 1, batch_id: 600, loss is: 2.290196418762207\n",
      "epoch: 1, batch_id: 700, loss is: 1.95451819896698\n",
      "epoch: 1, batch_id: 800, loss is: 3.358388900756836\n",
      "epoch: 1, batch_id: 900, loss is: 1.4460194110870361\n",
      "epoch: 2, batch_id: 0, loss is: 2.446340799331665\n",
      "epoch: 2, batch_id: 100, loss is: 0.9525591135025024\n",
      "epoch: 2, batch_id: 200, loss is: 1.7924574613571167\n",
      "epoch: 2, batch_id: 300, loss is: 1.9009876251220703\n",
      "epoch: 2, batch_id: 400, loss is: 2.63037371635437\n",
      "epoch: 2, batch_id: 500, loss is: 1.629507303237915\n",
      "epoch: 2, batch_id: 600, loss is: 2.75460147857666\n",
      "epoch: 2, batch_id: 700, loss is: 0.8235580921173096\n",
      "epoch: 2, batch_id: 800, loss is: 2.1574416160583496\n",
      "epoch: 2, batch_id: 900, loss is: 1.184637188911438\n",
      "epoch: 3, batch_id: 0, loss is: 1.8288005590438843\n",
      "epoch: 3, batch_id: 100, loss is: 1.107137680053711\n",
      "epoch: 3, batch_id: 200, loss is: 1.845001459121704\n",
      "epoch: 3, batch_id: 300, loss is: 1.1040668487548828\n",
      "epoch: 3, batch_id: 400, loss is: 1.2027738094329834\n",
      "epoch: 3, batch_id: 500, loss is: 1.4418739080429077\n",
      "epoch: 3, batch_id: 600, loss is: 1.3730305433273315\n",
      "epoch: 3, batch_id: 700, loss is: 1.4884181022644043\n",
      "epoch: 3, batch_id: 800, loss is: 1.1455507278442383\n",
      "epoch: 3, batch_id: 900, loss is: 1.4914612770080566\n",
      "epoch: 4, batch_id: 0, loss is: 0.9894778728485107\n",
      "epoch: 4, batch_id: 100, loss is: 1.4132015705108643\n",
      "epoch: 4, batch_id: 200, loss is: 1.110465407371521\n",
      "epoch: 4, batch_id: 300, loss is: 2.3580820560455322\n",
      "epoch: 4, batch_id: 400, loss is: 1.4488551616668701\n",
      "epoch: 4, batch_id: 500, loss is: 1.172974944114685\n",
      "epoch: 4, batch_id: 600, loss is: 1.5068882703781128\n",
      "epoch: 4, batch_id: 700, loss is: 1.1618010997772217\n",
      "epoch: 4, batch_id: 800, loss is: 1.061814785003662\n",
      "epoch: 4, batch_id: 900, loss is: 3.0775930881500244\n",
      "epoch: 5, batch_id: 0, loss is: 0.6981266140937805\n",
      "epoch: 5, batch_id: 100, loss is: 1.4712399244308472\n",
      "epoch: 5, batch_id: 200, loss is: 0.7996628880500793\n",
      "epoch: 5, batch_id: 300, loss is: 1.6928362846374512\n",
      "epoch: 5, batch_id: 400, loss is: 2.058962821960449\n",
      "epoch: 5, batch_id: 500, loss is: 1.3109679222106934\n",
      "epoch: 5, batch_id: 600, loss is: 1.3102821111679077\n",
      "epoch: 5, batch_id: 700, loss is: 1.617321252822876\n",
      "epoch: 5, batch_id: 800, loss is: 1.0509164333343506\n",
      "epoch: 5, batch_id: 900, loss is: 1.0404568910598755\n",
      "epoch: 6, batch_id: 0, loss is: 0.9280646443367004\n",
      "epoch: 6, batch_id: 100, loss is: 1.6107819080352783\n",
      "epoch: 6, batch_id: 200, loss is: 1.9099102020263672\n",
      "epoch: 6, batch_id: 300, loss is: 1.610438585281372\n",
      "epoch: 6, batch_id: 400, loss is: 1.5727922916412354\n",
      "epoch: 6, batch_id: 500, loss is: 1.0518687963485718\n",
      "epoch: 6, batch_id: 600, loss is: 0.6476037502288818\n",
      "epoch: 6, batch_id: 700, loss is: 1.0276166200637817\n",
      "epoch: 6, batch_id: 800, loss is: 1.1134721040725708\n",
      "epoch: 6, batch_id: 900, loss is: 1.7562432289123535\n",
      "epoch: 7, batch_id: 0, loss is: 1.6302721500396729\n",
      "epoch: 7, batch_id: 100, loss is: 1.7477693557739258\n",
      "epoch: 7, batch_id: 200, loss is: 0.912353515625\n",
      "epoch: 7, batch_id: 300, loss is: 0.9310469627380371\n",
      "epoch: 7, batch_id: 400, loss is: 0.6797031164169312\n",
      "epoch: 7, batch_id: 500, loss is: 1.627249002456665\n",
      "epoch: 7, batch_id: 600, loss is: 1.0698840618133545\n",
      "epoch: 7, batch_id: 700, loss is: 1.2997219562530518\n",
      "epoch: 7, batch_id: 800, loss is: 1.2017297744750977\n",
      "epoch: 7, batch_id: 900, loss is: 1.021924614906311\n",
      "epoch: 8, batch_id: 0, loss is: 1.1725075244903564\n",
      "epoch: 8, batch_id: 100, loss is: 1.4051682949066162\n",
      "epoch: 8, batch_id: 200, loss is: 1.831943392753601\n",
      "epoch: 8, batch_id: 300, loss is: 2.037113904953003\n",
      "epoch: 8, batch_id: 400, loss is: 1.8327032327651978\n",
      "epoch: 8, batch_id: 500, loss is: 0.9734858274459839\n",
      "epoch: 8, batch_id: 600, loss is: 0.6311026811599731\n",
      "epoch: 8, batch_id: 700, loss is: 1.0788700580596924\n",
      "epoch: 8, batch_id: 800, loss is: 0.8441160917282104\n",
      "epoch: 8, batch_id: 900, loss is: 1.7847052812576294\n",
      "epoch: 9, batch_id: 0, loss is: 1.036873459815979\n",
      "epoch: 9, batch_id: 100, loss is: 1.5928955078125\n",
      "epoch: 9, batch_id: 200, loss is: 1.306276798248291\n",
      "epoch: 9, batch_id: 300, loss is: 1.2942357063293457\n",
      "epoch: 9, batch_id: 400, loss is: 0.8834079504013062\n",
      "epoch: 9, batch_id: 500, loss is: 0.4492811858654022\n",
      "epoch: 9, batch_id: 600, loss is: 1.3393635749816895\n",
      "epoch: 9, batch_id: 700, loss is: 1.2101314067840576\n",
      "epoch: 9, batch_id: 800, loss is: 1.633899450302124\n",
      "epoch: 9, batch_id: 900, loss is: 0.7698644399642944\n"
     ]
    }
   ],
   "execution_count": 11
  },
  {
   "metadata": {},
   "cell_type": "code",
   "source": "plt.plot(loss_list)",
   "id": "7edec21074caceba",
   "outputs": [],
   "execution_count": null
  },
  {
   "metadata": {},
   "cell_type": "markdown",
   "source": "# 卷积",
   "id": "ea885d75580149f4"
  },
  {
   "metadata": {},
   "cell_type": "code",
   "source": [
    "import paddle \n",
    "from paddle.nn import Conv2D,MaxPool2D,Linear\n",
    "from paddle.nn import Linear\n",
    "import paddle.nn.functional as F\n",
    "class MNIST(paddle.nn.Layer):\n",
    "    def __init__(self):\n",
    "        super(MNIST, self).__init__()\n",
    "        self.conv1 = Conv2D(in_channels=1,out_channels=20,kernel_size=5,stride=1,padding=2)\n",
    "        self.max_pool1 = MaxPool2D(kernel_size=2,stride=2)\n",
    "        self.conv2 = Conv2D(in_channels=20,out_channels=20,kernel_size=5,stride=1,padding=2)\n",
    "        self.max_pool2 = MaxPool2D(kernel_size=2,stride=2)\n",
    "        self.fc = Linear(in_features=980,out_features=1)\n",
    "    def forward(self,inputs):\n",
    "        x = self.conv1(inputs)\n",
    "        x = F.relu(x)\n",
    "        x = self.max_pool1(x)\n",
    "        x = self.conv2(x)\n",
    "        x = F.relu(x)\n",
    "        x = self.max_pool2(x)\n",
    "        x = paddle.reshape(x,[x.shape[0],-1])\n",
    "        x = self.fc(x)\n",
    "        return x"
   ],
   "id": "dd031f2d03791396",
   "outputs": [],
   "execution_count": null
  },
  {
   "metadata": {},
   "cell_type": "code",
   "source": [
    "import  torch \n",
    "print(torch.cuda.get_device_name(0))\n",
    "\n"
   ],
   "id": "ef5fb04f7a806a2a",
   "outputs": [],
   "execution_count": null
  },
  {
   "metadata": {},
   "cell_type": "code",
   "source": [
    "import torch\n",
    "torch.cuda.is_available()\n"
   ],
   "id": "5aeb95face56b616",
   "outputs": [],
   "execution_count": null
  },
  {
   "metadata": {},
   "cell_type": "code",
   "source": "\n",
   "id": "e8ff96e3a3e02f57",
   "outputs": [],
   "execution_count": null
  }
 ],
 "metadata": {
  "kernelspec": {
   "display_name": "Python 3",
   "language": "python",
   "name": "python3"
  },
  "language_info": {
   "codemirror_mode": {
    "name": "ipython",
    "version": 2
   },
   "file_extension": ".py",
   "mimetype": "text/x-python",
   "name": "python",
   "nbconvert_exporter": "python",
   "pygments_lexer": "ipython2",
   "version": "2.7.6"
  }
 },
 "nbformat": 4,
 "nbformat_minor": 5
}
