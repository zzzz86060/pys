{
 "cells": [
  {
   "cell_type": "markdown",
   "metadata": {},
   "source": [
    "请点击[此处](https://ai.baidu.com/docs#/AIStudio_Project_Notebook/a38e5576)查看本环境基本用法.  <br>\n",
    "Please click [here ](https://ai.baidu.com/docs#/AIStudio_Project_Notebook/a38e5576) for more detailed instructions. "
   ]
  },
  {
   "cell_type": "markdown",
   "metadata": {},
   "source": [
    "# 《机器学习基础》课程设计"
   ]
  },
  {
   "cell_type": "markdown",
   "metadata": {},
   "source": [
    "## （1）课程设计目标：\n",
    "1. 掌握使用Pandas读取数据的方法。\n",
    "1. 掌握数据探索与数据可视化方法。\n",
    "1. 掌握使用逻辑回归、k近邻、高斯朴素贝叶斯、决策树、支持向量机、随机森林等算法训练分类模型的方法。\n",
    "1. 掌握分类模型的评估方法。"
   ]
  },
  {
   "cell_type": "markdown",
   "metadata": {},
   "source": [
    "## （2）数据简介\n",
    "现有小麦种子数据集，该数据集共有210条数据，每条数据包含7个特征变量和1个类别标签。其中，特征变量包括area、perimeter、compactness、length of kernel、width of kernel、asymmetry coefficient和length of kernel groove，分别表示小麦种子的区域、周长、紧密度、籽粒长度、籽粒宽度、不对称系数和籽粒腹沟长度；类别标签表示小麦种子的所属类别，共有3个类别，分别用1、2和3表示，部分数据如表1所示。要求使用该数据集训练逻辑回归、k近邻、高斯朴素贝叶斯、决策树、支持向量机、随机森林模型，并从中选出最优模型，然后输出最优模型的评估报告。\n",
    "\n",
    "\n",
    "表1-小麦种子数据集（部分）\n",
    "\n",
    "| 区  域 | 周  长|紧 密 度|籽粒长度|籽粒宽度|不对称系数|籽粒腹沟长度|所属类别|\n",
    "| -------- | -------- | -------- |-------- | -------- | -------- |-------- | -------- |\n",
    "15.26|14.84|0.871|5.763|3.312|2.221|5.22|1|\n",
    "14.88|14.57|0.8811|5.554|3.333|1.018|4.956|1|\n",
    "14.29|14.09|0.905|5.291|3.337|2.699|4.825|1|\n",
    "13.84|13.94|0.8955|5.324|3.379|2.259|4.805|1|\n",
    "16.14|14.99|0.9034|5.658|3.562|1.355|5.175|1|\n",
    "…|…|…|…|…|…|…|…\n",
    "17.63|15.98|0.8673|6.191|3.561|4.076|6.06|2|\n",
    "16.84|15.67|0.8623|5.998|3.484|4.675|5.877|2|\n",
    "17.26|15.73|0.8763|5.978|3.594|4.539|5.791|2|\n",
    "19.11|16.26|0.9081|6.154|3.93|2.936|6.079|2|\n",
    "16.82|15.51|0.8786|6.017|3.486|4.004|5.841|2|\n",
    "\n",
    "\n",
    "\n",
    "\n"
   ]
  },
  {
   "cell_type": "markdown",
   "metadata": {},
   "source": [
    "## （3）评分标准\n",
    "1. 数据导入，数据探索（10%）\n",
    "1. 数据可视化（10%）\n",
    "1. 算法评估（30%）：采用至少4中分类方法，可采用调参方法。\n",
    "1. 训练与评估模型，预测新数据（10%）\n",
    "1. 注释（10%）"
   ]
  },
  {
   "cell_type": "markdown",
   "metadata": {},
   "source": [
    "# （4）提交内容\n",
    "1. ipynb源代码；\n",
    "1. 录屏视频，要求运行程序并进行讲解（讲解内容包括代码以及运行结果）。（20%）**录制视频大小小于200M**。"
   ]
  },
  {
   "cell_type": "code",
   "metadata": {
    "execution": {
     "iopub.execute_input": "2024-06-05T05:10:49.182230Z",
     "iopub.status.busy": "2024-06-05T05:10:49.181677Z",
     "iopub.status.idle": "2024-06-05T05:10:49.187532Z",
     "shell.execute_reply": "2024-06-05T05:10:49.186859Z",
     "shell.execute_reply.started": "2024-06-05T05:10:49.182196Z"
    },
    "scrolled": true,
    "ExecuteTime": {
     "end_time": "2024-06-06T03:03:20.176003Z",
     "start_time": "2024-06-06T03:03:17.916641Z"
    }
   },
   "source": [
    "# 导入库\n",
    "import pandas as pd\n",
    "import numpy as np\n",
    "from paddle.distributed.fleet import scaler\n",
    "from sklearn.model_selection import train_test_split\n",
    "from sklearn.linear_model import LogisticRegression\n",
    "from sklearn.neighbors import KNeighborsClassifier\n",
    "from sklearn.naive_bayes import GaussianNB\n",
    "from sklearn.tree import DecisionTreeClassifier\n",
    "from sklearn.svm import SVC\n",
    "from sklearn.ensemble import RandomForestClassifier\n",
    "from sklearn.metrics import classification_report\n",
    "from sklearn.model_selection import cross_val_score\n",
    "import matplotlib.pyplot as plt\n",
    "from sklearn.metrics import accuracy_score\n",
    "from sklearn.linear_model import LogisticRegression\n",
    "from matplotlib.colors import ListedColormap"
   ],
   "execution_count": 3,
   "outputs": []
  },
  {
   "cell_type": "code",
   "metadata": {
    "execution": {
     "iopub.execute_input": "2024-06-05T05:10:49.188953Z",
     "iopub.status.busy": "2024-06-05T05:10:49.188665Z",
     "iopub.status.idle": "2024-06-05T05:10:49.201026Z",
     "shell.execute_reply": "2024-06-05T05:10:49.200253Z",
     "shell.execute_reply.started": "2024-06-05T05:10:49.188932Z"
    },
    "scrolled": true,
    "ExecuteTime": {
     "end_time": "2024-06-06T03:03:22.403484Z",
     "start_time": "2024-06-06T03:03:22.372480Z"
    }
   },
   "source": [
    "# 读取小麦种子数据集\n",
    "names = ['area', 'perimeter', 'compactness', 'length of kernel','width of kernel', 'asymmetry coefficient', 'length of kernel groove','label']\n",
    "dataset = pd.read_csv(\"C:\\\\Users\\\\33079\\PycharmProjects\\pys\\seed\\seeds_dataset2024.txt\",delimiter='\\t',names=names)\n",
    "print(dataset)"
   ],
   "execution_count": 4,
   "outputs": []
  },
  {
   "metadata": {},
   "cell_type": "markdown",
   "source": "# 逻辑回归"
  },
  {
   "cell_type": "code",
   "metadata": {
    "execution": {
     "iopub.execute_input": "2024-06-05T05:10:49.202704Z",
     "iopub.status.busy": "2024-06-05T05:10:49.202357Z",
     "iopub.status.idle": "2024-06-05T05:10:49.683641Z",
     "shell.execute_reply": "2024-06-05T05:10:49.682727Z",
     "shell.execute_reply.started": "2024-06-05T05:10:49.202678Z"
    },
    "scrolled": true,
    "ExecuteTime": {
     "end_time": "2024-06-06T03:03:25.265101Z",
     "start_time": "2024-06-06T03:03:24.862420Z"
    }
   },
   "source": [
    "#数据标准化\n",
    "data = dataset.iloc[:, 0:7] #选择特征area与perimeter\n",
    "target = dataset.iloc[:, -1].values.reshape(1,210)[0]\n",
    "x, y = data, target\n",
    "x_train, x_test, y_train, y_test = train_test_split(x, y, random_state=42, test_size=0.3)\n",
    "\n",
    "#回归模型创建与训练\n",
    "model1 = LogisticRegression()\n",
    "model1.fit(x_train, y_train)\n",
    "\n",
    "#预测\n",
    "acc = accuracy_score(y_test, model1.predict(x_test))\n",
    "print('模型正确率:',acc)\n",
    "\n",
    "#仅选择两个特征用于可视化\n",
    "data = dataset.iloc[:, range(0,2)] #选择特征area与perimeter\n",
    "target = dataset.iloc[:, -1].values.reshape(1,210)[0]\n",
    "x, y = data, target\n",
    "x_train, x_test, y_train, y_test = train_test_split(x, y, random_state=42, test_size=0.3)\n",
    "model1 = LogisticRegression()\n",
    "model1.fit(x_train, y_train)\n",
    "\n",
    "plt.scatter(x_test['area'], x_test['perimeter'], c=y_test)\n",
    "h = .02\n",
    "x_min, x_max = x['area'].min() - 1, x['area'].max() + 1\n",
    "y_min, y_max = x['perimeter'].min() - 1, x['perimeter'].max() + 1\n",
    "xx, yy = np.meshgrid(np.arange(x_min, x_max, h), np.arange(y_min, y_max, h))\n",
    "Z = model1.predict(np.c_[xx.ravel(), yy.ravel()])\n",
    "Z = Z.reshape(xx.shape)\n",
    "plt.contourf(xx, yy, Z, alpha=0.2, cmap=plt.cm.Paired)\n",
    "plt.xlabel('Area')\n",
    "plt.ylabel('Perimeter')\n",
    "plt.title('Scatter plot of Area vs Perimeter')\n",
    "plt.show()\n"
   ],
   "execution_count": 5,
   "outputs": []
  },
  {
   "metadata": {},
   "cell_type": "markdown",
   "source": "# 逻辑回归预测"
  },
  {
   "metadata": {
    "ExecuteTime": {
     "end_time": "2024-06-06T03:15:28.754794Z",
     "start_time": "2024-06-06T03:15:28.737776Z"
    }
   },
   "cell_type": "code",
   "source": [
    "new_data = np.array([[17.63, 15.98]])\n",
    "prediction = model1.predict(new_data)\n",
    "\n",
    "\n",
    "accuracy = accuracy_score(y_train, model1.predict(x_train))\n",
    "print(\"准确率:\", accuracy)\n",
    "print(\"预测的数据为:\", prediction)"
   ],
   "execution_count": 15,
   "outputs": []
  },
  {
   "metadata": {},
   "cell_type": "markdown",
   "source": "# knn"
  },
  {
   "cell_type": "code",
   "metadata": {
    "execution": {
     "iopub.execute_input": "2024-06-05T05:13:39.775030Z",
     "iopub.status.busy": "2024-06-05T05:13:39.774502Z",
     "iopub.status.idle": "2024-06-05T05:13:49.886649Z",
     "shell.execute_reply": "2024-06-05T05:13:49.885816Z",
     "shell.execute_reply.started": "2024-06-05T05:13:39.775001Z"
    },
    "scrolled": true,
    "tags": [],
    "ExecuteTime": {
     "end_time": "2024-06-06T03:08:43.992342Z",
     "start_time": "2024-06-06T03:08:36.814180Z"
    }
   },
   "source": [
    "#数据标准化\n",
    "data = dataset.iloc[:, range(0,7)]\n",
    "target = dataset.iloc[:, -1].values.reshape(1,210)[0]\n",
    "print(type(target),target)\n",
    "x, y = data, target\n",
    "x_train, x_test, y_train, y_test = train_test_split(x, y, random_state=42, test_size=0.3)\n",
    "\n",
    "#模型创建与训练\n",
    "k_range = range(1,20)\n",
    "k_error = []\n",
    "for k in k_range:\n",
    "    model2 = KNeighborsClassifier(n_neighbors=k)\n",
    "    scores = cross_val_score(model2, x, y, cv=5, scoring='accuracy')\n",
    "    k_error.append(1-scores.mean())\n",
    "plt.plot(k_range, k_error, 'r--')\n",
    "plt.xlabel('the value of k')\n",
    "plt.ylabel('the predicted error rate')\n",
    "plt.show()\n",
    "model2 = KNeighborsClassifier(n_neighbors=10) #选取最优k值\n",
    "model2.fit(x_train, y_train)\n",
    "\n",
    "#预测\n",
    "pred = model2.predict(x_test)\n",
    "ac = accuracy_score(y_test, pred)\n",
    "print('k=9时预测模型的准确率:', ac)\n",
    "print('测试集的预测标签值为:', pred)\n",
    "print('测试集的真实标签值为:', y_test)\n",
    "\n",
    "#仅选择两个特征用于可视化\n",
    "data = dataset.iloc[:, range(0,2)] #选择特征area与perimeter\n",
    "target = dataset.iloc[:, -1].values.reshape(1,210)[0]\n",
    "x, y = data, target\n",
    "x_train, x_test, y_train, y_test = train_test_split(x, y, random_state=42, test_size=0.3)\n",
    "model2 = KNeighborsClassifier(n_neighbors=10) #选取最优k值\n",
    "model2.fit(x_train, y_train)\n",
    "\n",
    "plt.scatter(x_test['area'], x_test['perimeter'], c=y_test)\n",
    "h = .02\n",
    "x_min, x_max = x['area'].min() - 1, x['area'].max() + 1\n",
    "y_min, y_max = x['perimeter'].min() - 1, x['perimeter'].max() + 1\n",
    "xx, yy = np.meshgrid(np.arange(x_min, x_max, h), np.arange(y_min, y_max, h))\n",
    "Z = model2.predict(np.c_[xx.ravel(), yy.ravel()])\n",
    "Z = Z.reshape(xx.shape)\n",
    "plt.contourf(xx, yy, Z, alpha=0.2, cmap=plt.cm.Paired)\n",
    "plt.xlabel('Area')\n",
    "plt.ylabel('Perimeter')\n",
    "plt.title('Scatter plot of Area vs Perimeter')\n",
    "plt.show()"
   ],
   "execution_count": 8,
   "outputs": []
  },
  {
   "metadata": {},
   "cell_type": "markdown",
   "source": "# knn数据预测"
  },
  {
   "metadata": {
    "ExecuteTime": {
     "end_time": "2024-06-06T03:15:49.013477Z",
     "start_time": "2024-06-06T03:15:48.990442Z"
    }
   },
   "cell_type": "code",
   "source": [
    "new_data = np.array([[17.63, 15.98]])\n",
    "prediction = model2.predict(new_data)\n",
    "\n",
    "\n",
    "accuracy = accuracy_score(y_train, model2.predict(x_train))\n",
    "print(\"准确率:\", accuracy)\n",
    "print(\"预测的数据为:\", prediction)"
   ],
   "execution_count": 16,
   "outputs": []
  },
  {
   "metadata": {},
   "cell_type": "markdown",
   "source": "# 朴素贝叶斯"
  },
  {
   "cell_type": "code",
   "metadata": {
    "execution": {
     "iopub.execute_input": "2024-06-05T05:13:01.644462Z",
     "iopub.status.busy": "2024-06-05T05:13:01.643922Z",
     "iopub.status.idle": "2024-06-05T05:13:01.920011Z",
     "shell.execute_reply": "2024-06-05T05:13:01.919147Z",
     "shell.execute_reply.started": "2024-06-05T05:13:01.644430Z"
    },
    "scrolled": true,
    "ExecuteTime": {
     "end_time": "2024-06-06T03:14:25.186580Z",
     "start_time": "2024-06-06T03:14:24.909256Z"
    }
   },
   "source": [
    "# 高斯朴素贝叶斯\n",
    "#数据标准化\n",
    "data = dataset.iloc[:, range(0,7)]\n",
    "target = dataset.iloc[:, -1].values.reshape(1,210)[0]\n",
    "print(type(target),target)\n",
    "x, y = data, target\n",
    "x_train, x_test, y_train, y_test = train_test_split(x, y, random_state=42, test_size=0.3)\n",
    "\n",
    "#定义与训练模型\n",
    "model3=GaussianNB()\t    #建立高斯朴素贝叶斯模型\n",
    "model3.fit(x_train,y_train)\t\t#训练模型\n",
    "\n",
    "#模型评估\n",
    "pred=model3.predict(x_test)  #测试集的预测值\n",
    "print(\"测试集数据的预测标签为\",pred)\n",
    "print(\"测试集数据的真实标签为\",y_test)\n",
    "print(\"\\n测试集共有%d条数据,其中预测错误的数据有%d条,预测准确率为%.2f\"%(x_test.shape[0],(pred!=y_test).sum(),accuracy_score(y_test,pred)))\n",
    "\n",
    "\n",
    "#仅选择两个特征用于可视化\n",
    "data = dataset.iloc[:, range(0,2)] #选择特征area与perimeter\n",
    "target = dataset.iloc[:, -1].values.reshape(1,210)[0]\n",
    "x, y = data, target\n",
    "x_train, x_test, y_train, y_test = train_test_split(x, y, random_state=42, test_size=0.3)\n",
    "model3=GaussianNB()\n",
    "model3.fit(x_train,y_train)\n",
    "\n",
    "plt.scatter(x_test['area'], x_test['perimeter'], c=y_test)\n",
    "h = .02\n",
    "x_min, x_max = x['area'].min() - 1, x['area'].max() + 1\n",
    "y_min, y_max = x['perimeter'].min() - 1, x['perimeter'].max() + 1\n",
    "xx, yy = np.meshgrid(np.arange(x_min, x_max, h), np.arange(y_min, y_max, h))\n",
    "Z = model3.predict(np.c_[xx.ravel(), yy.ravel()])\n",
    "Z = Z.reshape(xx.shape)\n",
    "plt.contourf(xx, yy, Z, alpha=0.2, cmap=plt.cm.Paired)\n",
    "plt.xlabel('Area')\n",
    "plt.ylabel('Perimeter')\n",
    "plt.title('Scatter plot of Area vs Perimeter')\n",
    "plt.show()"
   ],
   "execution_count": 12,
   "outputs": []
  },
  {
   "metadata": {},
   "cell_type": "markdown",
   "source": "# 朴素贝叶斯预测"
  },
  {
   "metadata": {
    "ExecuteTime": {
     "end_time": "2024-06-06T03:24:44.226948Z",
     "start_time": "2024-06-06T03:24:44.204945Z"
    }
   },
   "cell_type": "code",
   "source": [
    "new_data = np.array([[17.63, 15.98]])\n",
    "prediction = model3.predict(new_data)\n",
    "\n",
    "\n",
    "accuracy = accuracy_score(y_train, model3.predict(x_train))\n",
    "print(\"准确率:\", accuracy)\n",
    "print(\"预测的数据为:\", prediction)"
   ],
   "execution_count": 35,
   "outputs": []
  },
  {
   "metadata": {},
   "cell_type": "markdown",
   "source": "# 决策树"
  },
  {
   "cell_type": "code",
   "metadata": {
    "execution": {
     "iopub.execute_input": "2024-06-05T05:12:28.048969Z",
     "iopub.status.busy": "2024-06-05T05:12:28.048453Z",
     "iopub.status.idle": "2024-06-05T05:12:28.497882Z",
     "shell.execute_reply": "2024-06-05T05:12:28.497129Z",
     "shell.execute_reply.started": "2024-06-05T05:12:28.048939Z"
    },
    "scrolled": true,
    "ExecuteTime": {
     "end_time": "2024-06-06T03:24:31.627091Z",
     "start_time": "2024-06-06T03:24:31.065544Z"
    }
   },
   "source": [
    "\n",
    "#数据标准化\n",
    "data = dataset.iloc[:, range(0,7)]\n",
    "target = dataset.iloc[:, -1].values.reshape(1,210)[0]\n",
    "x, y = data, target\n",
    "x_train, x_test, y_train, y_test = train_test_split(x, y, random_state=42, test_size=0.3)\n",
    "\n",
    "depth = np.arange(1,15)\n",
    "err_list = []\n",
    "for i in depth:\n",
    "    model4 = DecisionTreeClassifier(criterion='entropy', max_depth=i)\n",
    "    model4.fit(x_train,y_train)\n",
    "    pred = model4.predict(x_test)\n",
    "    ac = accuracy_score(y_test, pred)\n",
    "    err = 1-ac\n",
    "    err_list.append(err)\n",
    "\n",
    "plt.plot(depth, err_list, 'ro-')\n",
    "plt.xlabel('depth of the Tree')\n",
    "plt.ylabel('Predicted error rate')\n",
    "plt.show()\n",
    "\n",
    "model4 = DecisionTreeClassifier(criterion='entropy', max_depth=2)\n",
    "model4.fit(x_train,y_train)\n",
    "pred = model4.predict(x_test)\n",
    "ac = accuracy_score(y_test, pred)\n",
    "print('模型预测的准确率为：',ac)\n",
    "\n",
    "#仅选择两个特征用于可视化\n",
    "data = dataset.iloc[:, range(0,2)] #选择特征area与perimeter\n",
    "target = dataset.iloc[:, -1].values.reshape(1,210)[0]\n",
    "x, y = data, target\n",
    "x_train, x_test, y_train, y_test = train_test_split(x, y, random_state=42, test_size=0.3)\n",
    "model4 = DecisionTreeClassifier(criterion='entropy', max_depth=2)\n",
    "model4.fit(x_train,y_train)\n",
    "\n",
    "plt.scatter(x_test['area'], x_test['perimeter'], c=y_test)\n",
    "h = .02\n",
    "x_min, x_max = x['area'].min() - 1, x['area'].max() + 1\n",
    "y_min, y_max = x['perimeter'].min() - 1, x['perimeter'].max() + 1\n",
    "xx, yy = np.meshgrid(np.arange(x_min, x_max, h), np.arange(y_min, y_max, h))\n",
    "Z = model4.predict(np.c_[xx.ravel(), yy.ravel()])\n",
    "Z = Z.reshape(xx.shape)\n",
    "plt.contourf(xx, yy, Z, alpha=0.2, cmap=plt.cm.Paired)\n",
    "plt.xlabel('Area')\n",
    "plt.ylabel('Perimeter')\n",
    "plt.title('Scatter plot of Area vs Perimeter')\n",
    "plt.show()"
   ],
   "execution_count": 32,
   "outputs": []
  },
  {
   "metadata": {},
   "cell_type": "markdown",
   "source": "# 决策树预测"
  },
  {
   "cell_type": "code",
   "metadata": {
    "scrolled": true,
    "ExecuteTime": {
     "end_time": "2024-06-06T03:24:34.404828Z",
     "start_time": "2024-06-06T03:24:34.392836Z"
    }
   },
   "source": [
    "new_data = np.array([[17.63, 15.98]])\n",
    "prediction = model4.predict(new_data)\n",
    "accuracy = accuracy_score(y_train, model4.predict(x_train))\n",
    "print(\"准确率:\", accuracy)\n",
    "print(\"预测的数据为:\", prediction)"
   ],
   "execution_count": 33,
   "outputs": []
  }
 ],
 "metadata": {
  "kernelspec": {
   "display_name": "Python 3 (ipykernel)",
   "language": "python",
   "name": "python3"
  },
  "language_info": {
   "codemirror_mode": {
    "name": "ipython",
    "version": 3
   },
   "file_extension": ".py",
   "mimetype": "text/x-python",
   "name": "python",
   "nbconvert_exporter": "python",
   "pygments_lexer": "ipython3",
   "version": "3.10.10"
  }
 },
 "nbformat": 4,
 "nbformat_minor": 4
}
