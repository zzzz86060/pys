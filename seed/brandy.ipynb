{
 "cells": [
  {
   "metadata": {},
   "cell_type": "markdown",
   "source": "# 实现k近邻算法进行分类与回归",
   "id": "f441165510b6d74e"
  },
  {
   "metadata": {
    "ExecuteTime": {
     "end_time": "2024-06-05T02:30:28.449294Z",
     "start_time": "2024-06-05T02:30:28.282449Z"
    }
   },
   "cell_type": "code",
   "source": [
    "import pandas as pd\n",
    "names =['label','a1','a2','a3','a4','a5','a6','a7','a8','a9','a10','a11','a12','a13']\n",
    "dataset = pd.read_csv('D:\\s\\wine.data',names=names)\n",
    "print(dataset)"
   ],
   "id": "ee6cc9c31697e306",
   "outputs": [
    {
     "ename": "AttributeError",
     "evalue": "module 'numpy' has no attribute '__version__'",
     "output_type": "error",
     "traceback": [
      "\u001B[1;31m---------------------------------------------------------------------------\u001B[0m",
      "\u001B[1;31mAttributeError\u001B[0m                            Traceback (most recent call last)",
      "Cell \u001B[1;32mIn[2], line 1\u001B[0m\n\u001B[1;32m----> 1\u001B[0m \u001B[38;5;28;01mimport\u001B[39;00m \u001B[38;5;21;01mpandas\u001B[39;00m \u001B[38;5;28;01mas\u001B[39;00m \u001B[38;5;21;01mpd\u001B[39;00m\n\u001B[0;32m      2\u001B[0m names \u001B[38;5;241m=\u001B[39m[\u001B[38;5;124m'\u001B[39m\u001B[38;5;124mlabel\u001B[39m\u001B[38;5;124m'\u001B[39m,\u001B[38;5;124m'\u001B[39m\u001B[38;5;124ma1\u001B[39m\u001B[38;5;124m'\u001B[39m,\u001B[38;5;124m'\u001B[39m\u001B[38;5;124ma2\u001B[39m\u001B[38;5;124m'\u001B[39m,\u001B[38;5;124m'\u001B[39m\u001B[38;5;124ma3\u001B[39m\u001B[38;5;124m'\u001B[39m,\u001B[38;5;124m'\u001B[39m\u001B[38;5;124ma4\u001B[39m\u001B[38;5;124m'\u001B[39m,\u001B[38;5;124m'\u001B[39m\u001B[38;5;124ma5\u001B[39m\u001B[38;5;124m'\u001B[39m,\u001B[38;5;124m'\u001B[39m\u001B[38;5;124ma6\u001B[39m\u001B[38;5;124m'\u001B[39m,\u001B[38;5;124m'\u001B[39m\u001B[38;5;124ma7\u001B[39m\u001B[38;5;124m'\u001B[39m,\u001B[38;5;124m'\u001B[39m\u001B[38;5;124ma8\u001B[39m\u001B[38;5;124m'\u001B[39m,\u001B[38;5;124m'\u001B[39m\u001B[38;5;124ma9\u001B[39m\u001B[38;5;124m'\u001B[39m,\u001B[38;5;124m'\u001B[39m\u001B[38;5;124ma10\u001B[39m\u001B[38;5;124m'\u001B[39m,\u001B[38;5;124m'\u001B[39m\u001B[38;5;124ma11\u001B[39m\u001B[38;5;124m'\u001B[39m,\u001B[38;5;124m'\u001B[39m\u001B[38;5;124ma12\u001B[39m\u001B[38;5;124m'\u001B[39m,\u001B[38;5;124m'\u001B[39m\u001B[38;5;124ma13\u001B[39m\u001B[38;5;124m'\u001B[39m]\n\u001B[0;32m      3\u001B[0m dataset \u001B[38;5;241m=\u001B[39m pd\u001B[38;5;241m.\u001B[39mread_csv(\u001B[38;5;124m'\u001B[39m\u001B[38;5;124mD:\u001B[39m\u001B[38;5;124m\\\u001B[39m\u001B[38;5;124ms\u001B[39m\u001B[38;5;124m\\\u001B[39m\u001B[38;5;124mwine.data\u001B[39m\u001B[38;5;124m'\u001B[39m,names\u001B[38;5;241m=\u001B[39mnames)\n",
      "File \u001B[1;32mD:\\conda\\envs\\pytorch\\lib\\site-packages\\pandas\\__init__.py:26\u001B[0m\n\u001B[0;32m     22\u001B[0m \u001B[38;5;28;01mdel\u001B[39;00m _hard_dependencies, _dependency, _missing_dependencies\n\u001B[0;32m     24\u001B[0m \u001B[38;5;28;01mtry\u001B[39;00m:\n\u001B[0;32m     25\u001B[0m     \u001B[38;5;66;03m# numpy compat\u001B[39;00m\n\u001B[1;32m---> 26\u001B[0m     \u001B[38;5;28;01mfrom\u001B[39;00m \u001B[38;5;21;01mpandas\u001B[39;00m\u001B[38;5;21;01m.\u001B[39;00m\u001B[38;5;21;01mcompat\u001B[39;00m \u001B[38;5;28;01mimport\u001B[39;00m (\n\u001B[0;32m     27\u001B[0m         is_numpy_dev \u001B[38;5;28;01mas\u001B[39;00m _is_numpy_dev,  \u001B[38;5;66;03m# pyright: ignore[reportUnusedImport] # noqa: F401\u001B[39;00m\n\u001B[0;32m     28\u001B[0m     )\n\u001B[0;32m     29\u001B[0m \u001B[38;5;28;01mexcept\u001B[39;00m \u001B[38;5;167;01mImportError\u001B[39;00m \u001B[38;5;28;01mas\u001B[39;00m _err:  \u001B[38;5;66;03m# pragma: no cover\u001B[39;00m\n\u001B[0;32m     30\u001B[0m     _module \u001B[38;5;241m=\u001B[39m _err\u001B[38;5;241m.\u001B[39mname\n",
      "File \u001B[1;32mD:\\conda\\envs\\pytorch\\lib\\site-packages\\pandas\\compat\\__init__.py:26\u001B[0m\n\u001B[0;32m     17\u001B[0m \u001B[38;5;28;01mfrom\u001B[39;00m \u001B[38;5;21;01mpandas\u001B[39;00m\u001B[38;5;21;01m.\u001B[39;00m\u001B[38;5;21;01mcompat\u001B[39;00m\u001B[38;5;21;01m.\u001B[39;00m\u001B[38;5;21;01m_constants\u001B[39;00m \u001B[38;5;28;01mimport\u001B[39;00m (\n\u001B[0;32m     18\u001B[0m     IS64,\n\u001B[0;32m     19\u001B[0m     ISMUSL,\n\u001B[1;32m   (...)\u001B[0m\n\u001B[0;32m     23\u001B[0m     PYPY,\n\u001B[0;32m     24\u001B[0m )\n\u001B[0;32m     25\u001B[0m \u001B[38;5;28;01mimport\u001B[39;00m \u001B[38;5;21;01mpandas\u001B[39;00m\u001B[38;5;21;01m.\u001B[39;00m\u001B[38;5;21;01mcompat\u001B[39;00m\u001B[38;5;21;01m.\u001B[39;00m\u001B[38;5;21;01mcompressors\u001B[39;00m\n\u001B[1;32m---> 26\u001B[0m \u001B[38;5;28;01mfrom\u001B[39;00m \u001B[38;5;21;01mpandas\u001B[39;00m\u001B[38;5;21;01m.\u001B[39;00m\u001B[38;5;21;01mcompat\u001B[39;00m\u001B[38;5;21;01m.\u001B[39;00m\u001B[38;5;21;01mnumpy\u001B[39;00m \u001B[38;5;28;01mimport\u001B[39;00m is_numpy_dev\n\u001B[0;32m     27\u001B[0m \u001B[38;5;28;01mfrom\u001B[39;00m \u001B[38;5;21;01mpandas\u001B[39;00m\u001B[38;5;21;01m.\u001B[39;00m\u001B[38;5;21;01mcompat\u001B[39;00m\u001B[38;5;21;01m.\u001B[39;00m\u001B[38;5;21;01mpyarrow\u001B[39;00m \u001B[38;5;28;01mimport\u001B[39;00m (\n\u001B[0;32m     28\u001B[0m     pa_version_under10p1,\n\u001B[0;32m     29\u001B[0m     pa_version_under11p0,\n\u001B[1;32m   (...)\u001B[0m\n\u001B[0;32m     32\u001B[0m     pa_version_under14p1,\n\u001B[0;32m     33\u001B[0m )\n\u001B[0;32m     35\u001B[0m \u001B[38;5;28;01mif\u001B[39;00m TYPE_CHECKING:\n",
      "File \u001B[1;32mD:\\conda\\envs\\pytorch\\lib\\site-packages\\pandas\\compat\\numpy\\__init__.py:9\u001B[0m\n\u001B[0;32m      6\u001B[0m \u001B[38;5;28;01mfrom\u001B[39;00m \u001B[38;5;21;01mpandas\u001B[39;00m\u001B[38;5;21;01m.\u001B[39;00m\u001B[38;5;21;01mutil\u001B[39;00m\u001B[38;5;21;01m.\u001B[39;00m\u001B[38;5;21;01mversion\u001B[39;00m \u001B[38;5;28;01mimport\u001B[39;00m Version\n\u001B[0;32m      8\u001B[0m \u001B[38;5;66;03m# numpy versioning\u001B[39;00m\n\u001B[1;32m----> 9\u001B[0m _np_version \u001B[38;5;241m=\u001B[39m \u001B[43mnp\u001B[49m\u001B[38;5;241;43m.\u001B[39;49m\u001B[43m__version__\u001B[49m\n\u001B[0;32m     10\u001B[0m _nlv \u001B[38;5;241m=\u001B[39m Version(_np_version)\n\u001B[0;32m     11\u001B[0m np_version_lt1p23 \u001B[38;5;241m=\u001B[39m _nlv \u001B[38;5;241m<\u001B[39m Version(\u001B[38;5;124m\"\u001B[39m\u001B[38;5;124m1.23\u001B[39m\u001B[38;5;124m\"\u001B[39m)\n",
      "\u001B[1;31mAttributeError\u001B[0m: module 'numpy' has no attribute '__version__'"
     ]
    }
   ],
   "execution_count": 2
  },
  {
   "metadata": {
    "ExecuteTime": {
     "end_time": "2024-04-09T03:34:43.125473Z",
     "start_time": "2024-04-09T03:34:43.101475Z"
    }
   },
   "cell_type": "code",
   "source": [
    "data = dataset.iloc[:, range(1,14)]\n",
    "target = dataset.iloc[:,0]\n",
    "data "
   ],
   "id": "914d88cbf1a93c8a",
   "outputs": [
    {
     "data": {
      "text/plain": [
       "        a1    a2    a3    a4   a5    a6    a7    a8    a9    a10   a11   a12  \\\n",
       "0    14.23  1.71  2.43  15.6  127  2.80  3.06  0.28  2.29   5.64  1.04  3.92   \n",
       "1    13.20  1.78  2.14  11.2  100  2.65  2.76  0.26  1.28   4.38  1.05  3.40   \n",
       "2    13.16  2.36  2.67  18.6  101  2.80  3.24  0.30  2.81   5.68  1.03  3.17   \n",
       "3    14.37  1.95  2.50  16.8  113  3.85  3.49  0.24  2.18   7.80  0.86  3.45   \n",
       "4    13.24  2.59  2.87  21.0  118  2.80  2.69  0.39  1.82   4.32  1.04  2.93   \n",
       "..     ...   ...   ...   ...  ...   ...   ...   ...   ...    ...   ...   ...   \n",
       "173  13.71  5.65  2.45  20.5   95  1.68  0.61  0.52  1.06   7.70  0.64  1.74   \n",
       "174  13.40  3.91  2.48  23.0  102  1.80  0.75  0.43  1.41   7.30  0.70  1.56   \n",
       "175  13.27  4.28  2.26  20.0  120  1.59  0.69  0.43  1.35  10.20  0.59  1.56   \n",
       "176  13.17  2.59  2.37  20.0  120  1.65  0.68  0.53  1.46   9.30  0.60  1.62   \n",
       "177  14.13  4.10  2.74  24.5   96  2.05  0.76  0.56  1.35   9.20  0.61  1.60   \n",
       "\n",
       "      a13  \n",
       "0    1065  \n",
       "1    1050  \n",
       "2    1185  \n",
       "3    1480  \n",
       "4     735  \n",
       "..    ...  \n",
       "173   740  \n",
       "174   750  \n",
       "175   835  \n",
       "176   840  \n",
       "177   560  \n",
       "\n",
       "[178 rows x 13 columns]"
      ],
      "text/html": [
       "<div>\n",
       "<style scoped>\n",
       "    .dataframe tbody tr th:only-of-type {\n",
       "        vertical-align: middle;\n",
       "    }\n",
       "\n",
       "    .dataframe tbody tr th {\n",
       "        vertical-align: top;\n",
       "    }\n",
       "\n",
       "    .dataframe thead th {\n",
       "        text-align: right;\n",
       "    }\n",
       "</style>\n",
       "<table border=\"1\" class=\"dataframe\">\n",
       "  <thead>\n",
       "    <tr style=\"text-align: right;\">\n",
       "      <th></th>\n",
       "      <th>a1</th>\n",
       "      <th>a2</th>\n",
       "      <th>a3</th>\n",
       "      <th>a4</th>\n",
       "      <th>a5</th>\n",
       "      <th>a6</th>\n",
       "      <th>a7</th>\n",
       "      <th>a8</th>\n",
       "      <th>a9</th>\n",
       "      <th>a10</th>\n",
       "      <th>a11</th>\n",
       "      <th>a12</th>\n",
       "      <th>a13</th>\n",
       "    </tr>\n",
       "  </thead>\n",
       "  <tbody>\n",
       "    <tr>\n",
       "      <th>0</th>\n",
       "      <td>14.23</td>\n",
       "      <td>1.71</td>\n",
       "      <td>2.43</td>\n",
       "      <td>15.6</td>\n",
       "      <td>127</td>\n",
       "      <td>2.80</td>\n",
       "      <td>3.06</td>\n",
       "      <td>0.28</td>\n",
       "      <td>2.29</td>\n",
       "      <td>5.64</td>\n",
       "      <td>1.04</td>\n",
       "      <td>3.92</td>\n",
       "      <td>1065</td>\n",
       "    </tr>\n",
       "    <tr>\n",
       "      <th>1</th>\n",
       "      <td>13.20</td>\n",
       "      <td>1.78</td>\n",
       "      <td>2.14</td>\n",
       "      <td>11.2</td>\n",
       "      <td>100</td>\n",
       "      <td>2.65</td>\n",
       "      <td>2.76</td>\n",
       "      <td>0.26</td>\n",
       "      <td>1.28</td>\n",
       "      <td>4.38</td>\n",
       "      <td>1.05</td>\n",
       "      <td>3.40</td>\n",
       "      <td>1050</td>\n",
       "    </tr>\n",
       "    <tr>\n",
       "      <th>2</th>\n",
       "      <td>13.16</td>\n",
       "      <td>2.36</td>\n",
       "      <td>2.67</td>\n",
       "      <td>18.6</td>\n",
       "      <td>101</td>\n",
       "      <td>2.80</td>\n",
       "      <td>3.24</td>\n",
       "      <td>0.30</td>\n",
       "      <td>2.81</td>\n",
       "      <td>5.68</td>\n",
       "      <td>1.03</td>\n",
       "      <td>3.17</td>\n",
       "      <td>1185</td>\n",
       "    </tr>\n",
       "    <tr>\n",
       "      <th>3</th>\n",
       "      <td>14.37</td>\n",
       "      <td>1.95</td>\n",
       "      <td>2.50</td>\n",
       "      <td>16.8</td>\n",
       "      <td>113</td>\n",
       "      <td>3.85</td>\n",
       "      <td>3.49</td>\n",
       "      <td>0.24</td>\n",
       "      <td>2.18</td>\n",
       "      <td>7.80</td>\n",
       "      <td>0.86</td>\n",
       "      <td>3.45</td>\n",
       "      <td>1480</td>\n",
       "    </tr>\n",
       "    <tr>\n",
       "      <th>4</th>\n",
       "      <td>13.24</td>\n",
       "      <td>2.59</td>\n",
       "      <td>2.87</td>\n",
       "      <td>21.0</td>\n",
       "      <td>118</td>\n",
       "      <td>2.80</td>\n",
       "      <td>2.69</td>\n",
       "      <td>0.39</td>\n",
       "      <td>1.82</td>\n",
       "      <td>4.32</td>\n",
       "      <td>1.04</td>\n",
       "      <td>2.93</td>\n",
       "      <td>735</td>\n",
       "    </tr>\n",
       "    <tr>\n",
       "      <th>...</th>\n",
       "      <td>...</td>\n",
       "      <td>...</td>\n",
       "      <td>...</td>\n",
       "      <td>...</td>\n",
       "      <td>...</td>\n",
       "      <td>...</td>\n",
       "      <td>...</td>\n",
       "      <td>...</td>\n",
       "      <td>...</td>\n",
       "      <td>...</td>\n",
       "      <td>...</td>\n",
       "      <td>...</td>\n",
       "      <td>...</td>\n",
       "    </tr>\n",
       "    <tr>\n",
       "      <th>173</th>\n",
       "      <td>13.71</td>\n",
       "      <td>5.65</td>\n",
       "      <td>2.45</td>\n",
       "      <td>20.5</td>\n",
       "      <td>95</td>\n",
       "      <td>1.68</td>\n",
       "      <td>0.61</td>\n",
       "      <td>0.52</td>\n",
       "      <td>1.06</td>\n",
       "      <td>7.70</td>\n",
       "      <td>0.64</td>\n",
       "      <td>1.74</td>\n",
       "      <td>740</td>\n",
       "    </tr>\n",
       "    <tr>\n",
       "      <th>174</th>\n",
       "      <td>13.40</td>\n",
       "      <td>3.91</td>\n",
       "      <td>2.48</td>\n",
       "      <td>23.0</td>\n",
       "      <td>102</td>\n",
       "      <td>1.80</td>\n",
       "      <td>0.75</td>\n",
       "      <td>0.43</td>\n",
       "      <td>1.41</td>\n",
       "      <td>7.30</td>\n",
       "      <td>0.70</td>\n",
       "      <td>1.56</td>\n",
       "      <td>750</td>\n",
       "    </tr>\n",
       "    <tr>\n",
       "      <th>175</th>\n",
       "      <td>13.27</td>\n",
       "      <td>4.28</td>\n",
       "      <td>2.26</td>\n",
       "      <td>20.0</td>\n",
       "      <td>120</td>\n",
       "      <td>1.59</td>\n",
       "      <td>0.69</td>\n",
       "      <td>0.43</td>\n",
       "      <td>1.35</td>\n",
       "      <td>10.20</td>\n",
       "      <td>0.59</td>\n",
       "      <td>1.56</td>\n",
       "      <td>835</td>\n",
       "    </tr>\n",
       "    <tr>\n",
       "      <th>176</th>\n",
       "      <td>13.17</td>\n",
       "      <td>2.59</td>\n",
       "      <td>2.37</td>\n",
       "      <td>20.0</td>\n",
       "      <td>120</td>\n",
       "      <td>1.65</td>\n",
       "      <td>0.68</td>\n",
       "      <td>0.53</td>\n",
       "      <td>1.46</td>\n",
       "      <td>9.30</td>\n",
       "      <td>0.60</td>\n",
       "      <td>1.62</td>\n",
       "      <td>840</td>\n",
       "    </tr>\n",
       "    <tr>\n",
       "      <th>177</th>\n",
       "      <td>14.13</td>\n",
       "      <td>4.10</td>\n",
       "      <td>2.74</td>\n",
       "      <td>24.5</td>\n",
       "      <td>96</td>\n",
       "      <td>2.05</td>\n",
       "      <td>0.76</td>\n",
       "      <td>0.56</td>\n",
       "      <td>1.35</td>\n",
       "      <td>9.20</td>\n",
       "      <td>0.61</td>\n",
       "      <td>1.60</td>\n",
       "      <td>560</td>\n",
       "    </tr>\n",
       "  </tbody>\n",
       "</table>\n",
       "<p>178 rows × 13 columns</p>\n",
       "</div>"
      ]
     },
     "execution_count": 83,
     "metadata": {},
     "output_type": "execute_result"
    }
   ],
   "execution_count": 83
  },
  {
   "metadata": {
    "ExecuteTime": {
     "end_time": "2024-04-09T03:34:43.858433Z",
     "start_time": "2024-04-09T03:34:43.169717Z"
    }
   },
   "cell_type": "code",
   "source": [
    "import matplotlib.pyplot as plt\n",
    "data.plot(kind='box',subplots=True, layout=(3,5),sharex=False,sharey=False)\n",
    "plt.show()"
   ],
   "id": "a5e089243b4d1d95",
   "outputs": [
    {
     "data": {
      "text/plain": [
       "<Figure size 432x288 with 15 Axes>"
      ],
      "image/png": "[encoded data removed]"
     },
     "metadata": {
      "needs_background": "light"
     },
     "output_type": "display_data"
    }
   ],
   "execution_count": 84
  },
  {
   "metadata": {
    "ExecuteTime": {
     "end_time": "2024-04-09T03:34:44.093123Z",
     "start_time": "2024-04-09T03:34:43.861427Z"
    }
   },
   "cell_type": "code",
   "source": [
    "p = data.boxplot(return_type='dict')\n",
    "for i in range(13):\n",
    "    y = p['fliers'][i].get_ydata()\n",
    "    print('a',i+1,'中异常值为',y)"
   ],
   "id": "caf2cf013bad5ecb",
   "outputs": [
    {
     "name": "stdout",
     "output_type": "stream",
     "text": [
      "a 1 中异常值为 []\n",
      "a 2 中异常值为 [5.8  5.51 5.65]\n",
      "a 3 中异常值为 [1.36 3.22 3.23]\n",
      "a 4 中异常值为 [10.6 30.  28.5 28.5]\n",
      "a 5 中异常值为 [151. 139. 136. 162.]\n",
      "a 6 中异常值为 []\n",
      "a 7 中异常值为 []\n",
      "a 8 中异常值为 []\n",
      "a 9 中异常值为 [3.28 3.58]\n",
      "a 10 中异常值为 [10.8  13.   11.75 10.68]\n",
      "a 11 中异常值为 [1.71]\n",
      "a 12 中异常值为 []\n",
      "a 13 中异常值为 []\n"
     ]
    },
    {
     "data": {
      "text/plain": [
       "<Figure size 432x288 with 1 Axes>"
      ],
      "image/png": "[encoded data removed]"
     },
     "metadata": {
      "needs_background": "light"
     },
     "output_type": "display_data"
    }
   ],
   "execution_count": 85
  },
  {
   "metadata": {
    "ExecuteTime": {
     "end_time": "2024-04-09T03:34:44.109072Z",
     "start_time": "2024-04-09T03:34:44.096141Z"
    }
   },
   "cell_type": "code",
   "source": [
    "from sklearn import preprocessing\n",
    "names =['label','a1','a2','a3','a4','a5','a6','a7','a8','a9','a10','a11','a12','a13']\n",
    "dataset = pd.read_csv('D:\\s\\wine-clean.data',names=names)\n",
    "print(dataset)"
   ],
   "id": "acf2e85529bafcc8",
   "outputs": [
    {
     "name": "stdout",
     "output_type": "stream",
     "text": [
      "     label     a1    a2    a3    a4     a5    a6    a7    a8    a9    a10  \\\n",
      "0        1  14.23  1.71  2.43  15.6  127.0  2.80  3.06  0.28  2.29   5.64   \n",
      "1        1  13.20  1.78  2.14  11.2  100.0  2.65  2.76  0.26  1.28   4.38   \n",
      "2        1  13.16  2.36  2.67  18.6  101.0  2.80  3.24  0.30  2.81   5.68   \n",
      "3        1  14.37  1.95  2.50  16.8  113.0  3.85  3.49  0.24  2.18   7.80   \n",
      "4        1  13.24  2.59  2.87  21.0  118.0  2.80  2.69  0.39  1.82   4.32   \n",
      "..     ...    ...   ...   ...   ...    ...   ...   ...   ...   ...    ...   \n",
      "173      3  13.71  3.21  2.45  20.5   95.0  1.68  0.61  0.52  1.06   7.70   \n",
      "174      3  13.40  3.91  2.48  23.0  102.0  1.80  0.75  0.43  1.41   7.30   \n",
      "175      3  13.27  4.28  2.26  20.0  120.0  1.59  0.69  0.43  1.35  10.20   \n",
      "176      3  13.17  2.59  2.37  20.0  120.0  1.65  0.68  0.53  1.46   9.30   \n",
      "177      3  14.13  4.10  2.74  24.5   96.0  2.05  0.76  0.56  1.35   9.20   \n",
      "\n",
      "      a11   a12   a13  \n",
      "0    1.04  3.92  1065  \n",
      "1    1.05  3.40  1050  \n",
      "2    1.03  3.17  1185  \n",
      "3    0.86  3.45  1480  \n",
      "4    1.04  2.93   735  \n",
      "..    ...   ...   ...  \n",
      "173  0.64  1.74   740  \n",
      "174  0.70  1.56   750  \n",
      "175  0.59  1.56   835  \n",
      "176  0.60  1.62   840  \n",
      "177  0.61  1.60   560  \n",
      "\n",
      "[178 rows x 14 columns]\n"
     ]
    }
   ],
   "execution_count": 86
  },
  {
   "metadata": {
    "ExecuteTime": {
     "end_time": "2024-04-09T03:34:44.124068Z",
     "start_time": "2024-04-09T03:34:44.111059Z"
    }
   },
   "cell_type": "code",
   "source": [
    "data = dataset.iloc[:,range(1,14)]\n",
    "target = dataset.iloc[:,0].values.reshape(1,178)[0]\n",
    "print(type(target),target)"
   ],
   "id": "7c65b5d0ff6d3436",
   "outputs": [
    {
     "name": "stdout",
     "output_type": "stream",
     "text": [
      "<class 'numpy.ndarray'> [1 1 1 1 1 1 1 1 1 1 1 1 1 1 1 1 1 1 1 1 1 1 1 1 1 1 1 1 1 1 1 1 1 1 1 1 1\n",
      " 1 1 1 1 1 1 1 1 1 1 1 1 1 1 1 1 1 1 1 1 1 1 2 2 2 2 2 2 2 2 2 2 2 2 2 2 2\n",
      " 2 2 2 2 2 2 2 2 2 2 2 2 2 2 2 2 2 2 2 2 2 2 2 2 2 2 2 2 2 2 2 2 2 2 2 2 2\n",
      " 2 2 2 2 2 2 2 2 2 2 2 2 2 2 2 2 2 2 2 3 3 3 3 3 3 3 3 3 3 3 3 3 3 3 3 3 3\n",
      " 3 3 3 3 3 3 3 3 3 3 3 3 3 3 3 3 3 3 3 3 3 3 3 3 3 3 3 3 3 3]\n"
     ]
    }
   ],
   "execution_count": 87
  },
  {
   "metadata": {
    "ExecuteTime": {
     "end_time": "2024-04-09T03:34:44.140065Z",
     "start_time": "2024-04-09T03:34:44.126067Z"
    }
   },
   "cell_type": "code",
   "source": [
    "cdata = preprocessing.StandardScaler().fit_transform(data)\n",
    "cdata"
   ],
   "id": "4a4db7a20b15287d",
   "outputs": [
    {
     "data": {
      "text/plain": [
       "array([[ 1.51861254, -0.56906261,  0.26105088, ...,  0.39346131,\n",
       "         1.83381234,  1.01300893],\n",
       "       [ 0.24628963, -0.50234086, -0.90869274, ...,  0.43875109,\n",
       "         1.10735109,  0.96524152],\n",
       "       [ 0.19687903,  0.05049647,  1.22911457, ...,  0.34817153,\n",
       "         0.7860317 ,  1.39514818],\n",
       "       ...,\n",
       "       [ 0.33275817,  1.88057869, -0.4246609 , ..., -1.64457872,\n",
       "        -1.46320409,  0.28057537],\n",
       "       [ 0.20923168,  0.26972507,  0.01903496, ..., -1.59928894,\n",
       "        -1.37938164,  0.29649784],\n",
       "       [ 1.39508604,  1.70900848,  1.51146647, ..., -1.55399916,\n",
       "        -1.40732245, -0.59516041]])"
      ]
     },
     "execution_count": 88,
     "metadata": {},
     "output_type": "execute_result"
    }
   ],
   "execution_count": 88
  },
  {
   "metadata": {
    "ExecuteTime": {
     "end_time": "2024-04-09T03:34:44.155527Z",
     "start_time": "2024-04-09T03:34:44.142076Z"
    }
   },
   "cell_type": "code",
   "source": [
    "from sklearn.neighbors import KNeighborsClassifier\n",
    "from sklearn.model_selection import train_test_split\n",
    "from sklearn.model_selection import cross_val_score"
   ],
   "id": "475dfe7580782a5",
   "outputs": [],
   "execution_count": 89
  },
  {
   "metadata": {
    "ExecuteTime": {
     "end_time": "2024-04-09T03:34:44.171527Z",
     "start_time": "2024-04-09T03:34:44.157529Z"
    }
   },
   "cell_type": "code",
   "source": [
    "x,y = cdata,target\n",
    "x_train,x_test,y_train,y_test = train_test_split(x,y,random_state=0)\n",
    "x_train.shape"
   ],
   "id": "e30ad6b2b9186d63",
   "outputs": [
    {
     "data": {
      "text/plain": [
       "(133, 13)"
      ]
     },
     "execution_count": 90,
     "metadata": {},
     "output_type": "execute_result"
    }
   ],
   "execution_count": 90
  },
  {
   "metadata": {
    "ExecuteTime": {
     "end_time": "2024-06-05T02:30:23.898672Z",
     "start_time": "2024-06-05T02:30:23.234179Z"
    }
   },
   "cell_type": "code",
   "source": [
    "k_range = range(1,15)\n",
    "k_error = []\n",
    "for k in k_range:\n",
    "    model = KNeighborsClassifier(n_neighbors=k)\n",
    "    scores = cross_val_score(model,x,y,cv=5,scoring='accuracy')\n",
    "    k_error.append(1-scores.mean())"
   ],
   "id": "f09e08b0693adee4",
   "outputs": [
    {
     "ename": "NameError",
     "evalue": "name 'KNeighborsClassifier' is not defined",
     "output_type": "error",
     "traceback": [
      "\u001B[1;31m---------------------------------------------------------------------------\u001B[0m",
      "\u001B[1;31mNameError\u001B[0m                                 Traceback (most recent call last)",
      "Cell \u001B[1;32mIn[1], line 4\u001B[0m\n\u001B[0;32m      2\u001B[0m k_error \u001B[38;5;241m=\u001B[39m []\n\u001B[0;32m      3\u001B[0m \u001B[38;5;28;01mfor\u001B[39;00m k \u001B[38;5;129;01min\u001B[39;00m k_range:\n\u001B[1;32m----> 4\u001B[0m     model \u001B[38;5;241m=\u001B[39m \u001B[43mKNeighborsClassifier\u001B[49m(n_neighbors\u001B[38;5;241m=\u001B[39mk)\n\u001B[0;32m      5\u001B[0m     scores \u001B[38;5;241m=\u001B[39m cross_val_score(model,x,y,cv\u001B[38;5;241m=\u001B[39m\u001B[38;5;241m5\u001B[39m,scoring\u001B[38;5;241m=\u001B[39m\u001B[38;5;124m'\u001B[39m\u001B[38;5;124maccuracy\u001B[39m\u001B[38;5;124m'\u001B[39m)\n\u001B[0;32m      6\u001B[0m     k_error\u001B[38;5;241m.\u001B[39mappend(\u001B[38;5;241m1\u001B[39m\u001B[38;5;241m-\u001B[39mscores\u001B[38;5;241m.\u001B[39mmean())\n",
      "\u001B[1;31mNameError\u001B[0m: name 'KNeighborsClassifier' is not defined"
     ]
    }
   ],
   "execution_count": 1
  },
  {
   "metadata": {
    "ExecuteTime": {
     "end_time": "2024-04-09T03:34:44.448594Z",
     "start_time": "2024-04-09T03:34:44.357538Z"
    }
   },
   "cell_type": "code",
   "source": [
    "plt.plot(k_range,k_error,'r--')\n",
    "plt.xlabel('the value of k')\n",
    "plt.ylabel('the predicted error rate')\n",
    "plt.show()"
   ],
   "id": "da1827730829e551",
   "outputs": [
    {
     "data": {
      "text/plain": [
       "<Figure size 432x288 with 1 Axes>"
      ],
      "image/png": "[encoded data removed]"
     },
     "metadata": {
      "needs_background": "light"
     },
     "output_type": "display_data"
    }
   ],
   "execution_count": 92
  },
  {
   "metadata": {
    "ExecuteTime": {
     "end_time": "2024-04-09T03:34:44.464549Z",
     "start_time": "2024-04-09T03:34:44.450540Z"
    }
   },
   "cell_type": "code",
   "source": [
    "from sklearn.metrics import accuracy_score\n",
    "model = KNeighborsClassifier(n_neighbors=9)\n",
    "model.fit(x_train,y_train)\n",
    "pred = model.predict(x_test)\n",
    "ac = accuracy_score(y_test,pred)\n",
    "print('k=9模型的准确率是:',ac)\n",
    "print('测试集的预测标签值为:',pred)\n",
    "print('测试集真实的标签值为',y_test)"
   ],
   "id": "18e6e60beafc8eba",
   "outputs": [
    {
     "name": "stdout",
     "output_type": "stream",
     "text": [
      "k=9模型的准确率是: 0.9555555555555556\n",
      "测试集的预测标签值为: [1 3 2 1 2 1 1 3 2 2 3 3 1 2 3 2 1 1 3 1 2 1 1 2 2 2 2 2 2 3 1 1 2 1 1 1 3\n",
      " 2 2 3 1 1 2 2 2]\n",
      "测试集真实的标签值为 [1 3 2 1 2 2 1 3 2 2 3 3 1 2 3 2 1 1 2 1 2 1 1 2 2 2 2 2 2 3 1 1 2 1 1 1 3\n",
      " 2 2 3 1 1 2 2 2]\n"
     ]
    }
   ],
   "execution_count": 93
  },
  {
   "metadata": {},
   "cell_type": "markdown",
   "source": "# 若未进行预处理对比",
   "id": "60ac4150fa4dbbcb"
  },
  {
   "metadata": {
    "ExecuteTime": {
     "end_time": "2024-04-09T03:44:14.600172Z",
     "start_time": "2024-04-09T03:44:14.152947Z"
    }
   },
   "cell_type": "code",
   "source": [
    "data = dataset.iloc[:,range(1,14)]\n",
    "target = dataset.iloc[:,0].values.reshape(1,178)[0]\n",
    "x,y = data,target\n",
    "x_train,x_test,y_train,y_test = train_test_split(x,y,random_state=0)\n",
    "k_range = range(1,15)\n",
    "k_error = []\n",
    "for k in k_range:\n",
    "    model1 = KNeighborsClassifier(n_neighbors=k)\n",
    "    scores = cross_val_score(model,x,y,cv=5,scoring='accuracy')\n",
    "    k_error.append(1-scores.mean())\n",
    "plt.plot(k_range,k_error,'r--')\n",
    "plt.xlabel('the value of k')\n",
    "plt.ylabel('the predicted error rate')\n",
    "plt.show()"
   ],
   "id": "39bbd9018390c217",
   "outputs": [
    {
     "data": {
      "text/plain": [
       "<Figure size 432x288 with 1 Axes>"
      ],
      "image/png": "[encoded data removed]"
     },
     "metadata": {
      "needs_background": "light"
     },
     "output_type": "display_data"
    }
   ],
   "execution_count": 98
  },
  {
   "metadata": {
    "ExecuteTime": {
     "end_time": "2024-04-09T03:44:55.593754Z",
     "start_time": "2024-04-09T03:44:55.575748Z"
    }
   },
   "cell_type": "code",
   "source": [
    "from sklearn.metrics import accuracy_score\n",
    "model1 = KNeighborsClassifier(n_neighbors=9)\n",
    "model1.fit(x_train,y_train)\n",
    "pred = model1.predict(x_test)\n",
    "ac = accuracy_score(y_test,pred)\n",
    "print('k=9模型的准确率是:',ac)\n",
    "print('测试集的预测标签值为:',pred)\n",
    "print('测试集真实的标签值为',y_test)"
   ],
   "id": "c47436dfb70877b3",
   "outputs": [
    {
     "name": "stdout",
     "output_type": "stream",
     "text": [
      "k=9模型的准确率是: 0.7111111111111111\n",
      "测试集的预测标签值为: [1 2 2 1 2 2 1 3 2 2 1 2 1 3 1 2 1 1 2 1 2 1 2 3 3 2 2 2 3 3 1 1 3 1 1 1 3\n",
      " 2 2 1 3 1 2 3 2]\n",
      "测试集真实的标签值为 [1 3 2 1 2 2 1 3 2 2 3 3 1 2 3 2 1 1 2 1 2 1 1 2 2 2 2 2 2 3 1 1 2 1 1 1 3\n",
      " 2 2 3 1 1 2 2 2]\n"
     ]
    }
   ],
   "execution_count": 99
  }
 ],
 "metadata": {
  "kernelspec": {
   "display_name": "Python 3",
   "language": "python",
   "name": "python3"
  },
  "language_info": {
   "codemirror_mode": {
    "name": "ipython",
    "version": 2
   },
   "file_extension": ".py",
   "mimetype": "text/x-python",
   "name": "python",
   "nbconvert_exporter": "python",
   "pygments_lexer": "ipython2",
   "version": "2.7.6"
  }
 },
 "nbformat": 4,
 "nbformat_minor": 5
}
