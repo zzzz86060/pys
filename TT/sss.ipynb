{
 "cells": [
  {
   "cell_type": "code",
   "outputs": [
    {
     "ename": "ModuleNotFoundError",
     "evalue": "No module named 'paddle'",
     "output_type": "error",
     "traceback": [
      "\u001B[1;31m---------------------------------------------------------------------------\u001B[0m",
      "\u001B[1;31mModuleNotFoundError\u001B[0m                       Traceback (most recent call last)",
      "\u001B[1;32m<ipython-input-5-0dff2c5c5aa9>\u001B[0m in \u001B[0;36m<module>\u001B[1;34m\u001B[0m\n\u001B[1;32m----> 1\u001B[1;33m \u001B[1;32mimport\u001B[0m \u001B[0mpaddle\u001B[0m\u001B[1;33m\u001B[0m\u001B[1;33m\u001B[0m\u001B[0m\n\u001B[0m\u001B[0;32m      2\u001B[0m \u001B[1;32mfrom\u001B[0m \u001B[0mpaddle\u001B[0m\u001B[1;33m.\u001B[0m\u001B[0mnn\u001B[0m \u001B[1;32mimport\u001B[0m \u001B[0mLinear\u001B[0m\u001B[1;33m\u001B[0m\u001B[1;33m\u001B[0m\u001B[0m\n\u001B[0;32m      3\u001B[0m \u001B[1;32mimport\u001B[0m \u001B[0mpaddle\u001B[0m\u001B[1;33m.\u001B[0m\u001B[0mnn\u001B[0m\u001B[1;33m.\u001B[0m\u001B[0mfunctional\u001B[0m \u001B[1;32mas\u001B[0m \u001B[0mF\u001B[0m\u001B[1;33m\u001B[0m\u001B[1;33m\u001B[0m\u001B[0m\n\u001B[0;32m      4\u001B[0m \u001B[1;32mimport\u001B[0m \u001B[0mnumpy\u001B[0m \u001B[1;32mas\u001B[0m \u001B[0mnp\u001B[0m\u001B[1;33m\u001B[0m\u001B[1;33m\u001B[0m\u001B[0m\n\u001B[0;32m      5\u001B[0m \u001B[1;32mimport\u001B[0m \u001B[0mos\u001B[0m\u001B[1;33m\u001B[0m\u001B[1;33m\u001B[0m\u001B[0m\n",
      "\u001B[1;31mModuleNotFoundError\u001B[0m: No module named 'paddle'"
     ]
    }
   ],
   "source": [
    "import paddle\n"
   ],
   "metadata": {
    "collapsed": false,
    "ExecuteTime": {
     "end_time": "2024-03-15T02:43:20.549459Z",
     "start_time": "2024-03-15T02:43:20.530462Z"
    }
   },
   "id": "99f8b480cd1466c8",
   "execution_count": 5
  },
  {
   "cell_type": "code",
   "outputs": [],
   "source": [],
   "metadata": {
    "collapsed": false,
    "ExecuteTime": {
     "end_time": "2024-03-15T02:43:37.835295Z",
     "start_time": "2024-03-15T02:43:33.838858Z"
    }
   },
   "id": "3fd30de39351a915",
   "execution_count": 6
  },
  {
   "cell_type": "code",
   "outputs": [
    {
     "ename": "FileNotFoundError",
     "evalue": "[Errno 2] No such file or directory: '/home/aistudio/work/housing.data'",
     "output_type": "error",
     "traceback": [
      "\u001B[1;31m---------------------------------------------------------------------------\u001B[0m",
      "\u001B[1;31mFileNotFoundError\u001B[0m                         Traceback (most recent call last)",
      "\u001B[1;32m<ipython-input-7-4c8fe5209312>\u001B[0m in \u001B[0;36m<module>\u001B[1;34m\u001B[0m\n\u001B[1;32m----> 1\u001B[1;33m \u001B[0mtraining_data\u001B[0m\u001B[1;33m,\u001B[0m\u001B[0mtest_data\u001B[0m \u001B[1;33m=\u001B[0m \u001B[0mload_data\u001B[0m\u001B[1;33m(\u001B[0m\u001B[1;33m)\u001B[0m\u001B[1;33m\u001B[0m\u001B[1;33m\u001B[0m\u001B[0m\n\u001B[0m\u001B[0;32m      2\u001B[0m \u001B[0mprint\u001B[0m\u001B[1;33m(\u001B[0m\u001B[0mtraining_data\u001B[0m\u001B[1;33m)\u001B[0m\u001B[1;33m\u001B[0m\u001B[1;33m\u001B[0m\u001B[0m\n",
      "\u001B[1;32m<ipython-input-6-987b31abcda7>\u001B[0m in \u001B[0;36mload_data\u001B[1;34m()\u001B[0m\n\u001B[0;32m      2\u001B[0m \u001B[1;32mdef\u001B[0m \u001B[0mload_data\u001B[0m\u001B[1;33m(\u001B[0m\u001B[1;33m)\u001B[0m\u001B[1;33m:\u001B[0m\u001B[1;33m\u001B[0m\u001B[1;33m\u001B[0m\u001B[0m\n\u001B[0;32m      3\u001B[0m     \u001B[0mdatafile\u001B[0m\u001B[1;33m=\u001B[0m\u001B[1;34m'/home/aistudio/work/housing.data'\u001B[0m\u001B[1;33m\u001B[0m\u001B[1;33m\u001B[0m\u001B[0m\n\u001B[1;32m----> 4\u001B[1;33m     \u001B[0mdata\u001B[0m \u001B[1;33m=\u001B[0m \u001B[0mnp\u001B[0m\u001B[1;33m.\u001B[0m\u001B[0mfromfile\u001B[0m\u001B[1;33m(\u001B[0m\u001B[0mdatafile\u001B[0m\u001B[1;33m,\u001B[0m \u001B[0msep\u001B[0m\u001B[1;33m=\u001B[0m\u001B[1;34m' '\u001B[0m\u001B[1;33m,\u001B[0m\u001B[0mdtype\u001B[0m\u001B[1;33m=\u001B[0m\u001B[0mnp\u001B[0m\u001B[1;33m.\u001B[0m\u001B[0mfloat32\u001B[0m\u001B[1;33m)\u001B[0m\u001B[1;33m\u001B[0m\u001B[1;33m\u001B[0m\u001B[0m\n\u001B[0m\u001B[0;32m      5\u001B[0m \u001B[1;33m\u001B[0m\u001B[0m\n\u001B[0;32m      6\u001B[0m     \u001B[0mfeature_name\u001B[0m \u001B[1;33m=\u001B[0m \u001B[1;33m[\u001B[0m\u001B[1;34m'CRIM'\u001B[0m\u001B[1;33m,\u001B[0m \u001B[1;34m'ZN'\u001B[0m\u001B[1;33m,\u001B[0m \u001B[1;34m'INDUS'\u001B[0m\u001B[1;33m,\u001B[0m \u001B[1;34m'CHAS'\u001B[0m\u001B[1;33m,\u001B[0m \u001B[1;34m'NOX'\u001B[0m\u001B[1;33m,\u001B[0m \u001B[1;34m'RM'\u001B[0m\u001B[1;33m,\u001B[0m \u001B[1;34m'AGE'\u001B[0m\u001B[1;33m,\u001B[0m \u001B[1;34m'DIS'\u001B[0m\u001B[1;33m,\u001B[0m \u001B[1;34m'RAD'\u001B[0m\u001B[1;33m,\u001B[0m \u001B[1;34m'TAX'\u001B[0m\u001B[1;33m,\u001B[0m \u001B[1;34m'PTRATIO'\u001B[0m\u001B[1;33m,\u001B[0m \u001B[1;34m'B'\u001B[0m\u001B[1;33m,\u001B[0m \u001B[1;34m'LSTAT'\u001B[0m\u001B[1;33m,\u001B[0m \u001B[1;34m'MEDV'\u001B[0m\u001B[1;33m]\u001B[0m\u001B[1;33m\u001B[0m\u001B[1;33m\u001B[0m\u001B[0m\n",
      "\u001B[1;31mFileNotFoundError\u001B[0m: [Errno 2] No such file or directory: '/home/aistudio/work/housing.data'"
     ]
    }
   ],
   "source": [
    "class Regressor(paddle.nn.Layer):\n",
    "    def __init__(self):\n",
    "        super(Regressor,self).__init__()\n",
    "        \n",
    "        self.fc = Linear(in_features=13, out_features=1)\n",
    "        \n",
    "    def forward(self,inputs):\n",
    "        x = self.fc(inputs)\n",
    "        return x"
   ],
   "metadata": {
    "collapsed": false,
    "ExecuteTime": {
     "end_time": "2024-03-15T02:43:38.083004Z",
     "start_time": "2024-03-15T02:43:38.048005Z"
    }
   },
   "id": "fc54c95a0dba2c52",
   "execution_count": 7
  },
  {
   "cell_type": "code",
   "outputs": [],
   "source": [
    "model = Regressor()\n",
    "model.train()\n",
    "training_data,test_data = load_data()\n",
    "opt = paddle.optimizer.SGD(learning_rate=0.001,parameters=model.parameters())"
   ],
   "metadata": {
    "collapsed": false
   },
   "id": "f8e28a4e2b89e3c2"
  },
  {
   "cell_type": "code",
   "outputs": [],
   "source": [
    "poch_num=20\n",
    "batch_size=10\n",
    "for epoch_id in range(epoch_num):\n",
    "    np.random.shuffle(training_data)\n",
    "\n",
    "mini_batches=[training_data[k:k+batch_size]for k in range(0,len(traing_data),batch_size)]\n",
    "\n",
    "\n",
    "for iter_id,mini_batch in enumerate(mini_batches):\n",
    "    x=np.array(mini_batch[:,:-1])\n",
    "    y=np.array(mini_batch[:,-1])\n",
    "    hous_feature=paddle.to_tensor(x,dtype='float32')\n",
    "    prices=paddle.to_tensor(y,dtype='float32')\n",
    "    predicts=model(house_features)\n",
    "    loss=F.square_error_cost(predicts,lable=prices)\n",
    "    avg_loss=paddle,mean(loss)\n",
    "\n",
    "    if iter_id%10==0:\n",
    "    print('epoch:{}, iter{}, loss is :{}'.format(epoch_id,iter_id,avg_loss.numpy()))\n",
    "    avg_loss.backward()\n",
    "    opt.step()\n",
    "    opt.clear_grad()"
   ],
   "metadata": {
    "collapsed": false
   },
   "id": "134b8e87943f4a76"
  }
 ],
 "metadata": {
  "kernelspec": {
   "display_name": "Python 3",
   "language": "python",
   "name": "python3"
  },
  "language_info": {
   "codemirror_mode": {
    "name": "ipython",
    "version": 2
   },
   "file_extension": ".py",
   "mimetype": "text/x-python",
   "name": "python",
   "nbconvert_exporter": "python",
   "pygments_lexer": "ipython2",
   "version": "2.7.6"
  }
 },
 "nbformat": 4,
 "nbformat_minor": 5
}
