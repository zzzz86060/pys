{
 "cells": [
  {
   "cell_type": "code",
   "id": "initial_id",
   "metadata": {
    "collapsed": true,
    "ExecuteTime": {
     "end_time": "2024-04-19T05:42:04.132152Z",
     "start_time": "2024-04-19T05:42:03.057665Z"
    }
   },
   "source": [
    "from cv2 import reduce\n",
    "import cv2\n",
    "# 读取图片\n",
    "img = cv2.imread(\"..//image//lena.tif\")\n",
    "# 图片信息\n",
    "print(\"图片尺寸:\",img.shape)\n",
    "print(\"图片数据:\",type(img),img)\n",
    "# 显示图片\n",
    "cv2.imshow(\"Lenna\", img)\n",
    "k = cv2.waitKey(0) # waitKey代表读取键盘的输入，0代表一直等待\n",
    "if k ==27:     # 键盘上Esc键的键值\n",
    "    cv2.destroyAllWindows()\n",
    "# 添加文字\n",
    "cv2.putText(img, \"Learn Big Data\", (50, 150), cv2.FONT_HERSHEY_SIMPLEX, 1, (255, 255, 255),4)\n",
    "# 保存图片\n",
    "cv2.imwrite(\"img/Lenna_new.png\",img)\n",
    "def mdot(*args):\n",
    "    return reduce (np.dot,args)\n",
    "def draw_keypoints(vis,keypoints,color=(0,255,255)):\n",
    "    for kp in keypoints:\n",
    "        x,y = kp.pt\n",
    "        cv2.circle(vis,(int(x),int(y)),2,color)"
   ],
   "outputs": [
    {
     "name": "stdout",
     "output_type": "stream",
     "text": [
      "图片尺寸: (512, 512, 3)\n",
      "图片数据: <class 'numpy.ndarray'> [[[125 137 226]\n",
      "  [125 137 226]\n",
      "  [133 137 223]\n",
      "  ...\n",
      "  [122 148 230]\n",
      "  [110 130 221]\n",
      "  [ 90  99 200]]\n",
      "\n",
      " [[125 137 226]\n",
      "  [125 137 226]\n",
      "  [133 137 223]\n",
      "  ...\n",
      "  [122 148 230]\n",
      "  [110 130 221]\n",
      "  [ 90  99 200]]\n",
      "\n",
      " [[125 137 226]\n",
      "  [125 137 226]\n",
      "  [133 137 223]\n",
      "  ...\n",
      "  [122 148 230]\n",
      "  [110 130 221]\n",
      "  [ 90  99 200]]\n",
      "\n",
      " ...\n",
      "\n",
      " [[ 60  18  84]\n",
      "  [ 60  18  84]\n",
      "  [ 58  27  92]\n",
      "  ...\n",
      "  [ 84  73 173]\n",
      "  [ 76  68 172]\n",
      "  [ 79  62 177]]\n",
      "\n",
      " [[ 57  22  82]\n",
      "  [ 57  22  82]\n",
      "  [ 62  32  96]\n",
      "  ...\n",
      "  [ 79  70 179]\n",
      "  [ 81  71 181]\n",
      "  [ 81  74 185]]\n",
      "\n",
      " [[ 57  22  82]\n",
      "  [ 57  22  82]\n",
      "  [ 62  32  96]\n",
      "  ...\n",
      "  [ 79  70 179]\n",
      "  [ 81  71 181]\n",
      "  [ 81  74 185]]]\n"
     ]
    }
   ],
   "execution_count": 123
  },
  {
   "metadata": {
    "ExecuteTime": {
     "end_time": "2024-04-19T05:42:04.147671Z",
     "start_time": "2024-04-19T05:42:04.135149Z"
    }
   },
   "cell_type": "code",
   "source": [
    "import cv2  \n",
    "import numpy as np  \n",
    "SZ = 20\n",
    "CLASS_N = 10\n",
    "def split2d(img, cell_size, flatten=True):  \n",
    "    h, w = img.shape[:2]  \n",
    "    sx, sy = cell_size  \n",
    "  \n",
    "    # 确保图像可以被均匀分割，否则需要裁剪或填充图像  \n",
    "    nx, ny = w // sx, h // sy  # 使用地板除法来确定能够完整分割的块数  \n",
    "    img_cropped = img[:ny*sy, :nx*sx]  # 裁剪图像以确保可以均匀分割  \n",
    "  \n",
    "    cells = [np.hsplit(row, nx) for row in np.vsplit(img_cropped, ny)]  \n",
    "  \n",
    "    # 将列表的列表（由vsplit和hsplit产生）转换为一个NumPy数组，  \n",
    "    # 并可选地将其形状改变为一个三维数组，其中每个子图像都是平坦的  \n",
    "    cells = np.array(cells)  \n",
    "    if flatten:  \n",
    "        cells = cells.reshape(-1, sy, sx)  \n",
    "  \n",
    "    return cells  "
   ],
   "id": "77319e4eb79ced97",
   "outputs": [],
   "execution_count": 124
  },
  {
   "metadata": {
    "ExecuteTime": {
     "end_time": "2024-04-19T05:42:04.163708Z",
     "start_time": "2024-04-19T05:42:04.150183Z"
    }
   },
   "cell_type": "code",
   "source": [
    "def load_digits(fn):\n",
    "    digits_img = cv2.imread(fn,0)\n",
    "    digits = split2d(digits_img,(SZ,SZ))\n",
    "    labels = np.repeat(np.arange(CLASS_N),len((digits)/CLASS_N))\n",
    "    return digits,labels"
   ],
   "id": "29e7bb6d3c704487",
   "outputs": [],
   "execution_count": 125
  },
  {
   "metadata": {
    "ExecuteTime": {
     "end_time": "2024-04-19T05:42:04.179749Z",
     "start_time": "2024-04-19T05:42:04.164709Z"
    }
   },
   "cell_type": "code",
   "source": [
    "def deskew(img):\n",
    "    m = cv2.moments(img)\n",
    "    if(abs(m['mu02'])) < 1e-2:\n",
    "        return img.copy()\n",
    "    skew = m['mu11'] / m['mu02']\n",
    "    M = np.float32( [[1,skew,-0.5*SZ*skew],[0,1,0]] )\n",
    "    img = cv2.warpAffine(img, M, (SZ, SZ), flags=cv2.INTER_LINEAR)\n",
    "    return img"
   ],
   "id": "4a5dda4d8329b343",
   "outputs": [],
   "execution_count": 126
  },
  {
   "metadata": {},
   "cell_type": "markdown",
   "source": "",
   "id": "e92d626d42131b01"
  },
  {
   "metadata": {
    "ExecuteTime": {
     "end_time": "2024-04-19T05:42:04.195279Z",
     "start_time": "2024-04-19T05:42:04.183758Z"
    }
   },
   "cell_type": "code",
   "source": [
    "def svmInit(C=12.5,gamma=0.50625):\n",
    "    model = cv2.ml.SVM_create()\n",
    "    model.setGamma(gamma)\n",
    "    model.setC(C)\n",
    "    model.setKernel(cv2.ml.SVM_RBF)\n",
    "    model.setType(cv2.ml.SVM_C_SVC)"
   ],
   "id": "222a8f1bfa27969a",
   "outputs": [],
   "execution_count": 127
  },
  {
   "metadata": {
    "ExecuteTime": {
     "end_time": "2024-04-19T05:42:04.211312Z",
     "start_time": "2024-04-19T05:42:04.197278Z"
    }
   },
   "cell_type": "code",
   "source": [
    "def process_simple(digits):\n",
    "    return np.float32(digits).reshape(-1,SZ*SZ) / 255.0\n",
    "\n",
    "def gethog():\n",
    "    winSize = (20,20)\n",
    "    blockSize = (8,8)\n",
    "    blockStride = (4,4)\n",
    "    cellSize = (8,8)\n",
    "    nbins = 9\n",
    "    derivAperture = 1\n",
    "    winSigma = -1.\n",
    "    histogramNormType = 0.2\n",
    "    gammaCoreection = 1\n",
    "    nlevels = 64\n",
    "    signedGradient = True\n",
    "    hog = cv2.HOGDescriptor(winSize,blockSize,blockStride,cellSize,nbins,   derivAperture,winSigma,histogramNormType,gammaCoreection,nlevels,signedGradient)\n",
    "    return hog"
   ],
   "id": "120d194dc8ddd8c2",
   "outputs": [],
   "execution_count": 128
  },
  {
   "metadata": {
    "ExecuteTime": {
     "end_time": "2024-04-19T05:42:04.227357Z",
     "start_time": "2024-04-19T05:42:04.212313Z"
    }
   },
   "cell_type": "code",
   "source": [
    "import numpy as np\n",
    "from skimage.feature import haar_like_feature\n",
    "from skimage.transform import integral_image\n",
    "\n",
    "def get_haar(img):\n",
    "    integral_image = cv2.integral(img)\n",
    "    feature_type = 'type-4'\n",
    "    feature = haar_like_feature(integral_image,0,0,integral_image.shape[1],integral_image.shape[0],feature_type)\n",
    "    return feature"
   ],
   "id": "94339b7b9893d40c",
   "outputs": [],
   "execution_count": 129
  },
  {
   "metadata": {
    "ExecuteTime": {
     "end_time": "2024-04-19T05:42:04.274785Z",
     "start_time": "2024-04-19T05:42:04.229718Z"
    }
   },
   "cell_type": "code",
   "source": [
    "print(\"加载本地图片\")\n",
    "digits,labels = load_digits(\"../image/digits.png\")"
   ],
   "id": "9fd3b21988a0ae97",
   "outputs": [
    {
     "name": "stdout",
     "output_type": "stream",
     "text": [
      "加载本地图片\n"
     ]
    }
   ],
   "execution_count": 130
  },
  {
   "metadata": {
    "ExecuteTime": {
     "end_time": "2024-04-19T05:43:21.258988Z",
     "start_time": "2024-04-19T05:42:04.275786Z"
    }
   },
   "cell_type": "code",
   "source": [
    "\n",
    "from tqdm import tqdm\n",
    "\n",
    "print('提取每张图片的haar特征向量')\n",
    "digits_deskewed = list(map(deskew, digits))\n",
    "haar_features = []  \n",
    "for img in tqdm(digits_deskewed):  \n",
    "    haar_features.append(get_haar(img))  \n",
    "haar_features = np.squeeze(np.array(haar_features)).astype(np.float32)\n",
    "print(haar_features.shape,haar_features.dtype)\n",
    "def get_hog():\n",
    "    \"\"\"\n",
    "    :return: 返回一个获得HOG描述符的函数\n",
    "    \"\"\"\n",
    "    winSize = (20, 20)\n",
    "    blockSize = (8, 8)\n",
    "    blockStride = (4, 4)\n",
    "    cellSize = (8, 8)\n",
    "    nbins = 9\n",
    "    derivAperture = 1\n",
    "    winSigma = -1.\n",
    "    histogramNormType = 0\n",
    "    L2HysThreshold = 0.2\n",
    "    gammaCorrection = 1\n",
    "    nlevels = 64\n",
    "    signedGradient = True\n",
    "\n",
    "    hog = cv2.HOGDescriptor(winSize, blockSize, blockStride, cellSize, nbins, derivAperture, winSigma,\n",
    "                            histogramNormType, L2HysThreshold, gammaCorrection, nlevels, signedGradient)\n",
    "\n",
    "    return hog\n",
    "import itertools as it\n",
    "\n",
    "def grouper(n, iterable, fillvalue=None):\n",
    "    '''grouper(3, 'ABCDEFG', 'x') --> ABC DEF Gxx'''\n",
    "    args = [iter(iterable)] * n\n",
    "    if PY3:\n",
    "        output = it.zip_longest(fillvalue=fillvalue, *args)\n",
    "    else:\n",
    "        output = it.izip_longest(fillvalue=fillvalue, *args)\n",
    "    return output\n",
    "import sys\n",
    "PY3 = sys.version_info[0] == 3\n",
    "def mosaic(w, imgs):\n",
    "    '''Make a grid from images.\n",
    "\n",
    "    w    -- number of grid columns\n",
    "    imgs -- images (must have same size and format)\n",
    "    '''\n",
    "    imgs = iter(imgs)\n",
    "    if PY3:\n",
    "        img0 = next(imgs)\n",
    "    else:\n",
    "        img0 = imgs.next()\n",
    "    pad = np.zeros_like(img0)\n",
    "    imgs = it.chain([img0], imgs)\n",
    "    rows = grouper(w, imgs, pad)\n",
    "    return np.vstack(list(map(np.hstack, rows)))\n",
    "def svmInit(C=12.5,gamma=0.50625):\n",
    "    \"\"\"\n",
    "    创建并配置SVM模型\n",
    "    :param C: 参数C\n",
    "    :param gamma: 参数Gamma\n",
    "    :return: 返回一个已经配置完参数的SVM模型\n",
    "    \"\"\"\n",
    "    # 创建一个空SVM模型\n",
    "    model = cv2.ml.SVM_create()\n",
    "    model.setGamma(gamma)\n",
    "    model.setC(C)\n",
    "    # SVM核为SVM_RBF,需要有对应的Gamma参数\n",
    "    model.setKernel(cv2.ml.SVM_RBF)\n",
    "    # SVM类型为SVM_C_SVC，需要有对应的C参数\n",
    "    model.setType(cv2.ml.SVM_C_SVC)\n",
    "    return model\n",
    "def svmPredict(model, samples):\n",
    "    \"\"\"\n",
    "    返回模型对测试数据的预测结果\n",
    "    :param model: 已经训练好的模型\n",
    "    :param samples: 测试用的图像的特征向量\n",
    "    :return: 返回模型对测试数据的预测结果\n",
    "    \"\"\"\n",
    "    return model.predict(samples)[1].ravel()\n",
    "def svmTrain(model, samples, labels):\n",
    "    model.train(samples, cv2.ml.ROW_SAMPLE, labels)\n",
    "    return model\n",
    "def svmEvaluate(model, digits, samples, labels):    \n",
    "    predictions = svmPredict(model, samples)\n",
    "    accuracy = (labels == predictions).mean()\n",
    "    print('预测准确率: %.2f %%' % (accuracy * 100))\n",
    "\n",
    "    confusion = np.zeros((10, 10), np.int32)\n",
    "    for i, j in zip(labels, predictions):\n",
    "        confusion[int(i), int(j)] += 1\n",
    "    print('confusion matrix:')\n",
    "    print(confusion)\n",
    "    print(sum(sum(confusion)))\n",
    "\n",
    "    vis = []\n",
    "    for img, flag in zip(digits, predictions == labels):\n",
    "        img = cv2.cvtColor(img, cv2.COLOR_GRAY2BGR)\n",
    "        if not flag:\n",
    "            img[..., :2] = 0\n",
    "        vis.append(img)\n",
    "    return mosaic(25, vis)\n"
   ],
   "id": "54294453b35a1854",
   "outputs": [
    {
     "name": "stdout",
     "output_type": "stream",
     "text": [
      "提取每张图片的haar特征向量\n"
     ]
    },
    {
     "name": "stderr",
     "output_type": "stream",
     "text": [
      "100%|██████████| 5000/5000 [01:16<00:00, 65.18it/s]\n"
     ]
    },
    {
     "name": "stdout",
     "output_type": "stream",
     "text": [
      "(5000, 12100) float32\n"
     ]
    }
   ],
   "execution_count": 131
  },
  {
   "metadata": {
    "ExecuteTime": {
     "end_time": "2024-04-19T05:47:20.617401Z",
     "start_time": "2024-04-19T05:47:20.064977Z"
    }
   },
   "cell_type": "code",
   "source": [
    "print('定义HOG参数 ...')\n",
    "# 定义HOG参数\n",
    "hog = get_hog()\n",
    "print('将数据集分成两份，90%用于训练，10%用于测试... ')\n",
    "print('提取每张图片的HOG特征向量 ... ')\n",
    "hog_descriptors = []\n",
    "# 提取提取每张图像的特征向量，并添加到列表hog_descriptors\n",
    "for img in digits_deskewed:\n",
    "    hog_descriptors.append(hog.compute(img))\n",
    "hog_descriptors = np.squeeze(hog_descriptors)\n",
    "# Split the dataset correctly\n",
    "train_n = int(0.9 * len(hog_descriptors))\n",
    "digits_train, digits_test = np.split(digits_deskewed, [train_n])\n",
    "hog_descriptors_train, hog_descriptors_test = np.split(hog_descriptors, [train_n])\n",
    "labels_train, labels_test = np.split(labels, [train_n])\n",
    "print('训练SVM模型 ...')\n",
    "model = svmInit()\n",
    "svmTrain(model, hog_descriptors_train, labels_train)\n",
    "print('Evaluating model ... ')\n",
    "vis = svmEvaluate(model, digits_test, hog_descriptors_test, labels_test)"
   ],
   "id": "31997798fa70af0a",
   "outputs": [
    {
     "name": "stdout",
     "output_type": "stream",
     "text": [
      "定义HOG参数 ...\n"
     ]
    },
    {
     "ename": "NameError",
     "evalue": "name 'get_hog' is not defined",
     "output_type": "error",
     "traceback": [
      "\u001B[1;31m---------------------------------------------------------------------------\u001B[0m",
      "\u001B[1;31mNameError\u001B[0m                                 Traceback (most recent call last)",
      "Cell \u001B[1;32mIn[1], line 3\u001B[0m\n\u001B[0;32m      1\u001B[0m \u001B[38;5;28mprint\u001B[39m(\u001B[38;5;124m'\u001B[39m\u001B[38;5;124m定义HOG参数 ...\u001B[39m\u001B[38;5;124m'\u001B[39m)\n\u001B[0;32m      2\u001B[0m \u001B[38;5;66;03m# 定义HOG参数\u001B[39;00m\n\u001B[1;32m----> 3\u001B[0m hog \u001B[38;5;241m=\u001B[39m \u001B[43mget_hog\u001B[49m()\n\u001B[0;32m      4\u001B[0m \u001B[38;5;28mprint\u001B[39m(\u001B[38;5;124m'\u001B[39m\u001B[38;5;124m将数据集分成两份，90\u001B[39m\u001B[38;5;124m%\u001B[39m\u001B[38;5;124m用于训练，10\u001B[39m\u001B[38;5;124m%\u001B[39m\u001B[38;5;124m用于测试... \u001B[39m\u001B[38;5;124m'\u001B[39m)\n\u001B[0;32m      5\u001B[0m \u001B[38;5;28mprint\u001B[39m(\u001B[38;5;124m'\u001B[39m\u001B[38;5;124m提取每张图片的HOG特征向量 ... \u001B[39m\u001B[38;5;124m'\u001B[39m)\n",
      "\u001B[1;31mNameError\u001B[0m: name 'get_hog' is not defined"
     ]
    }
   ],
   "execution_count": 1
  }
 ],
 "metadata": {
  "kernelspec": {
   "display_name": "Python 3",
   "language": "python",
   "name": "python3"
  },
  "language_info": {
   "codemirror_mode": {
    "name": "ipython",
    "version": 2
   },
   "file_extension": ".py",
   "mimetype": "text/x-python",
   "name": "python",
   "nbconvert_exporter": "python",
   "pygments_lexer": "ipython2",
   "version": "2.7.6"
  }
 },
 "nbformat": 4,
 "nbformat_minor": 5
}
