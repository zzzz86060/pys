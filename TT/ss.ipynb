{
 "cells": [
  {
   "cell_type": "code",
   "execution_count": 1,
   "id": "initial_id",
   "metadata": {
    "collapsed": true,
    "ExecuteTime": {
     "end_time": "2024-03-13T04:52:12.691557Z",
     "start_time": "2024-03-13T04:52:05.572010Z"
    }
   },
   "source": [
    "import paddle\n",
    "from paddle.nn import Linear\n",
    "import paddle.nn.functional as F\n",
    "import numpy as np\n",
    "import matplotlib.pyplot as plt\n",
    "\n",
    "from paddle.vision.datasets import MNIST\n",
    "\n",
    "train_dataset = MNIST(mode='train')\n",
    "\n",
    "train_data_0 = np.array(train_dataset[0][0])\n",
    "train_label_0 = np.array(train_dataset[0][1])\n",
    "\n",
    "plt.figure(\"Image\")\n",
    "plt.figure(figsize=(3, 3))\n",
    "plt.imshow(train_data_0, cmap=plt.cm.binary)\n",
    "plt.title('image')\n",
    "plt.show()\n",
    "\n",
    "print('Image data shape:', train_data_0.shape)\n",
    "print('Image label:', train_label_0)\n",
    "\n",
    "class MNIST(paddle.nn.Layer):\n",
    "    def __init__(self):\n",
    "        super(MNIST, self).__init__()\n",
    "        self.fc = paddle.nn.Linear(in_features=784, out_features=1)\n",
    "\n",
    "    def forward(self, inputs):\n",
    "        outputs = self.fc(inputs)\n",
    "        return outputs\n",
    "\n",
    "model = MNIST()\n",
    "\n",
    "def train(model):\n",
    "    model.train()\n",
    "    train_loader = paddle.io.DataLoader(MNIST(mode='train'), batch_size=16, shuffle=True)\n",
    "    opt = paddle.optimizer.SGD(learning_rate=0.001, parameters=model.parameters)\n",
    "\n",
    "    EPOCH_NUM = 10\n",
    "    lost_list = []\n",
    "    for epoch in range(EPOCH_NUM):\n",
    "        for Batch_id, data in enumerate(train_loader()):\n",
    "            images, labels = data[0], data[1]\n",
    "            images = norm_img(images).astype('float32')\n",
    "            labels = labels.astype('float32')\n",
    "\n",
    "            predicts = model(images)\n",
    "\n",
    "            loss = F.square_error_cost(predicts, labels)\n",
    "            avg_loss = paddle.mean(loss)\n",
    "\n",
    "            if (Batch_id % 600 == 0):\n",
    "                loss = avg_loss.numpy()[0]\n",
    "                lost_list.append(loss)\n",
    "                print('epoch_id:{}, batch_id:{}, loss is :{}', format(epoch, Batch_id, loss))\n",
    "\n",
    "            avg_loss.backward()\n",
    "            opt.step()\n",
    "            opt.clear_grad()\n",
    "\n",
    "    return lost_list\n",
    "\n",
    "lost_list = train(model)\n"
   ],
   "outputs": []
  }
 ],
 "metadata": {
  "kernelspec": {
   "display_name": "Python 3",
   "language": "python",
   "name": "python3"
  },
  "language_info": {
   "codemirror_mode": {
    "name": "ipython",
    "version": 2
   },
   "file_extension": ".py",
   "mimetype": "text/x-python",
   "name": "python",
   "nbconvert_exporter": "python",
   "pygments_lexer": "ipython2",
   "version": "2.7.6"
  }
 },
 "nbformat": 4,
 "nbformat_minor": 5
}
