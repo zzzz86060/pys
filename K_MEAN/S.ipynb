{
 "cells": [
  {
   "cell_type": "code",
   "id": "initial_id",
   "metadata": {
    "collapsed": true,
    "ExecuteTime": {
     "end_time": "2024-06-04T04:03:18.368240Z",
     "start_time": "2024-06-04T04:03:18.245663Z"
    }
   },
   "source": [
    "from sklearn.datasets import load_iris\n",
    "import matplotlib.pyplot as plt \n",
    "import numpy as np \n",
    "\n",
    "x = load_iris().data[:,2:4]\n",
    "plt.figure(figsize=(5,3))\n",
    "plt.scatter(x[:,0],x[:,1],s=20,c='b',marker=\"*\")\n",
    "plt.xlabel('the length of petal')\n",
    "plt.ylabel('the with of petal')\n",
    "plt.show()\n"
   ],
   "execution_count": 11,
   "outputs": []
  },
  {
   "metadata": {
    "ExecuteTime": {
     "end_time": "2024-06-04T04:03:59.217102Z",
     "start_time": "2024-06-04T04:03:59.121418Z"
    }
   },
   "cell_type": "code",
   "source": [
    "from sklearn.cluster import KMeans \n",
    "model = KMeans(2)\n",
    "model.fit(x)\n",
    "#聚类中心\n",
    "clusterCenters = model.cluster_centers_\n",
    "print('聚类中心为：\\n',clusterCenters)\n",
    "lablel_pred = model.labels_\n",
    "print('样本对应的标签：\\n',lablel_pred)"
   ],
   "id": "db50d0fa33b53775",
   "execution_count": 14,
   "outputs": []
  },
  {
   "metadata": {
    "ExecuteTime": {
     "end_time": "2024-06-04T03:58:14.314742Z",
     "start_time": "2024-06-04T03:58:14.184166Z"
    }
   },
   "cell_type": "code",
   "source": [
    "colors = ['b','g','c','r']\n",
    "markers = ['o','*','v','x']\n",
    "plt.figure(figsize=(5,3))\n",
    "plt.xlabel('the length of petal')\n",
    "plt.ylabel('the with of petal')\n",
    "for i,l in enumerate(model.labels_):\n",
    "    plt.plot(x[i][0],x[i][1],color=colors[1],marker=markers[1])\n",
    "for i in range(3):\n",
    "    plt.plot(clusterCenters[i][0],clusterCenters[i][1],color=colors[3],marker=markers[-1])\n",
    "plt.show()"
   ],
   "id": "6da3e70b194a8199",
   "execution_count": 10,
   "outputs": []
  },
  {
   "metadata": {},
   "cell_type": "markdown",
   "source": "# 凝聚层次算法",
   "id": "981e12d6afef6fe9"
  },
  {
   "metadata": {
    "ExecuteTime": {
     "end_time": "2024-06-04T03:55:52.376927Z",
     "start_time": "2024-06-04T03:55:52.232958Z"
    }
   },
   "cell_type": "code",
   "source": [
    "from sklearn.datasets import make_moons \n",
    "X,y = make_moons(n_samples=1000, noise=0.1, random_state=0)\n",
    "plt.scatter(x[:,0],x[:,1])\n",
    "plt.show()"
   ],
   "id": "6e19da7c0fe449c2",
   "execution_count": 6,
   "outputs": []
  },
  {
   "metadata": {
    "ExecuteTime": {
     "end_time": "2024-06-04T03:45:46.138235Z",
     "start_time": "2024-06-04T03:45:45.915119Z"
    }
   },
   "cell_type": "code",
   "source": [
    "from sklearn.cluster import AgglomerativeClustering\n",
    "model = AgglomerativeClustering(3,linkage='ward')\n",
    "labels = model.fit_predict(x)\n",
    "print(labels)\n",
    "colors = ['b','g','r']\n",
    "markers = ['o','*','v']\n",
    "plt.figure(figsize=(5,3))\n",
    "for i,l in enumerate(model.labels_):\n",
    "    plt.plot(x[i][0],x[i][1],color=colors[1],marker=markers[1])\n",
    "plt.show()"
   ],
   "id": "72c8f60c66722e9",
   "execution_count": 4,
   "outputs": []
  },
  {
   "metadata": {
    "ExecuteTime": {
     "end_time": "2024-06-04T03:56:51.037778Z",
     "start_time": "2024-06-04T03:56:49.976470Z"
    }
   },
   "cell_type": "code",
   "source": [
    "from scipy.cluster.hierarchy import linkage\n",
    "from scipy.cluster.hierarchy import dendrogram\n",
    "plt.figure(figsize=(5,3))\n",
    "Z = linkage(y=x, method='ward', metric='euclidean')\n",
    "\n",
    "dendrogram(Z, labels=labels)\n",
    "plt.show()\n",
    "\n",
    "from scipy.cluster.hierarchy import linkage\n",
    "from scipy.cluster.hierarchy import dendrogram\n",
    "plt.figure(figsize=(5,3))\n",
    "Z = linkage(y=x, method='ward',metric='educliden')\n",
    "dendrogram(Z, labels=labels)\n",
    "plt.show()"
   ],
   "id": "d20ac43f9831fb20",
   "execution_count": 8,
   "outputs": []
  }
 ],
 "metadata": {
  "kernelspec": {
   "display_name": "Python 3",
   "language": "python",
   "name": "python3"
  },
  "language_info": {
   "codemirror_mode": {
    "name": "ipython",
    "version": 2
   },
   "file_extension": ".py",
   "mimetype": "text/x-python",
   "name": "python",
   "nbconvert_exporter": "python",
   "pygments_lexer": "ipython2",
   "version": "2.7.6"
  }
 },
 "nbformat": 4,
 "nbformat_minor": 5
}
