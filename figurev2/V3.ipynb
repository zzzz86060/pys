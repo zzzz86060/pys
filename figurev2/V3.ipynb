{
 "cells": [
  {
   "cell_type": "code",
   "id": "initial_id",
   "metadata": {
    "collapsed": true,
    "ExecuteTime": {
     "end_time": "2024-05-21T03:19:08.509596Z",
     "start_time": "2024-05-21T03:19:07.618199Z"
    }
   },
   "source": [
    "from sklearn.datasets import fetch_lfw_people\n",
    "import matplotlib.pyplot as plt\n",
    "faces = fetch_lfw_people(min_faces_per_person=60)"
   ],
   "execution_count": 42,
   "outputs": []
  },
  {
   "metadata": {
    "ExecuteTime": {
     "end_time": "2024-05-21T03:19:08.866947Z",
     "start_time": "2024-05-21T03:19:08.833971Z"
    }
   },
   "cell_type": "code",
   "source": [
    "x,y = faces.data,faces.target\n",
    "target_names = faces.target_names\n",
    "n_samples,h,w = faces.images.shape\n",
    "print('超过60张图片的名人:',target_names)\n",
    "print('总的样本数量:',n_samples,h,w)"
   ],
   "id": "f211c4e8029e44e3",
   "execution_count": 43,
   "outputs": []
  },
  {
   "metadata": {
    "ExecuteTime": {
     "end_time": "2024-05-21T03:19:10.854180Z",
     "start_time": "2024-05-21T03:19:10.818184Z"
    }
   },
   "cell_type": "code",
   "source": [
    "from sklearn.decomposition import PCA\n",
    "pca = PCA(n_components=150,svd_solver='randomized',whiten=True,random_state=70).fit(x)\n",
    "eigenfaces = pca.components_.reshape((150,h,w))\n",
    "x_pca = pca.transform(x)\n",
    "fig,ax = plt.subplots(3,5)\n",
    "for i,axi in enumerate(ax.flat):\n",
    "    axi.imshow(eigenfaces[i].reshape(h,w),cmap='bone')\n",
    "    axi.set(xticks=[],yticks=[])\n",
    "plt.show()"
   ],
   "id": "5e41c57fb1b54d31",
   "execution_count": 44,
   "outputs": []
  },
  {
   "metadata": {
    "ExecuteTime": {
     "end_time": "2024-05-21T03:19:12.301315Z",
     "start_time": "2024-05-21T03:19:12.261740Z"
    }
   },
   "cell_type": "code",
   "source": [
    "from sklearn.svm import SVC\n",
    "from sklearn.model_selection import GridSearchCV\n",
    "from sklearn.model_selection import train_test_split\n",
    "from sklearn.metrics import classification_report\n",
    "import numpy as np\n",
    "\n",
    "x_train,x_test,y_train,y_test = train_test_split(x_pca,y,test_size=400,random_state=42)\n",
    "param_grid = {'C':[1,5,10,50,100],'gamma':[0.0001,0.0005,0.001,0.005,0.01,0.1]}\n",
    "grid = GridSearchCV(SVC(kernel='rbf',random_state=0),param_grid,cv=5)\n",
    "grid.fit(x_train,y_train)\n",
    "print('最优参数值为:',grid.best_params_)"
   ],
   "id": "35232e607a124b61",
   "execution_count": 45,
   "outputs": []
  },
  {
   "metadata": {
    "ExecuteTime": {
     "end_time": "2024-05-21T03:19:13.987301Z",
     "start_time": "2024-05-21T03:19:13.960734Z"
    }
   },
   "cell_type": "code",
   "source": [
    "model = grid.best_estimator_\n",
    "pred = model.predict(x_test)\n",
    "re = classification_report(y_test,pred,target_names=faces.target_names)\n",
    "print('最优模型的评估报告\\n',re)"
   ],
   "id": "ec022ec3830275fc",
   "execution_count": 46,
   "outputs": []
  },
  {
   "metadata": {},
   "cell_type": "code",
   "execution_count": null,
   "source": [
    "fig ,ax = plt.subplots(3,5)\n",
    "for i,axi in enumerate(ax.flat):\n",
    "    axi.imshow(x_test[i].reshape(h,w),cmap='bone')\n",
    "    axi.set(xticks=[],yticks=[])\n",
    "    box = dict(fc='red',alpha=0.5)\n",
    "    axi.set_ylabel(faces.target_names[pred[i]].split()[-1],bbox=None if pred[i] == y_test[i] else box)"
   ],
   "id": "cb36a69433233a58",
   "outputs": []
  }
 ],
 "metadata": {
  "kernelspec": {
   "display_name": "Python 3",
   "language": "python",
   "name": "python3"
  },
  "language_info": {
   "codemirror_mode": {
    "name": "ipython",
    "version": 2
   },
   "file_extension": ".py",
   "mimetype": "text/x-python",
   "name": "python",
   "nbconvert_exporter": "python",
   "pygments_lexer": "ipython2",
   "version": "2.7.6"
  }
 },
 "nbformat": 4,
 "nbformat_minor": 5
}
