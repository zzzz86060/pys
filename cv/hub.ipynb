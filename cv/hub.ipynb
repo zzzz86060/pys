{
 "cells": [
  {
   "cell_type": "code",
   "id": "initial_id",
   "metadata": {
    "collapsed": true,
    "ExecuteTime": {
     "end_time": "2024-05-24T02:20:43.382179Z",
     "start_time": "2024-05-24T02:20:43.374178Z"
    }
   },
   "source": [
    "import paddlehub as hub\n",
    "import cv2\n",
    "from PIL import Image\n",
    "import matplotlib.pyplot as plt"
   ],
   "outputs": [],
   "execution_count": 4
  },
  {
   "metadata": {},
   "cell_type": "code",
   "outputs": [],
   "execution_count": null,
   "source": [
    "# 使用模型对图片进行分类\n",
    "import paddlehub as hub\n",
    "import cv2\n",
    "from PIL import Image\n",
    "import matplotlib.pyplot as plt\n",
    "\n",
    "classifier = hub.Module(name='resnet50_vd_dishes')\n",
    "reslut = classifier.classification(images=[cv2.imread('/home/aistudio/data/data267920/test1.jpg')])\n",
    "print(reslut)"
   ],
   "id": "a6f32809488b63a7"
  },
  {
   "metadata": {},
   "cell_type": "code",
   "outputs": [],
   "execution_count": null,
   "source": [
    "vehicles_detector = hub.Module(name='yolov3_darknet53_vehicles')\n",
    "result = vehicles_detector.object_detection(images=[cv2.imread('/home/aistudio/data/data267920/test2.jpg')])\n",
    "img = Image.open(result[0]['save_path'])\n",
    "plt.figure(figsize=(15,8))\n",
    "plt.show(img)\n",
    "plt.show()"
   ],
   "id": "4434c97e714b6ff1"
  },
  {
   "metadata": {},
   "cell_type": "code",
   "outputs": [],
   "execution_count": null,
   "source": [
    "human_seg = hub.Module(name='deeplabv3p_xception65_humanseg')\n",
    "result = human_seg.segmentation(images=[cv2.imread('/home/aistudio/data/data267920/test3.jpg')],visualization=True)\n",
    "img_origin = Image.open('')\n",
    "img = Image.open(result[0]['save_path'])\n",
    "fig = plt.figure(figsize=(8,8))\n",
    "ax = fig.add_subplot(1,2,1)\n",
    "ax.imshow(img_origin)\n",
    "ax = fig.add_subplot(1,2,2)\n",
    "ax.imshow(img)\n",
    "plt.show()\n"
   ],
   "id": "faae2289b408f5fc"
  },
  {
   "metadata": {
    "ExecuteTime": {
     "end_time": "2024-05-24T03:32:48.872625Z",
     "start_time": "2024-05-24T03:32:47.752937Z"
    }
   },
   "cell_type": "code",
   "source": [
    "ocr = hub.Module(name='chinese_ocr_db_crnn_mobile')\n",
    "result = ocr.recognize_text(images=[cv2.imread('/home/aistudio/data/data267920/test4.jpg')],visualization=True)\n",
    "img=Image.open(result[0]['save_path'])\n",
    "fig = plt.figure(figsize=(10,8))\n",
    "plt.imshow(img)\n",
    "plt.show()\n"
   ],
   "id": "ff70c3ec43c3cd92",
   "outputs": [
    {
     "ename": "TypeError",
     "evalue": "'module' object is not callable",
     "output_type": "error",
     "traceback": [
      "\u001B[1;31m---------------------------------------------------------------------------\u001B[0m",
      "\u001B[1;31mTypeError\u001B[0m                                 Traceback (most recent call last)",
      "Cell \u001B[1;32mIn[5], line 2\u001B[0m\n\u001B[0;32m      1\u001B[0m \u001B[38;5;66;03m# PaddleHub快速实现OCR任务，使用chinese_ocr_db_crnn_mobile模型进行文字识别。\u001B[39;00m\n\u001B[1;32m----> 2\u001B[0m ocr \u001B[38;5;241m=\u001B[39m \u001B[43mhub\u001B[49m\u001B[43m(\u001B[49m\u001B[43mname\u001B[49m\u001B[38;5;241;43m=\u001B[39;49m\u001B[38;5;124;43m'\u001B[39;49m\u001B[38;5;124;43mchinese_ocr_db_crnn_mobile\u001B[39;49m\u001B[38;5;124;43m'\u001B[39;49m\u001B[43m)\u001B[49m\n\u001B[0;32m      3\u001B[0m reslut \u001B[38;5;241m=\u001B[39m result \u001B[38;5;241m=\u001B[39m human_seg\u001B[38;5;241m.\u001B[39msegmentation(images\u001B[38;5;241m=\u001B[39m[cv2\u001B[38;5;241m.\u001B[39mimread(\u001B[38;5;124m'\u001B[39m\u001B[38;5;124m/home/aistudio/data/data267920/test4.jpg\u001B[39m\u001B[38;5;124m'\u001B[39m)],visualization\u001B[38;5;241m=\u001B[39m\u001B[38;5;28;01mTrue\u001B[39;00m)\n\u001B[0;32m      4\u001B[0m img \u001B[38;5;241m=\u001B[39m Image\u001B[38;5;241m.\u001B[39mopen(result[\u001B[38;5;241m0\u001B[39m][\u001B[38;5;124m'\u001B[39m\u001B[38;5;124msave_path\u001B[39m\u001B[38;5;124m'\u001B[39m])\n",
      "\u001B[1;31mTypeError\u001B[0m: 'module' object is not callable"
     ]
    }
   ],
   "execution_count": 5
  },
  {
   "metadata": {},
   "cell_type": "code",
   "outputs": [],
   "execution_count": null,
   "source": [
    "model = hub.Module(name='UGAIT_100w')\n",
    "reslut = model.style_transfer(images=[cv2.imread('/home/aistudio/data/data267920/test5.jpg')],visualization=True)\n",
    "img_origin = Image.open('')\n",
    "img = cv2.cvtColor(reslut[0],cv2.COLOR_BGR2RGB)\n",
    "img.cv2.fromarray(img)\n"
   ],
   "id": "89453e25e9865e23"
  }
 ],
 "metadata": {
  "kernelspec": {
   "display_name": "Python 3",
   "language": "python",
   "name": "python3"
  },
  "language_info": {
   "codemirror_mode": {
    "name": "ipython",
    "version": 2
   },
   "file_extension": ".py",
   "mimetype": "text/x-python",
   "name": "python",
   "nbconvert_exporter": "python",
   "pygments_lexer": "ipython2",
   "version": "2.7.6"
  }
 },
 "nbformat": 4,
 "nbformat_minor": 5
}
