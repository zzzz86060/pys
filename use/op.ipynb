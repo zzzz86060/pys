{
 "cells": [
  {
   "cell_type": "code",
   "source": [
    "import numpy as np\n",
    "from sklearn.neighbors import KNeighborsClassifier\n",
    "from sklearn.model_selection import train_test_split\n",
    "from sklearn.model_selection import cross_val_score\n",
    "import matplotlib.pyplot as plt"
   ],
   "metadata": {
    "collapsed": false,
    "ExecuteTime": {
     "end_time": "2024-04-02T03:40:40.621639Z",
     "start_time": "2024-04-02T03:40:40.613608Z"
    }
   },
   "id": "b31d4cfc7f26b55b",
   "execution_count": 44,
   "outputs": []
  },
  {
   "cell_type": "code",
   "source": [
    "# 数据处理"
   ],
   "metadata": {
    "collapsed": false,
    "ExecuteTime": {
     "end_time": "2024-04-02T03:40:40.653167Z",
     "start_time": "2024-04-02T03:40:40.634623Z"
    }
   },
   "id": "a547a98d5f914419",
   "execution_count": 45,
   "outputs": []
  },
  {
   "cell_type": "code",
   "source": [
    "x = np.array([[19,30],[30,40],[39,47],[40,52],[47,50],[50,55],[60,60],[62,65],[73,70],[75,82],[77,85],[90,95],[92,90]])\n",
    "y = np.array([0,0,0,0,0,0,1,1,1,1,1,1,1])\n",
    "\n",
    "x_train,x_test,y_train,y_test = train_test_split(x,y,test_size=0.3,random_state=0)\n",
    "\n",
    "x_train.shape \n"
   ],
   "metadata": {
    "collapsed": false,
    "ExecuteTime": {
     "end_time": "2024-04-02T03:40:40.685290Z",
     "start_time": "2024-04-02T03:40:40.667138Z"
    }
   },
   "id": "5fd1d390b11540e9",
   "execution_count": 46,
   "outputs": []
  },
  {
   "cell_type": "markdown",
   "source": [],
   "metadata": {
    "collapsed": false
   },
   "id": "3cb7c8ef826f0257"
  },
  {
   "cell_type": "code",
   "source": [
    "k_range = range(2,11)\n",
    "k_error = []\n",
    "for k in k_range:\n",
    "    model = KNeighborsClassifier(n_neighbors=k)\n",
    "    score = cross_val_score(model,x,y,cv=5,scoring='accuracy')\n",
    "    k_error.append(1-np.mean(score))\n",
    "k_error"
   ],
   "metadata": {
    "collapsed": false,
    "ExecuteTime": {
     "end_time": "2024-04-02T03:40:40.780420Z",
     "start_time": "2024-04-02T03:40:40.687825Z"
    }
   },
   "id": "244e7e9ede66ffad",
   "execution_count": 47,
   "outputs": []
  },
  {
   "cell_type": "code",
   "source": [
    "plt.plot(k_range,k_error,'r-')\n",
    "plt.xlabel('The value of k')\n",
    "plt.ylabel('Predicted Error Rate')\n",
    "plt.title('The selection of k')\n",
    "plt.savefig('imp4-1.png',dpi=300)\n",
    "plt.show()\n",
    "\n",
    "\n"
   ],
   "metadata": {
    "collapsed": false,
    "ExecuteTime": {
     "end_time": "2024-04-02T03:40:41.063145Z",
     "start_time": "2024-04-02T03:40:40.782400Z"
    }
   },
   "id": "6aba231aca516906",
   "execution_count": 48,
   "outputs": []
  },
  {
   "cell_type": "code",
   "source": [
    "model1 = KNeighborsClassifier(n_neighbors=5)\n",
    "model2 = KNeighborsClassifier(n_neighbors=7)\n",
    "\n",
    "model1.fit(x_train,y_train)\n",
    "model2.fit(x_train,y_train)\n"
   ],
   "metadata": {
    "collapsed": false,
    "ExecuteTime": {
     "end_time": "2024-04-02T03:40:41.078845Z",
     "start_time": "2024-04-02T03:40:41.066117Z"
    }
   },
   "id": "92ce31297741615",
   "execution_count": 49,
   "outputs": []
  },
  {
   "cell_type": "code",
   "source": [
    "pre1 = model1.predict([[55,65]])\n",
    "pre2 = model2.predict([[55,65]])\n",
    "print('k=5时,预测样本的分类结果为：',pre1)\n",
    "print('k=7时,预测样本的分类结果为：',pre2)"
   ],
   "metadata": {
    "collapsed": false,
    "ExecuteTime": {
     "end_time": "2024-04-02T03:40:41.094878Z",
     "start_time": "2024-04-02T03:40:41.080858Z"
    }
   },
   "id": "410824dbeba3909f",
   "execution_count": 50,
   "outputs": []
  }
 ],
 "metadata": {
  "kernelspec": {
   "display_name": "Python 3",
   "language": "python",
   "name": "python3"
  },
  "language_info": {
   "codemirror_mode": {
    "name": "ipython",
    "version": 2
   },
   "file_extension": ".py",
   "mimetype": "text/x-python",
   "name": "python",
   "nbconvert_exporter": "python",
   "pygments_lexer": "ipython2",
   "version": "2.7.6"
  }
 },
 "nbformat": 4,
 "nbformat_minor": 5
}
