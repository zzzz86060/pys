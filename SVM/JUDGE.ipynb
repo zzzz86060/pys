{
 "cells": [
  {
   "cell_type": "code",
   "id": "initial_id",
   "metadata": {
    "collapsed": true,
    "ExecuteTime": {
     "end_time": "2024-05-14T03:21:00.051963Z",
     "start_time": "2024-05-14T03:20:54.940155Z"
    }
   },
   "source": [
    "from sklearn.datasets import load_breast_cancer\n",
    "from sklearn .svm import SVC\n",
    "from sklearn.model_selection import train_test_split\n",
    "import pandas as pd\n",
    "import numpy as np"
   ],
   "execution_count": 2,
   "outputs": []
  },
  {
   "metadata": {
    "ExecuteTime": {
     "end_time": "2024-05-14T03:21:00.099364Z",
     "start_time": "2024-05-14T03:21:00.055963Z"
    }
   },
   "cell_type": "code",
   "source": [
    "x,y = load_breast_cancer().data, load_breast_cancer().target\n",
    "print(x.shape)\n",
    "#标准化\n",
    "from sklearn.preprocessing import StandardScaler\n",
    "x = StandardScaler().fit_transform(x)\n",
    "print(x)"
   ],
   "id": "e6addea8d725de08",
   "execution_count": 3,
   "outputs": []
  },
  {
   "metadata": {
    "ExecuteTime": {
     "end_time": "2024-05-14T03:21:00.569563Z",
     "start_time": "2024-05-14T03:21:00.101358Z"
    }
   },
   "cell_type": "code",
   "source": [
    "from sklearn.metrics import accuracy_score\n",
    "x_train,x_test,y_train,y_test = train_test_split(x,y,test_size=0.3,random_state=420)\n",
    "\n",
    "Kernel = ['linear','poly','rbf','sigmoid']\n",
    "for kernel in Kernel:\n",
    "    model = SVC(kernel = kernel,gamma='auto',degree=1)\n",
    "    model.fit(x_train,y_train)\n",
    "    pred = model.predict(x_test)\n",
    "    ac = accuracy_score(y_test,pred)\n",
    "    print('选择{}和函数时模型的准确率为{}'.format(kernel,ac))"
   ],
   "id": "7f539bbb4ea95d2a",
   "execution_count": 4,
   "outputs": []
  },
  {
   "metadata": {
    "ExecuteTime": {
     "end_time": "2024-05-14T03:21:06.464661Z",
     "start_time": "2024-05-14T03:21:00.572567Z"
    }
   },
   "cell_type": "code",
   "source": [
    "#网格\n",
    "from sklearn.model_selection import GridSearchCV\n",
    "#分层抽样\n",
    "from sklearn.model_selection import StratifiedShuffleSplit\n",
    "gamma_range = np.logspace(-10,0,20) # 10的-10次方到0次方，共20个\n",
    "coef0_range = np.linspace(0,5,10)\n",
    "param_grid = dict(gamma=gamma_range,coef0=coef0_range)\n",
    "\n",
    "cv = StratifiedShuffleSplit(n_splits=5,test_size=0.3,random_state=420)\n",
    "grid = GridSearchCV(SVC(kernel='poly',degree=1),param_grid=param_grid,cv=cv)\n",
    "grid.fit(x,y)\n",
    "print('最优参数值为:',grid.best_params_)\n",
    "print('选取该参数时,模型的预测准确率为:',grid.best_score_)"
   ],
   "id": "cde79dd5c7e48928",
   "execution_count": 5,
   "outputs": []
  },
  {
   "metadata": {
    "ExecuteTime": {
     "end_time": "2024-05-14T03:21:57.364163Z",
     "start_time": "2024-05-14T03:21:56.596402Z"
    }
   },
   "cell_type": "code",
   "source": [
    "import matplotlib.pyplot as plt\n",
    "score = []\n",
    "gamma_range = np.logspace(-10,0,50) # 10的-10次方到0次方，共20个\n",
    "for gamma in gamma_range:\n",
    "    model = SVC(kernel='rbf',gamma=gamma)\n",
    "    model.fit(x_train,y_train)\n",
    "    pred = model.predict(x_test)\n",
    "    ac = accuracy_score(y_test,pred)\n",
    "    score.append(ac)\n",
    "    \n",
    "plt.plot(figsize=(4,2))\n",
    "plt.plot(gamma_range,score)\n",
    "plt.xlabel('gamma')\n",
    "plt.ylabel('accuracy')\n",
    "plt.show()"
   ],
   "id": "9c9743031ea0f271",
   "execution_count": 9,
   "outputs": []
  },
  {
   "metadata": {
    "ExecuteTime": {
     "end_time": "2024-05-14T03:32:26.783992Z",
     "start_time": "2024-05-14T03:32:26.774035Z"
    }
   },
   "cell_type": "code",
   "source": [
    "print('最优参数值:',gamma_range[score.index(max(score))])\n",
    "print('参数取最优值时,模型预测准确率为:',max(score))"
   ],
   "id": "d57edf7228261c33",
   "execution_count": 11,
   "outputs": []
  },
  {
   "metadata": {
    "ExecuteTime": {
     "end_time": "2024-05-14T03:45:25.242641Z",
     "start_time": "2024-05-14T03:45:24.912826Z"
    }
   },
   "cell_type": "code",
   "source": [
    "score=[]\n",
    "C_range = np.linspace(0.01,30,50)\n",
    "for c in C_range:\n",
    "    model = SVC(kernel='linear',C=c)\n",
    "    model.fit(x_train,y_train)\n",
    "    pred = model.predict(x_test)\n",
    "    ac = accuracy_score(y_test,pred)\n",
    "    score.append(ac)\n",
    "\n",
    "plt.plot(figsize=(4,2))\n",
    "plt.plot(C_range,score)\n",
    "plt.xlabel('C')\n",
    "plt.ylabel('accuracy')\n",
    "plt.show()\n",
    "print('最优参数值:',C_range[score.index(max(score))])\n",
    "print('参数取最优值时,模型预测准确率为:',max(score))"
   ],
   "id": "8f75f4e8948354cf",
   "execution_count": 15,
   "outputs": []
  },
  {
   "metadata": {
    "ExecuteTime": {
     "end_time": "2024-05-14T03:45:49.932345Z",
     "start_time": "2024-05-14T03:45:49.597342Z"
    }
   },
   "cell_type": "code",
   "source": [
    "score=[]\n",
    "C_range = np.linspace(0.01,30,50)\n",
    "for c in C_range:\n",
    "    model = SVC(kernel='rbf',C=c,gamma=0.01267)\n",
    "    model.fit(x_train,y_train)\n",
    "    pred = model.predict(x_test)\n",
    "    ac = accuracy_score(y_test,pred)\n",
    "    score.append(ac)\n",
    "\n",
    "plt.plot(figsize=(4,2))\n",
    "plt.plot(C_range,score)\n",
    "plt.xlabel('C')\n",
    "plt.ylabel('accuracy')\n",
    "plt.show()\n",
    "print('最优参数值:',C_range[score.index(max(score))])\n",
    "print('参数取最优值时,模型预测准确率为:',max(score))"
   ],
   "id": "85d2b609b97549ba",
   "execution_count": 16,
   "outputs": []
  }
 ],
 "metadata": {
  "kernelspec": {
   "display_name": "Python 3",
   "language": "python",
   "name": "python3"
  },
  "language_info": {
   "codemirror_mode": {
    "name": "ipython",
    "version": 2
   },
   "file_extension": ".py",
   "mimetype": "text/x-python",
   "name": "python",
   "nbconvert_exporter": "python",
   "pygments_lexer": "ipython2",
   "version": "2.7.6"
  }
 },
 "nbformat": 4,
 "nbformat_minor": 5
}
