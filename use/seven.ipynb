{
 "cells": [
  {
   "cell_type": "code",
   "id": "initial_id",
   "metadata": {
    "collapsed": true,
    "ExecuteTime": {
     "end_time": "2024-04-19T03:44:09.304830Z",
     "start_time": "2024-04-19T03:44:09.214332Z"
    }
   },
   "source": [
    "import matplotlib.pyplot as plt\n",
    "import numpy as np\n",
    "x = np.arange(0.01,1,0.01)\n",
    "y = np.log(x)\n",
    "plt.title('y=log(x)')\n",
    "plt.xlabel('x')\n",
    "plt.ylabel('y')\n",
    "plt.plot(x,y)\n",
    "plt.show()"
   ],
   "outputs": [
    {
     "data": {
      "text/plain": [
       "<Figure size 640x480 with 1 Axes>"
      ],
      "image/png": "[encoded data removed]"
     },
     "metadata": {},
     "output_type": "display_data"
    }
   ],
   "execution_count": 24
  },
  {
   "metadata": {
    "ExecuteTime": {
     "end_time": "2024-04-19T03:44:11.795499Z",
     "start_time": "2024-04-19T03:44:09.306747Z"
    }
   },
   "cell_type": "code",
   "source": [
    "from data_process import get_MNIST_dataloader\n",
    "train_loader,test_loader = get_MNIST_dataloader()\n",
    "import paddle \n",
    "from paddle.nn import Conv2D,MaxPool2D,Linear\n",
    "from paddle.nn import Linear\n",
    "import paddle.nn.functional as F\n",
    "class MNIST(paddle.nn.Layer):\n",
    "    def __init__(self):\n",
    "        super(MNIST, self).__init__()\n",
    "        self.conv1 = Conv2D(in_channels=1,out_channels=20,kernel_size=5,stride=1,padding=2)\n",
    "        self.max_pool1 = MaxPool2D(kernel_size=2,stride=2)\n",
    "        self.conv2 = Conv2D(in_channels=20,out_channels=20,kernel_size=5,stride=1,padding=2)\n",
    "        self.max_pool2 = MaxPool2D(kernel_size=2,stride=2)\n",
    "        self.fc = Linear(in_features=980,out_features=10)\n",
    "    def forward(self,inputs):\n",
    "        x = self.conv1(inputs)\n",
    "        x = F.relu(x)\n",
    "        x = self.max_pool1(x)\n",
    "        x = self.conv2(x)\n",
    "        x = F.relu(x)\n",
    "        x = self.max_pool2(x)\n",
    "        x = paddle.reshape(x,[x.shape[0],-1])\n",
    "        x = self.fc(x)\n",
    "        return x"
   ],
   "id": "d49565d33e9c0a9f",
   "outputs": [],
   "execution_count": 25
  },
  {
   "metadata": {
    "ExecuteTime": {
     "end_time": "2024-04-19T03:44:11.811471Z",
     "start_time": "2024-04-19T03:44:11.796463Z"
    }
   },
   "cell_type": "code",
   "source": [
    "def evaluationmodel(model,datasets):\n",
    "    model.eval()\n",
    "    acc_set = list()\n",
    "    for batch_id,data in enumerate(datasets()):\n",
    "        images,labels = data\n",
    "        images = paddle.to_tensor(images)\n",
    "        labels = paddle.to_tensor(labels)\n",
    "        pred = model(images)\n",
    "        acc = paddle.metric.accuracy(input=pred,label = labels)\n",
    "        acc_set.append(acc.numpy())\n",
    "    acc_val_mean = np.array(acc_set).mean()\n",
    "    return acc_val_mean"
   ],
   "id": "9f1c9cd96fb868b5",
   "outputs": [],
   "execution_count": 26
  },
  {
   "metadata": {
    "ExecuteTime": {
     "end_time": "2024-04-19T03:46:35.030137Z",
     "start_time": "2024-04-19T03:45:51.390393Z"
    }
   },
   "cell_type": "code",
   "source": [
    "def train(model):\n",
    "    model.train()\n",
    "    \n",
    "    opt = paddle.optimizer.SGD(learning_rate=0.001,parameters=model.parameters())\n",
    "    EPOCH_NUM = 10\n",
    "    for epoch_id in range(EPOCH_NUM):\n",
    "        for batch_id,data in enumerate(train_loader()):\n",
    "            images, labels = data\n",
    "            images = paddle.to_tensor(images)\n",
    "            labels = paddle.to_tensor(labels)\n",
    "        \n",
    "            predicts = model(images)\n",
    "        \n",
    "            loss = F.cross_entropy(predicts,labels)\n",
    "            avg_loss = paddle.mean(loss)\n",
    "        \n",
    "            if batch_id % 200 == 0:\n",
    "                print('epoch:{},batch{},loss is:{}'.format(epoch_id,batch_id,avg_loss.numpy()))\n",
    "        \n",
    "            avg_loss.backward()\n",
    "            opt.step()\n",
    "            opt.clear_grad\n",
    "    paddle.save(model.state_dict(),'mnist.pdparams')\n",
    "    \n",
    "model = MNIST()\n",
    "train(model)"
   ],
   "id": "f4582d608faf31cc",
   "outputs": [
    {
     "name": "stdout",
     "output_type": "stream",
     "text": [
      "epoch:0,batch0,loss is:3.1563191413879395\n",
      "epoch:0,batch200,loss is:0.7149626016616821\n",
      "epoch:0,batch400,loss is:0.5966610312461853\n",
      "epoch:0,batch600,loss is:0.2499847710132599\n",
      "epoch:0,batch800,loss is:0.568389892578125\n",
      "epoch:1,batch0,loss is:0.5967354774475098\n",
      "epoch:1,batch200,loss is:0.47299566864967346\n",
      "epoch:1,batch400,loss is:0.5864943265914917\n",
      "epoch:1,batch600,loss is:0.950324296951294\n",
      "epoch:1,batch800,loss is:1.1876978874206543\n",
      "epoch:2,batch0,loss is:0.9679669737815857\n",
      "epoch:2,batch200,loss is:0.8572607040405273\n",
      "epoch:2,batch400,loss is:1.503542423248291\n",
      "epoch:2,batch600,loss is:1.720808982849121\n",
      "epoch:2,batch800,loss is:2.9371471405029297\n",
      "epoch:3,batch0,loss is:2.295473098754883\n",
      "epoch:3,batch200,loss is:2.4809775352478027\n",
      "epoch:3,batch400,loss is:2.555938720703125\n",
      "epoch:3,batch600,loss is:2.688802719116211\n",
      "epoch:3,batch800,loss is:2.5904128551483154\n",
      "epoch:4,batch0,loss is:2.5955917835235596\n",
      "epoch:4,batch200,loss is:2.505211353302002\n",
      "epoch:4,batch400,loss is:2.4539709091186523\n",
      "epoch:4,batch600,loss is:2.4932146072387695\n",
      "epoch:4,batch800,loss is:2.4062323570251465\n",
      "epoch:5,batch0,loss is:2.595789670944214\n",
      "epoch:5,batch200,loss is:2.4336209297180176\n",
      "epoch:5,batch400,loss is:2.7179689407348633\n",
      "epoch:5,batch600,loss is:2.62919282913208\n",
      "epoch:5,batch800,loss is:2.673210859298706\n",
      "epoch:6,batch0,loss is:2.457111120223999\n",
      "epoch:6,batch200,loss is:2.469151020050049\n",
      "epoch:6,batch400,loss is:2.395979642868042\n",
      "epoch:6,batch600,loss is:2.7267701625823975\n",
      "epoch:6,batch800,loss is:2.34714674949646\n",
      "epoch:7,batch0,loss is:2.668037176132202\n",
      "epoch:7,batch200,loss is:2.4249343872070312\n",
      "epoch:7,batch400,loss is:2.5036849975585938\n",
      "epoch:7,batch600,loss is:2.444403886795044\n",
      "epoch:7,batch800,loss is:2.626817226409912\n",
      "epoch:8,batch0,loss is:2.401089906692505\n",
      "epoch:8,batch200,loss is:2.7554004192352295\n",
      "epoch:8,batch400,loss is:2.428682327270508\n",
      "epoch:8,batch600,loss is:2.5260653495788574\n",
      "epoch:8,batch800,loss is:2.4538259506225586\n",
      "epoch:9,batch0,loss is:2.775855541229248\n",
      "epoch:9,batch200,loss is:2.3437607288360596\n",
      "epoch:9,batch400,loss is:2.5652995109558105\n",
      "epoch:9,batch600,loss is:2.5211193561553955\n",
      "epoch:9,batch800,loss is:2.5725765228271484\n"
     ]
    }
   ],
   "execution_count": 29
  },
  {
   "metadata": {
    "ExecuteTime": {
     "end_time": "2024-04-19T03:58:18.511213Z",
     "start_time": "2024-04-19T03:58:18.434219Z"
    }
   },
   "cell_type": "code",
   "source": [
    "import numpy as np  \n",
    "import paddle  \n",
    "from PIL import Image  \n",
    "from PIL.Image import Resampling  \n",
    "  \n",
    "def load_image(img_path):  \n",
    " \n",
    "    im = Image.open(img_path).convert('L')  \n",
    "  \n",
    "    im = im.resize((28, 28), Resampling.LANCZOS)  \n",
    "    im = np.array(im).reshape(1, -1).astype(np.float32)  \n",
    "  \n",
    "\n",
    "    im = 1 - im / 255  \n",
    "  \n",
    "    return im  \n",
    "  \n",
    "\n",
    "model = MNIST()  \n",
    "params_file_path = 'mnist.pdparams'  \n",
    "img_path = '../work/example_0.jpg'  \n",
    "  \n",
    "\n",
    "param_dict = paddle.load(params_file_path)  \n",
    "model.load_dict(param_dict)  \n",
    "  \n",
    "\n",
    "model.eval()  \n",
    "  \n",
    "\n",
    "tensor_img = load_image(img_path)  \n",
    "result = model(paddle.to_tensor(tensor_img))  \n",
    "  \n",
    "print('Predicted result:', result.numpy())  \n",
    " \n",
    "predicted_digit = np.argmax(result.numpy(), axis=1)  \n",
    "print(\"本次预测的数字是\", predicted_digit)"
   ],
   "id": "6a8a8710ab687ba5",
   "outputs": [
    {
     "ename": "ValueError",
     "evalue": "(InvalidArgument) The input of Op(Conv) should be a 4-D or 5-D Tensor. But received: input's dimension is 2, input's shape is [1, 784].\n  [Hint: Expected in_dims.size() == 4 || in_dims.size() == 5 == true, but received in_dims.size() == 4 || in_dims.size() == 5:0 != true:1.] (at ..\\paddle\\phi\\infermeta\\binary.cc:504)\n",
     "output_type": "error",
     "traceback": [
      "\u001B[1;31m---------------------------------------------------------------------------\u001B[0m",
      "\u001B[1;31mValueError\u001B[0m                                Traceback (most recent call last)",
      "Cell \u001B[1;32mIn[39], line 35\u001B[0m\n\u001B[0;32m     33\u001B[0m \u001B[38;5;66;03m# 灌入数据  \u001B[39;00m\n\u001B[0;32m     34\u001B[0m tensor_img \u001B[38;5;241m=\u001B[39m load_image(img_path)  \n\u001B[1;32m---> 35\u001B[0m result \u001B[38;5;241m=\u001B[39m \u001B[43mmodel\u001B[49m\u001B[43m(\u001B[49m\u001B[43mpaddle\u001B[49m\u001B[38;5;241;43m.\u001B[39;49m\u001B[43mto_tensor\u001B[49m\u001B[43m(\u001B[49m\u001B[43mtensor_img\u001B[49m\u001B[43m)\u001B[49m\u001B[43m)\u001B[49m  \n\u001B[0;32m     37\u001B[0m \u001B[38;5;28mprint\u001B[39m(\u001B[38;5;124m'\u001B[39m\u001B[38;5;124mPredicted result:\u001B[39m\u001B[38;5;124m'\u001B[39m, result\u001B[38;5;241m.\u001B[39mnumpy())  \n\u001B[0;32m     39\u001B[0m \u001B[38;5;66;03m# 预测输出通常不需要取整，因为模型可能输出的是概率分布。  \u001B[39;00m\n\u001B[0;32m     40\u001B[0m \u001B[38;5;66;03m# 如果需要得到具体的数字，可以通过找到概率最高的索引来实现。  \u001B[39;00m\n",
      "File \u001B[1;32mD:\\conda\\envs\\pytorch\\lib\\site-packages\\paddle\\nn\\layer\\layers.py:1429\u001B[0m, in \u001B[0;36mLayer.__call__\u001B[1;34m(self, *inputs, **kwargs)\u001B[0m\n\u001B[0;32m   1420\u001B[0m \u001B[38;5;28;01mif\u001B[39;00m (\n\u001B[0;32m   1421\u001B[0m     (\u001B[38;5;129;01mnot\u001B[39;00m in_to_static_mode())\n\u001B[0;32m   1422\u001B[0m     \u001B[38;5;129;01mand\u001B[39;00m (\u001B[38;5;129;01mnot\u001B[39;00m \u001B[38;5;28mself\u001B[39m\u001B[38;5;241m.\u001B[39m_forward_pre_hooks)\n\u001B[1;32m   (...)\u001B[0m\n\u001B[0;32m   1426\u001B[0m     \u001B[38;5;129;01mand\u001B[39;00m (\u001B[38;5;129;01mnot\u001B[39;00m in_profiler_mode())\n\u001B[0;32m   1427\u001B[0m ):\n\u001B[0;32m   1428\u001B[0m     \u001B[38;5;28mself\u001B[39m\u001B[38;5;241m.\u001B[39m_build_once(\u001B[38;5;241m*\u001B[39minputs, \u001B[38;5;241m*\u001B[39m\u001B[38;5;241m*\u001B[39mkwargs)\n\u001B[1;32m-> 1429\u001B[0m     \u001B[38;5;28;01mreturn\u001B[39;00m \u001B[38;5;28mself\u001B[39m\u001B[38;5;241m.\u001B[39mforward(\u001B[38;5;241m*\u001B[39minputs, \u001B[38;5;241m*\u001B[39m\u001B[38;5;241m*\u001B[39mkwargs)\n\u001B[0;32m   1430\u001B[0m \u001B[38;5;28;01melse\u001B[39;00m:\n\u001B[0;32m   1431\u001B[0m     \u001B[38;5;28;01mreturn\u001B[39;00m \u001B[38;5;28mself\u001B[39m\u001B[38;5;241m.\u001B[39m_dygraph_call_func(\u001B[38;5;241m*\u001B[39minputs, \u001B[38;5;241m*\u001B[39m\u001B[38;5;241m*\u001B[39mkwargs)\n",
      "Cell \u001B[1;32mIn[25], line 16\u001B[0m, in \u001B[0;36mMNIST.forward\u001B[1;34m(self, inputs)\u001B[0m\n\u001B[0;32m     15\u001B[0m \u001B[38;5;28;01mdef\u001B[39;00m \u001B[38;5;21mforward\u001B[39m(\u001B[38;5;28mself\u001B[39m,inputs):\n\u001B[1;32m---> 16\u001B[0m     x \u001B[38;5;241m=\u001B[39m \u001B[38;5;28;43mself\u001B[39;49m\u001B[38;5;241;43m.\u001B[39;49m\u001B[43mconv1\u001B[49m\u001B[43m(\u001B[49m\u001B[43minputs\u001B[49m\u001B[43m)\u001B[49m\n\u001B[0;32m     17\u001B[0m     x \u001B[38;5;241m=\u001B[39m F\u001B[38;5;241m.\u001B[39mrelu(x)\n\u001B[0;32m     18\u001B[0m     x \u001B[38;5;241m=\u001B[39m \u001B[38;5;28mself\u001B[39m\u001B[38;5;241m.\u001B[39mmax_pool1(x)\n",
      "File \u001B[1;32mD:\\conda\\envs\\pytorch\\lib\\site-packages\\paddle\\nn\\layer\\layers.py:1429\u001B[0m, in \u001B[0;36mLayer.__call__\u001B[1;34m(self, *inputs, **kwargs)\u001B[0m\n\u001B[0;32m   1420\u001B[0m \u001B[38;5;28;01mif\u001B[39;00m (\n\u001B[0;32m   1421\u001B[0m     (\u001B[38;5;129;01mnot\u001B[39;00m in_to_static_mode())\n\u001B[0;32m   1422\u001B[0m     \u001B[38;5;129;01mand\u001B[39;00m (\u001B[38;5;129;01mnot\u001B[39;00m \u001B[38;5;28mself\u001B[39m\u001B[38;5;241m.\u001B[39m_forward_pre_hooks)\n\u001B[1;32m   (...)\u001B[0m\n\u001B[0;32m   1426\u001B[0m     \u001B[38;5;129;01mand\u001B[39;00m (\u001B[38;5;129;01mnot\u001B[39;00m in_profiler_mode())\n\u001B[0;32m   1427\u001B[0m ):\n\u001B[0;32m   1428\u001B[0m     \u001B[38;5;28mself\u001B[39m\u001B[38;5;241m.\u001B[39m_build_once(\u001B[38;5;241m*\u001B[39minputs, \u001B[38;5;241m*\u001B[39m\u001B[38;5;241m*\u001B[39mkwargs)\n\u001B[1;32m-> 1429\u001B[0m     \u001B[38;5;28;01mreturn\u001B[39;00m \u001B[38;5;28mself\u001B[39m\u001B[38;5;241m.\u001B[39mforward(\u001B[38;5;241m*\u001B[39minputs, \u001B[38;5;241m*\u001B[39m\u001B[38;5;241m*\u001B[39mkwargs)\n\u001B[0;32m   1430\u001B[0m \u001B[38;5;28;01melse\u001B[39;00m:\n\u001B[0;32m   1431\u001B[0m     \u001B[38;5;28;01mreturn\u001B[39;00m \u001B[38;5;28mself\u001B[39m\u001B[38;5;241m.\u001B[39m_dygraph_call_func(\u001B[38;5;241m*\u001B[39minputs, \u001B[38;5;241m*\u001B[39m\u001B[38;5;241m*\u001B[39mkwargs)\n",
      "File \u001B[1;32mD:\\conda\\envs\\pytorch\\lib\\site-packages\\paddle\\nn\\layer\\conv.py:715\u001B[0m, in \u001B[0;36mConv2D.forward\u001B[1;34m(self, x)\u001B[0m\n\u001B[0;32m    707\u001B[0m \u001B[38;5;28;01mif\u001B[39;00m \u001B[38;5;28mself\u001B[39m\u001B[38;5;241m.\u001B[39m_padding_mode \u001B[38;5;241m!=\u001B[39m \u001B[38;5;124m'\u001B[39m\u001B[38;5;124mzeros\u001B[39m\u001B[38;5;124m'\u001B[39m:\n\u001B[0;32m    708\u001B[0m     x \u001B[38;5;241m=\u001B[39m F\u001B[38;5;241m.\u001B[39mpad(\n\u001B[0;32m    709\u001B[0m         x,\n\u001B[0;32m    710\u001B[0m         \u001B[38;5;28mself\u001B[39m\u001B[38;5;241m.\u001B[39m_reversed_padding_repeated_twice,\n\u001B[0;32m    711\u001B[0m         mode\u001B[38;5;241m=\u001B[39m\u001B[38;5;28mself\u001B[39m\u001B[38;5;241m.\u001B[39m_padding_mode,\n\u001B[0;32m    712\u001B[0m         data_format\u001B[38;5;241m=\u001B[39m\u001B[38;5;28mself\u001B[39m\u001B[38;5;241m.\u001B[39m_data_format,\n\u001B[0;32m    713\u001B[0m     )\n\u001B[1;32m--> 715\u001B[0m out \u001B[38;5;241m=\u001B[39m \u001B[43mF\u001B[49m\u001B[38;5;241;43m.\u001B[39;49m\u001B[43mconv\u001B[49m\u001B[38;5;241;43m.\u001B[39;49m\u001B[43m_conv_nd\u001B[49m\u001B[43m(\u001B[49m\n\u001B[0;32m    716\u001B[0m \u001B[43m    \u001B[49m\u001B[43mx\u001B[49m\u001B[43m,\u001B[49m\n\u001B[0;32m    717\u001B[0m \u001B[43m    \u001B[49m\u001B[38;5;28;43mself\u001B[39;49m\u001B[38;5;241;43m.\u001B[39;49m\u001B[43mweight\u001B[49m\u001B[43m,\u001B[49m\n\u001B[0;32m    718\u001B[0m \u001B[43m    \u001B[49m\u001B[43mbias\u001B[49m\u001B[38;5;241;43m=\u001B[39;49m\u001B[38;5;28;43mself\u001B[39;49m\u001B[38;5;241;43m.\u001B[39;49m\u001B[43mbias\u001B[49m\u001B[43m,\u001B[49m\n\u001B[0;32m    719\u001B[0m \u001B[43m    \u001B[49m\u001B[43mstride\u001B[49m\u001B[38;5;241;43m=\u001B[39;49m\u001B[38;5;28;43mself\u001B[39;49m\u001B[38;5;241;43m.\u001B[39;49m\u001B[43m_stride\u001B[49m\u001B[43m,\u001B[49m\n\u001B[0;32m    720\u001B[0m \u001B[43m    \u001B[49m\u001B[43mpadding\u001B[49m\u001B[38;5;241;43m=\u001B[39;49m\u001B[38;5;28;43mself\u001B[39;49m\u001B[38;5;241;43m.\u001B[39;49m\u001B[43m_updated_padding\u001B[49m\u001B[43m,\u001B[49m\n\u001B[0;32m    721\u001B[0m \u001B[43m    \u001B[49m\u001B[43mpadding_algorithm\u001B[49m\u001B[38;5;241;43m=\u001B[39;49m\u001B[38;5;28;43mself\u001B[39;49m\u001B[38;5;241;43m.\u001B[39;49m\u001B[43m_padding_algorithm\u001B[49m\u001B[43m,\u001B[49m\n\u001B[0;32m    722\u001B[0m \u001B[43m    \u001B[49m\u001B[43mdilation\u001B[49m\u001B[38;5;241;43m=\u001B[39;49m\u001B[38;5;28;43mself\u001B[39;49m\u001B[38;5;241;43m.\u001B[39;49m\u001B[43m_dilation\u001B[49m\u001B[43m,\u001B[49m\n\u001B[0;32m    723\u001B[0m \u001B[43m    \u001B[49m\u001B[43mgroups\u001B[49m\u001B[38;5;241;43m=\u001B[39;49m\u001B[38;5;28;43mself\u001B[39;49m\u001B[38;5;241;43m.\u001B[39;49m\u001B[43m_groups\u001B[49m\u001B[43m,\u001B[49m\n\u001B[0;32m    724\u001B[0m \u001B[43m    \u001B[49m\u001B[43mdata_format\u001B[49m\u001B[38;5;241;43m=\u001B[39;49m\u001B[38;5;28;43mself\u001B[39;49m\u001B[38;5;241;43m.\u001B[39;49m\u001B[43m_data_format\u001B[49m\u001B[43m,\u001B[49m\n\u001B[0;32m    725\u001B[0m \u001B[43m    \u001B[49m\u001B[43mchannel_dim\u001B[49m\u001B[38;5;241;43m=\u001B[39;49m\u001B[38;5;28;43mself\u001B[39;49m\u001B[38;5;241;43m.\u001B[39;49m\u001B[43m_channel_dim\u001B[49m\u001B[43m,\u001B[49m\n\u001B[0;32m    726\u001B[0m \u001B[43m    \u001B[49m\u001B[43mop_type\u001B[49m\u001B[38;5;241;43m=\u001B[39;49m\u001B[38;5;28;43mself\u001B[39;49m\u001B[38;5;241;43m.\u001B[39;49m\u001B[43m_op_type\u001B[49m\u001B[43m,\u001B[49m\n\u001B[0;32m    727\u001B[0m \u001B[43m    \u001B[49m\u001B[43muse_cudnn\u001B[49m\u001B[38;5;241;43m=\u001B[39;49m\u001B[38;5;28;43mself\u001B[39;49m\u001B[38;5;241;43m.\u001B[39;49m\u001B[43m_use_cudnn\u001B[49m\u001B[43m,\u001B[49m\n\u001B[0;32m    728\u001B[0m \u001B[43m\u001B[49m\u001B[43m)\u001B[49m\n\u001B[0;32m    729\u001B[0m \u001B[38;5;28;01mreturn\u001B[39;00m out\n",
      "File \u001B[1;32mD:\\conda\\envs\\pytorch\\lib\\site-packages\\paddle\\nn\\functional\\conv.py:128\u001B[0m, in \u001B[0;36m_conv_nd\u001B[1;34m(x, weight, bias, stride, padding, padding_algorithm, dilation, groups, data_format, channel_dim, op_type, use_cudnn, use_mkldnn, name)\u001B[0m\n\u001B[0;32m    110\u001B[0m \u001B[38;5;28;01mdef\u001B[39;00m \u001B[38;5;21m_conv_nd\u001B[39m(\n\u001B[0;32m    111\u001B[0m     x,\n\u001B[0;32m    112\u001B[0m     weight,\n\u001B[1;32m   (...)\u001B[0m\n\u001B[0;32m    125\u001B[0m ):\n\u001B[0;32m    126\u001B[0m     \u001B[38;5;66;03m# Due to the poor performance of NHWC, we transpose the input to NCHW.\u001B[39;00m\n\u001B[0;32m    127\u001B[0m     \u001B[38;5;28;01mif\u001B[39;00m in_dynamic_or_pir_mode() \u001B[38;5;129;01mand\u001B[39;00m op_type \u001B[38;5;241m==\u001B[39m \u001B[38;5;124m\"\u001B[39m\u001B[38;5;124mconv2d\u001B[39m\u001B[38;5;124m\"\u001B[39m:\n\u001B[1;32m--> 128\u001B[0m         pre_bias \u001B[38;5;241m=\u001B[39m \u001B[43m_C_ops\u001B[49m\u001B[38;5;241;43m.\u001B[39;49m\u001B[43mconv2d\u001B[49m\u001B[43m(\u001B[49m\n\u001B[0;32m    129\u001B[0m \u001B[43m            \u001B[49m\u001B[43mx\u001B[49m\u001B[43m,\u001B[49m\n\u001B[0;32m    130\u001B[0m \u001B[43m            \u001B[49m\u001B[43mweight\u001B[49m\u001B[43m,\u001B[49m\n\u001B[0;32m    131\u001B[0m \u001B[43m            \u001B[49m\u001B[43mstride\u001B[49m\u001B[43m,\u001B[49m\n\u001B[0;32m    132\u001B[0m \u001B[43m            \u001B[49m\u001B[43mpadding\u001B[49m\u001B[43m,\u001B[49m\n\u001B[0;32m    133\u001B[0m \u001B[43m            \u001B[49m\u001B[43mpadding_algorithm\u001B[49m\u001B[43m,\u001B[49m\n\u001B[0;32m    134\u001B[0m \u001B[43m            \u001B[49m\u001B[43mdilation\u001B[49m\u001B[43m,\u001B[49m\n\u001B[0;32m    135\u001B[0m \u001B[43m            \u001B[49m\u001B[43mgroups\u001B[49m\u001B[43m,\u001B[49m\n\u001B[0;32m    136\u001B[0m \u001B[43m            \u001B[49m\u001B[43mdata_format\u001B[49m\u001B[43m,\u001B[49m\n\u001B[0;32m    137\u001B[0m \u001B[43m        \u001B[49m\u001B[43m)\u001B[49m\n\u001B[0;32m    138\u001B[0m         \u001B[38;5;28;01mif\u001B[39;00m bias \u001B[38;5;129;01mis\u001B[39;00m \u001B[38;5;129;01mnot\u001B[39;00m \u001B[38;5;28;01mNone\u001B[39;00m:\n\u001B[0;32m    139\u001B[0m             new_shape \u001B[38;5;241m=\u001B[39m [\u001B[38;5;241m1\u001B[39m] \u001B[38;5;241m*\u001B[39m \u001B[38;5;28mlen\u001B[39m(x\u001B[38;5;241m.\u001B[39mshape)\n",
      "\u001B[1;31mValueError\u001B[0m: (InvalidArgument) The input of Op(Conv) should be a 4-D or 5-D Tensor. But received: input's dimension is 2, input's shape is [1, 784].\n  [Hint: Expected in_dims.size() == 4 || in_dims.size() == 5 == true, but received in_dims.size() == 4 || in_dims.size() == 5:0 != true:1.] (at ..\\paddle\\phi\\infermeta\\binary.cc:504)\n"
     ]
    }
   ],
   "execution_count": 39
  }
 ],
 "metadata": {
  "kernelspec": {
   "display_name": "Python 3",
   "language": "python",
   "name": "python3"
  },
  "language_info": {
   "codemirror_mode": {
    "name": "ipython",
    "version": 2
   },
   "file_extension": ".py",
   "mimetype": "text/x-python",
   "name": "python",
   "nbconvert_exporter": "python",
   "pygments_lexer": "ipython2",
   "version": "2.7.6"
  }
 },
 "nbformat": 4,
 "nbformat_minor": 5
}
