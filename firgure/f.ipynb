{
 "cells": [
  {
   "cell_type": "code",
   "id": "initial_id",
   "metadata": {
    "collapsed": true,
    "ExecuteTime": {
     "end_time": "2024-05-10T02:56:41.155095Z",
     "start_time": "2024-05-10T02:56:38.600889Z"
    }
   },
   "source": [
    "from data_process import get_MNIST_dataloader\n",
    "train_loader,test_loader =get_MNIST_dataloader()"
   ],
   "execution_count": 4,
   "outputs": []
  },
  {
   "metadata": {
    "ExecuteTime": {
     "end_time": "2024-05-09T03:45:43.717462Z",
     "start_time": "2024-05-09T03:45:43.150467Z"
    }
   },
   "cell_type": "code",
   "source": [
    "import numpy as np\n",
    "import matplotlib.pyplot as plt\n",
    "\n",
    "def sigmoid(x):\n",
    "    return 1./(1+np.exp(-x))\n",
    "\n",
    "x = np.arange(-6,6,0.2)\n",
    "y = sigmoid(x)\n",
    "plt.plot(x,y)"
   ],
   "id": "a4d3f1b74876320b",
   "execution_count": 2,
   "outputs": []
  },
  {
   "metadata": {
    "ExecuteTime": {
     "end_time": "2024-05-10T02:56:57.299415Z",
     "start_time": "2024-05-10T02:56:57.281414Z"
    }
   },
   "cell_type": "code",
   "source": [
    "import paddle\n",
    "import paddle.nn.functional as F\n",
    "from paddle.nn import Linear\n",
    "\n",
    "class MNIST(paddle.nn.Layer):\n",
    "    def __init__(self):\n",
    "        super(MNIST, self).__init__()\n",
    "        self.fc1 = Linear(in_features=784, out_features=10)\n",
    "        self.fc2 = Linear(in_features=10, out_features=10)  \n",
    "        self.fc3 = Linear(in_features=10, out_features=1)\n",
    "        \n",
    "    def forward(self,inputs):\n",
    "        inputs = paddle.reshape(inputs,[inputs.shape[0],784])\n",
    "        output1 = self.fc1(inputs)\n",
    "        output1 = F.sigmoid(output1)\n",
    "        outputs2 = self.fc2(output1)\n",
    "        outputs2 = F.sigmoid(outputs2)\n",
    "        outputs_final = self.fc3(outputs2)\n",
    "        return outputs_final\n",
    "        "
   ],
   "id": "a29990c8aea7a9ef",
   "execution_count": 7,
   "outputs": []
  },
  {
   "metadata": {
    "ExecuteTime": {
     "end_time": "2024-05-10T02:57:02.356243Z",
     "start_time": "2024-05-10T02:56:59.305064Z"
    }
   },
   "cell_type": "code",
   "source": [
    "model = MNIST()\n",
    "parmams_info = paddle.summary(model,(1,1,28,28))\n",
    "print(parmams_info)"
   ],
   "id": "3aa80e519fc96be8",
   "execution_count": 8,
   "outputs": []
  },
  {
   "metadata": {
    "ExecuteTime": {
     "end_time": "2024-05-10T03:05:04.999419Z",
     "start_time": "2024-05-10T03:05:01.885670Z"
    }
   },
   "cell_type": "code",
   "source": [
    "def train(model):  \n",
    "    model.train()  \n",
    "  \n",
    "    opt = paddle.optimizer.SGD(learning_rate=0.01, parameters=model.parameters())  \n",
    "  \n",
    "    EPOCH_NUM = 10\n",
    "    loss_list = []  \n",
    "      \n",
    "    for epoch_id in range(EPOCH_NUM):  \n",
    "        for batch_id, data in enumerate(train_loader()):  \n",
    "            images, labels = data  \n",
    "            images = paddle.to_tensor(images)  \n",
    "            labels = paddle.to_tensor(labels, dtype='float32')  \n",
    "              \n",
    "            predicts = model(images)  \n",
    "              \n",
    "            loss = F.square_error_cost(predicts, labels)  \n",
    "            avg_loss = paddle.mean(loss)  \n",
    "              \n",
    "            if batch_id % 100 == 0:  \n",
    "                loss_value = avg_loss.numpy()  \n",
    "                loss_list.append(loss_value)  \n",
    "                print(\"epoch: {}, batch_id: {}, loss is: {}\".format(epoch_id, batch_id, loss_value))  \n",
    "              \n",
    "            avg_loss.backward()  \n",
    "            opt.step()  \n",
    "            opt.clear_grad()  \n",
    "                  \n",
    "    paddle.save(model.state_dict(), 'mnist.pdparams')  \n",
    "    return loss_list\n",
    "model = MNIST()\n",
    "loss_list = train(model)\n"
   ],
   "id": "536aa8bef4067737",
   "execution_count": 10,
   "outputs": []
  },
  {
   "metadata": {},
   "cell_type": "code",
   "source": "plt.plot(loss_list)",
   "id": "7edec21074caceba",
   "execution_count": null,
   "outputs": []
  },
  {
   "metadata": {},
   "cell_type": "markdown",
   "source": "# 卷积",
   "id": "ea885d75580149f4"
  },
  {
   "metadata": {},
   "cell_type": "code",
   "source": [
    "import paddle \n",
    "from paddle.nn import Conv2D,MaxPool2D,Linear\n",
    "from paddle.nn import Linear\n",
    "import paddle.nn.functional as F\n",
    "class MNIST(paddle.nn.Layer):\n",
    "    def __init__(self):\n",
    "        super(MNIST, self).__init__()\n",
    "        self.conv1 = Conv2D(in_channels=1,out_channels=20,kernel_size=5,stride=1,padding=2)\n",
    "        self.max_pool1 = MaxPool2D(kernel_size=2,stride=2)\n",
    "        self.conv2 = Conv2D(in_channels=20,out_channels=20,kernel_size=5,stride=1,padding=2)\n",
    "        self.max_pool2 = MaxPool2D(kernel_size=2,stride=2)\n",
    "        self.fc = Linear(in_features=980,out_features=1)\n",
    "    def forward(self,inputs):\n",
    "        x = self.conv1(inputs)\n",
    "        x = F.relu(x)\n",
    "        x = self.max_pool1(x)\n",
    "        x = self.conv2(x)\n",
    "        x = F.relu(x)\n",
    "        x = self.max_pool2(x)\n",
    "        x = paddle.reshape(x,[x.shape[0],-1])\n",
    "        x = self.fc(x)\n",
    "        return x"
   ],
   "id": "dd031f2d03791396",
   "execution_count": null,
   "outputs": []
  },
  {
   "metadata": {},
   "cell_type": "code",
   "source": [
    "import  torch \n",
    "print(torch.cuda.get_device_name(0))\n",
    "\n"
   ],
   "id": "ef5fb04f7a806a2a",
   "execution_count": null,
   "outputs": []
  },
  {
   "metadata": {},
   "cell_type": "code",
   "source": [
    "import torch\n",
    "torch.cuda.is_available()\n"
   ],
   "id": "5aeb95face56b616",
   "execution_count": null,
   "outputs": []
  },
  {
   "metadata": {},
   "cell_type": "code",
   "source": "\n",
   "id": "e8ff96e3a3e02f57",
   "execution_count": null,
   "outputs": []
  }
 ],
 "metadata": {
  "kernelspec": {
   "display_name": "Python 3",
   "language": "python",
   "name": "python3"
  },
  "language_info": {
   "codemirror_mode": {
    "name": "ipython",
    "version": 2
   },
   "file_extension": ".py",
   "mimetype": "text/x-python",
   "name": "python",
   "nbconvert_exporter": "python",
   "pygments_lexer": "ipython2",
   "version": "2.7.6"
  }
 },
 "nbformat": 4,
 "nbformat_minor": 5
}
