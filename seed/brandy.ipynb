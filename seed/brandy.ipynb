{
 "cells": [
  {
   "metadata": {},
   "cell_type": "markdown",
   "source": "# 实现k近邻算法进行分类与回归",
   "id": "f441165510b6d74e"
  },
  {
   "metadata": {
    "ExecuteTime": {
     "end_time": "2024-06-05T02:30:28.449294Z",
     "start_time": "2024-06-05T02:30:28.282449Z"
    }
   },
   "cell_type": "code",
   "source": [
    "import pandas as pd\n",
    "names =['label','a1','a2','a3','a4','a5','a6','a7','a8','a9','a10','a11','a12','a13']\n",
    "dataset = pd.read_csv('D:\\s\\wine.data',names=names)\n",
    "print(dataset)"
   ],
   "id": "ee6cc9c31697e306",
   "execution_count": 2,
   "outputs": []
  },
  {
   "metadata": {
    "ExecuteTime": {
     "end_time": "2024-04-09T03:34:43.125473Z",
     "start_time": "2024-04-09T03:34:43.101475Z"
    }
   },
   "cell_type": "code",
   "source": [
    "data = dataset.iloc[:, range(1,14)]\n",
    "target = dataset.iloc[:,0]\n",
    "data "
   ],
   "id": "914d88cbf1a93c8a",
   "execution_count": 83,
   "outputs": []
  },
  {
   "metadata": {
    "ExecuteTime": {
     "end_time": "2024-04-09T03:34:43.858433Z",
     "start_time": "2024-04-09T03:34:43.169717Z"
    }
   },
   "cell_type": "code",
   "source": [
    "import matplotlib.pyplot as plt\n",
    "data.plot(kind='box',subplots=True, layout=(3,5),sharex=False,sharey=False)\n",
    "plt.show()"
   ],
   "id": "a5e089243b4d1d95",
   "execution_count": 84,
   "outputs": []
  },
  {
   "metadata": {
    "ExecuteTime": {
     "end_time": "2024-04-09T03:34:44.093123Z",
     "start_time": "2024-04-09T03:34:43.861427Z"
    }
   },
   "cell_type": "code",
   "source": [
    "p = data.boxplot(return_type='dict')\n",
    "for i in range(13):\n",
    "    y = p['fliers'][i].get_ydata()\n",
    "    print('a',i+1,'中异常值为',y)"
   ],
   "id": "caf2cf013bad5ecb",
   "execution_count": 85,
   "outputs": []
  },
  {
   "metadata": {
    "ExecuteTime": {
     "end_time": "2024-04-09T03:34:44.109072Z",
     "start_time": "2024-04-09T03:34:44.096141Z"
    }
   },
   "cell_type": "code",
   "source": [
    "from sklearn import preprocessing\n",
    "names =['label','a1','a2','a3','a4','a5','a6','a7','a8','a9','a10','a11','a12','a13']\n",
    "dataset = pd.read_csv('D:\\s\\wine-clean.data',names=names)\n",
    "print(dataset)"
   ],
   "id": "acf2e85529bafcc8",
   "execution_count": 86,
   "outputs": []
  },
  {
   "metadata": {
    "ExecuteTime": {
     "end_time": "2024-04-09T03:34:44.124068Z",
     "start_time": "2024-04-09T03:34:44.111059Z"
    }
   },
   "cell_type": "code",
   "source": [
    "data = dataset.iloc[:,range(1,14)]\n",
    "target = dataset.iloc[:,0].values.reshape(1,178)[0]\n",
    "print(type(target),target)"
   ],
   "id": "7c65b5d0ff6d3436",
   "execution_count": 87,
   "outputs": []
  },
  {
   "metadata": {
    "ExecuteTime": {
     "end_time": "2024-04-09T03:34:44.140065Z",
     "start_time": "2024-04-09T03:34:44.126067Z"
    }
   },
   "cell_type": "code",
   "source": [
    "cdata = preprocessing.StandardScaler().fit_transform(data)\n",
    "cdata"
   ],
   "id": "4a4db7a20b15287d",
   "execution_count": 88,
   "outputs": []
  },
  {
   "metadata": {
    "ExecuteTime": {
     "end_time": "2024-04-09T03:34:44.155527Z",
     "start_time": "2024-04-09T03:34:44.142076Z"
    }
   },
   "cell_type": "code",
   "source": [
    "from sklearn.neighbors import KNeighborsClassifier\n",
    "from sklearn.model_selection import train_test_split\n",
    "from sklearn.model_selection import cross_val_score"
   ],
   "id": "475dfe7580782a5",
   "execution_count": 89,
   "outputs": []
  },
  {
   "metadata": {
    "ExecuteTime": {
     "end_time": "2024-04-09T03:34:44.171527Z",
     "start_time": "2024-04-09T03:34:44.157529Z"
    }
   },
   "cell_type": "code",
   "source": [
    "x,y = cdata,target\n",
    "x_train,x_test,y_train,y_test = train_test_split(x,y,random_state=0)\n",
    "x_train.shape"
   ],
   "id": "e30ad6b2b9186d63",
   "execution_count": 90,
   "outputs": []
  },
  {
   "metadata": {
    "ExecuteTime": {
     "end_time": "2024-06-05T02:30:23.898672Z",
     "start_time": "2024-06-05T02:30:23.234179Z"
    }
   },
   "cell_type": "code",
   "source": [
    "k_range = range(1,15)\n",
    "k_error = []\n",
    "for k in k_range:\n",
    "    model = KNeighborsClassifier(n_neighbors=k)\n",
    "    scores = cross_val_score(model,x,y,cv=5,scoring='accuracy')\n",
    "    k_error.append(1-scores.mean())"
   ],
   "id": "f09e08b0693adee4",
   "execution_count": 1,
   "outputs": []
  },
  {
   "metadata": {
    "ExecuteTime": {
     "end_time": "2024-04-09T03:34:44.448594Z",
     "start_time": "2024-04-09T03:34:44.357538Z"
    }
   },
   "cell_type": "code",
   "source": [
    "plt.plot(k_range,k_error,'r--')\n",
    "plt.xlabel('the value of k')\n",
    "plt.ylabel('the predicted error rate')\n",
    "plt.show()"
   ],
   "id": "da1827730829e551",
   "execution_count": 92,
   "outputs": []
  },
  {
   "metadata": {
    "ExecuteTime": {
     "end_time": "2024-04-09T03:34:44.464549Z",
     "start_time": "2024-04-09T03:34:44.450540Z"
    }
   },
   "cell_type": "code",
   "source": [
    "from sklearn.metrics import accuracy_score\n",
    "model = KNeighborsClassifier(n_neighbors=9)\n",
    "model.fit(x_train,y_train)\n",
    "pred = model.predict(x_test)\n",
    "ac = accuracy_score(y_test,pred)\n",
    "print('k=9模型的准确率是:',ac)\n",
    "print('测试集的预测标签值为:',pred)\n",
    "print('测试集真实的标签值为',y_test)"
   ],
   "id": "18e6e60beafc8eba",
   "execution_count": 93,
   "outputs": []
  },
  {
   "metadata": {},
   "cell_type": "markdown",
   "source": "# 若未进行预处理对比",
   "id": "60ac4150fa4dbbcb"
  },
  {
   "metadata": {
    "ExecuteTime": {
     "end_time": "2024-04-09T03:44:14.600172Z",
     "start_time": "2024-04-09T03:44:14.152947Z"
    }
   },
   "cell_type": "code",
   "source": [
    "data = dataset.iloc[:,range(1,14)]\n",
    "target = dataset.iloc[:,0].values.reshape(1,178)[0]\n",
    "x,y = data,target\n",
    "x_train,x_test,y_train,y_test = train_test_split(x,y,random_state=0)\n",
    "k_range = range(1,15)\n",
    "k_error = []\n",
    "for k in k_range:\n",
    "    model1 = KNeighborsClassifier(n_neighbors=k)\n",
    "    scores = cross_val_score(model,x,y,cv=5,scoring='accuracy')\n",
    "    k_error.append(1-scores.mean())\n",
    "plt.plot(k_range,k_error,'r--')\n",
    "plt.xlabel('the value of k')\n",
    "plt.ylabel('the predicted error rate')\n",
    "plt.show()"
   ],
   "id": "39bbd9018390c217",
   "execution_count": 98,
   "outputs": []
  },
  {
   "metadata": {
    "ExecuteTime": {
     "end_time": "2024-04-09T03:44:55.593754Z",
     "start_time": "2024-04-09T03:44:55.575748Z"
    }
   },
   "cell_type": "code",
   "source": [
    "from sklearn.metrics import accuracy_score\n",
    "model1 = KNeighborsClassifier(n_neighbors=9)\n",
    "model1.fit(x_train,y_train)\n",
    "pred = model1.predict(x_test)\n",
    "ac = accuracy_score(y_test,pred)\n",
    "print('k=9模型的准确率是:',ac)\n",
    "print('测试集的预测标签值为:',pred)\n",
    "print('测试集真实的标签值为',y_test)"
   ],
   "id": "c47436dfb70877b3",
   "execution_count": 99,
   "outputs": []
  }
 ],
 "metadata": {
  "kernelspec": {
   "display_name": "Python 3",
   "language": "python",
   "name": "python3"
  },
  "language_info": {
   "codemirror_mode": {
    "name": "ipython",
    "version": 2
   },
   "file_extension": ".py",
   "mimetype": "text/x-python",
   "name": "python",
   "nbconvert_exporter": "python",
   "pygments_lexer": "ipython2",
   "version": "2.7.6"
  }
 },
 "nbformat": 4,
 "nbformat_minor": 5
}
