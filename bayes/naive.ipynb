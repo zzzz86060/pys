{
 "cells": [
  {
   "metadata": {},
   "cell_type": "markdown",
   "source": "### 朴素贝叶斯 鸢尾花\n",
   "id": "97fcbcb7d529aea"
  },
  {
   "metadata": {
    "ExecuteTime": {
     "end_time": "2024-04-16T03:48:32.292828Z",
     "start_time": "2024-04-16T03:48:32.268807Z"
    }
   },
   "cell_type": "code",
   "source": [
    "from sklearn.datasets import load_iris\n",
    "from sklearn.model_selection import train_test_split\n",
    "from sklearn.naive_bayes import GaussianNB\n",
    "from sklearn.metrics import accuracy_score\n",
    "\n",
    "x,y = load_iris().data,load_iris().target\n",
    "x_train,x_test,y_train,y_test = train_test_split(x,y,random_state=1,test_size=50)\n",
    "len(x_test)\n",
    "\n",
    "\n",
    "#训练模型\n",
    "model = GaussianNB()\n",
    "model.fit(x_train,y_train)\n",
    "\n",
    "#评估\n",
    "pred = model.predict(x_test)\n",
    "print('预测集数据的预测标签是：',pred)\n",
    "print('测试机数据的真实标签是:',y_test)\n",
    "acc = accuracy_score(y_test,pred)\n",
    "print('预测的准确率是：',acc)\n",
    "sum(pred!=y_test)"
   ],
   "id": "e51866bf1485c641",
   "outputs": [
    {
     "name": "stdout",
     "output_type": "stream",
     "text": [
      "预测集数据的预测标签是： [0 1 1 0 2 2 2 0 0 2 1 0 2 1 1 0 1 1 0 0 1 1 2 0 2 1 0 0 1 2 1 2 1 2 2 0 1\n",
      " 0 1 2 2 0 1 2 1 2 0 0 0 1]\n",
      "测试机数据的真实标签是: [0 1 1 0 2 1 2 0 0 2 1 0 2 1 1 0 1 1 0 0 1 1 1 0 2 1 0 0 1 2 1 2 1 2 2 0 1\n",
      " 0 1 2 2 0 2 2 1 2 0 0 0 1]\n",
      "预测的准确率是： 0.94\n"
     ]
    },
    {
     "data": {
      "text/plain": [
       "3"
      ]
     },
     "execution_count": 12,
     "metadata": {},
     "output_type": "execute_result"
    }
   ],
   "execution_count": 12
  },
  {
   "metadata": {},
   "cell_type": "markdown",
   "source": "# 垃圾邮件",
   "id": "fdff3082d250a0a0"
  },
  {
   "metadata": {
    "ExecuteTime": {
     "end_time": "2024-04-16T03:42:43.531619Z",
     "start_time": "2024-04-16T03:42:43.525619Z"
    }
   },
   "cell_type": "code",
   "source": [
    "import os \n",
    "normalFileList = os.listdir('../bayes/normal')\n",
    "spamFileList = os.listdir('../bayes/spam')\n",
    "print('正常邮件列表为：',normalFileList)\n",
    "print('垃圾邮件列表为：',spamFileList)"
   ],
   "id": "ed319db6be7ee7b0",
   "outputs": [
    {
     "name": "stdout",
     "output_type": "stream",
     "text": [
      "正常邮件列表为： ['normal-mail1.txt', 'normal-mail2.txt', 'normal-mail3.txt', 'normal-mail4.txt', 'normal-mail5.txt', 'normal-mail6.txt', 'normal-mail7.txt', 'normal-mail8.txt', 'normal-mail9.txt']\n",
      "垃圾邮件列表为： ['spam-mail1.txt', 'spam-mail2.txt', 'spam-mail3.txt', 'spam-mail4.txt', 'spam-mail5.txt', 'spam-mail6.txt', 'spam-mail7.txt', 'spam-mail8.txt', 'spam-mail9.txt']\n"
     ]
    }
   ],
   "execution_count": 3
  },
  {
   "metadata": {
    "ExecuteTime": {
     "end_time": "2024-04-16T03:47:32.081433Z",
     "start_time": "2024-04-16T03:47:32.076408Z"
    }
   },
   "cell_type": "code",
   "source": [
    "stopList = []\n",
    "for line in open('../bayes/stopwords.txt','r',encoding='utf-8'):\n",
    "    stopList.append(line[:len(line) - 1])\n",
    "print(stopList)"
   ],
   "id": "344f0c1b2584c3d1",
   "outputs": [
    {
     "name": "stdout",
     "output_type": "stream",
     "text": [
      "['啊', '阿', '哎', '哎呀', '唉', '于是', '还']\n"
     ]
    }
   ],
   "execution_count": 6
  },
  {
   "metadata": {},
   "cell_type": "code",
   "outputs": [],
   "execution_count": null,
   "source": "import jieba",
   "id": "cb70acbc06129f6a"
  }
 ],
 "metadata": {
  "kernelspec": {
   "display_name": "Python 3",
   "language": "python",
   "name": "python3"
  },
  "language_info": {
   "codemirror_mode": {
    "name": "ipython",
    "version": 2
   },
   "file_extension": ".py",
   "mimetype": "text/x-python",
   "name": "python",
   "nbconvert_exporter": "python",
   "pygments_lexer": "ipython2",
   "version": "2.7.6"
  }
 },
 "nbformat": 4,
 "nbformat_minor": 5
}
