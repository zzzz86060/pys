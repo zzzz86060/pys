{
 "cells": [
  {
   "cell_type": "code",
   "source": [
    "import paddle\n"
   ],
   "metadata": {
    "collapsed": false,
    "ExecuteTime": {
     "end_time": "2024-03-15T02:43:20.549459Z",
     "start_time": "2024-03-15T02:43:20.530462Z"
    }
   },
   "id": "99f8b480cd1466c8",
   "execution_count": 5,
   "outputs": []
  },
  {
   "cell_type": "code",
   "source": [],
   "metadata": {
    "collapsed": false,
    "ExecuteTime": {
     "end_time": "2024-03-15T02:43:37.835295Z",
     "start_time": "2024-03-15T02:43:33.838858Z"
    }
   },
   "id": "3fd30de39351a915",
   "execution_count": 6,
   "outputs": []
  },
  {
   "cell_type": "code",
   "source": [
    "class Regressor(paddle.nn.Layer):\n",
    "    def __init__(self):\n",
    "        super(Regressor,self).__init__()\n",
    "        \n",
    "        self.fc = Linear(in_features=13, out_features=1)\n",
    "        \n",
    "    def forward(self,inputs):\n",
    "        x = self.fc(inputs)\n",
    "        return x"
   ],
   "metadata": {
    "collapsed": false,
    "ExecuteTime": {
     "end_time": "2024-03-15T02:43:38.083004Z",
     "start_time": "2024-03-15T02:43:38.048005Z"
    }
   },
   "id": "fc54c95a0dba2c52",
   "execution_count": 7,
   "outputs": []
  },
  {
   "cell_type": "code",
   "source": [
    "model = Regressor()\n",
    "model.train()\n",
    "training_data,test_data = load_data()\n",
    "opt = paddle.optimizer.SGD(learning_rate=0.001,parameters=model.parameters())"
   ],
   "metadata": {
    "collapsed": false
   },
   "id": "f8e28a4e2b89e3c2",
   "execution_count": null,
   "outputs": []
  },
  {
   "cell_type": "code",
   "source": [
    "poch_num=20\n",
    "batch_size=10\n",
    "for epoch_id in range(epoch_num):\n",
    "    np.random.shuffle(training_data)\n",
    "\n",
    "mini_batches=[training_data[k:k+batch_size]for k in range(0,len(traing_data),batch_size)]\n",
    "\n",
    "\n",
    "for iter_id,mini_batch in enumerate(mini_batches):\n",
    "    x=np.array(mini_batch[:,:-1])\n",
    "    y=np.array(mini_batch[:,-1])\n",
    "    hous_feature=paddle.to_tensor(x,dtype='float32')\n",
    "    prices=paddle.to_tensor(y,dtype='float32')\n",
    "    predicts=model(house_features)\n",
    "    loss=F.square_error_cost(predicts,lable=prices)\n",
    "    avg_loss=paddle,mean(loss)\n",
    "\n",
    "    if iter_id%10==0:\n",
    "    print('epoch:{}, iter{}, loss is :{}'.format(epoch_id,iter_id,avg_loss.numpy()))\n",
    "    avg_loss.backward()\n",
    "    opt.step()\n",
    "    opt.clear_grad()"
   ],
   "metadata": {
    "collapsed": false
   },
   "id": "134b8e87943f4a76",
   "execution_count": null,
   "outputs": []
  }
 ],
 "metadata": {
  "kernelspec": {
   "display_name": "Python 3",
   "language": "python",
   "name": "python3"
  },
  "language_info": {
   "codemirror_mode": {
    "name": "ipython",
    "version": 2
   },
   "file_extension": ".py",
   "mimetype": "text/x-python",
   "name": "python",
   "nbconvert_exporter": "python",
   "pygments_lexer": "ipython2",
   "version": "2.7.6"
  }
 },
 "nbformat": 4,
 "nbformat_minor": 5
}
